{
 "cells": [
  {
   "cell_type": "code",
   "execution_count": 1,
   "id": "84885b5b-c681-495b-b789-9ed272a3db43",
   "metadata": {
    "execution": {
     "iopub.execute_input": "2024-11-10T02:42:33.213008Z",
     "iopub.status.busy": "2024-11-10T02:42:33.212548Z",
     "iopub.status.idle": "2024-11-10T02:43:05.787738Z",
     "shell.execute_reply": "2024-11-10T02:43:05.787240Z",
     "shell.execute_reply.started": "2024-11-10T02:42:33.212968Z"
    }
   },
   "outputs": [
    {
     "name": "stdout",
     "output_type": "stream",
     "text": [
      "Requirement already satisfied: langchain-google-genai in /usr/local/lib/python3.11/dist-packages (2.0.4)\n",
      "Requirement already satisfied: google-generativeai<0.9.0,>=0.8.0 in /usr/local/lib/python3.11/dist-packages (from langchain-google-genai) (0.8.3)\n",
      "Requirement already satisfied: langchain-core<0.4,>=0.3.15 in /usr/local/lib/python3.11/dist-packages (from langchain-google-genai) (0.3.15)\n",
      "Requirement already satisfied: pydantic<3,>=2 in /usr/local/lib/python3.11/dist-packages (from langchain-google-genai) (2.9.2)\n",
      "Requirement already satisfied: google-ai-generativelanguage==0.6.10 in /usr/local/lib/python3.11/dist-packages (from google-generativeai<0.9.0,>=0.8.0->langchain-google-genai) (0.6.10)\n",
      "Requirement already satisfied: google-api-core in /usr/local/lib/python3.11/dist-packages (from google-generativeai<0.9.0,>=0.8.0->langchain-google-genai) (2.22.0)\n",
      "Requirement already satisfied: google-api-python-client in /usr/local/lib/python3.11/dist-packages (from google-generativeai<0.9.0,>=0.8.0->langchain-google-genai) (2.151.0)\n",
      "Requirement already satisfied: google-auth>=2.15.0 in /usr/local/lib/python3.11/dist-packages (from google-generativeai<0.9.0,>=0.8.0->langchain-google-genai) (2.26.2)\n",
      "Requirement already satisfied: protobuf in /usr/local/lib/python3.11/dist-packages (from google-generativeai<0.9.0,>=0.8.0->langchain-google-genai) (5.28.3)\n",
      "Requirement already satisfied: tqdm in /usr/local/lib/python3.11/dist-packages (from google-generativeai<0.9.0,>=0.8.0->langchain-google-genai) (4.66.1)\n",
      "Requirement already satisfied: typing-extensions in /usr/local/lib/python3.11/dist-packages (from google-generativeai<0.9.0,>=0.8.0->langchain-google-genai) (4.9.0)\n",
      "Requirement already satisfied: proto-plus<2.0.0dev,>=1.22.3 in /usr/local/lib/python3.11/dist-packages (from google-ai-generativelanguage==0.6.10->google-generativeai<0.9.0,>=0.8.0->langchain-google-genai) (1.25.0)\n",
      "Requirement already satisfied: PyYAML>=5.3 in /usr/local/lib/python3.11/dist-packages (from langchain-core<0.4,>=0.3.15->langchain-google-genai) (6.0.2)\n",
      "Requirement already satisfied: jsonpatch<2.0,>=1.33 in /usr/local/lib/python3.11/dist-packages (from langchain-core<0.4,>=0.3.15->langchain-google-genai) (1.33)\n",
      "Requirement already satisfied: langsmith<0.2.0,>=0.1.125 in /usr/local/lib/python3.11/dist-packages (from langchain-core<0.4,>=0.3.15->langchain-google-genai) (0.1.142)\n",
      "Requirement already satisfied: packaging<25,>=23.2 in /usr/local/lib/python3.11/dist-packages (from langchain-core<0.4,>=0.3.15->langchain-google-genai) (23.2)\n",
      "Requirement already satisfied: tenacity!=8.4.0,<10.0.0,>=8.1.0 in /usr/local/lib/python3.11/dist-packages (from langchain-core<0.4,>=0.3.15->langchain-google-genai) (9.0.0)\n",
      "Requirement already satisfied: annotated-types>=0.6.0 in /usr/local/lib/python3.11/dist-packages (from pydantic<3,>=2->langchain-google-genai) (0.7.0)\n",
      "Requirement already satisfied: pydantic-core==2.23.4 in /usr/local/lib/python3.11/dist-packages (from pydantic<3,>=2->langchain-google-genai) (2.23.4)\n",
      "Requirement already satisfied: googleapis-common-protos<2.0.dev0,>=1.56.2 in /usr/local/lib/python3.11/dist-packages (from google-api-core->google-generativeai<0.9.0,>=0.8.0->langchain-google-genai) (1.65.0)\n",
      "Requirement already satisfied: requests<3.0.0.dev0,>=2.18.0 in /usr/local/lib/python3.11/dist-packages (from google-api-core->google-generativeai<0.9.0,>=0.8.0->langchain-google-genai) (2.31.0)\n",
      "Requirement already satisfied: cachetools<6.0,>=2.0.0 in /usr/local/lib/python3.11/dist-packages (from google-auth>=2.15.0->google-generativeai<0.9.0,>=0.8.0->langchain-google-genai) (5.3.2)\n",
      "Requirement already satisfied: pyasn1-modules>=0.2.1 in /usr/local/lib/python3.11/dist-packages (from google-auth>=2.15.0->google-generativeai<0.9.0,>=0.8.0->langchain-google-genai) (0.3.0)\n",
      "Requirement already satisfied: rsa<5,>=3.1.4 in /usr/lib/python3/dist-packages (from google-auth>=2.15.0->google-generativeai<0.9.0,>=0.8.0->langchain-google-genai) (4.8)\n",
      "Requirement already satisfied: jsonpointer>=1.9 in /usr/local/lib/python3.11/dist-packages (from jsonpatch<2.0,>=1.33->langchain-core<0.4,>=0.3.15->langchain-google-genai) (2.4)\n",
      "Requirement already satisfied: httpx<1,>=0.23.0 in /usr/local/lib/python3.11/dist-packages (from langsmith<0.2.0,>=0.1.125->langchain-core<0.4,>=0.3.15->langchain-google-genai) (0.27.2)\n",
      "Requirement already satisfied: orjson<4.0.0,>=3.9.14 in /usr/local/lib/python3.11/dist-packages (from langsmith<0.2.0,>=0.1.125->langchain-core<0.4,>=0.3.15->langchain-google-genai) (3.10.11)\n",
      "Requirement already satisfied: requests-toolbelt<2.0.0,>=1.0.0 in /usr/local/lib/python3.11/dist-packages (from langsmith<0.2.0,>=0.1.125->langchain-core<0.4,>=0.3.15->langchain-google-genai) (1.0.0)\n",
      "Requirement already satisfied: httplib2<1.dev0,>=0.19.0 in /usr/lib/python3/dist-packages (from google-api-python-client->google-generativeai<0.9.0,>=0.8.0->langchain-google-genai) (0.20.2)\n",
      "Requirement already satisfied: google-auth-httplib2<1.0.0,>=0.2.0 in /usr/local/lib/python3.11/dist-packages (from google-api-python-client->google-generativeai<0.9.0,>=0.8.0->langchain-google-genai) (0.2.0)\n",
      "Requirement already satisfied: uritemplate<5,>=3.0.1 in /usr/local/lib/python3.11/dist-packages (from google-api-python-client->google-generativeai<0.9.0,>=0.8.0->langchain-google-genai) (4.1.1)\n",
      "Requirement already satisfied: grpcio<2.0dev,>=1.33.2 in /usr/local/lib/python3.11/dist-packages (from google-api-core[grpc]!=2.0.*,!=2.1.*,!=2.10.*,!=2.2.*,!=2.3.*,!=2.4.*,!=2.5.*,!=2.6.*,!=2.7.*,!=2.8.*,!=2.9.*,<3.0.0dev,>=1.34.1->google-ai-generativelanguage==0.6.10->google-generativeai<0.9.0,>=0.8.0->langchain-google-genai) (1.67.1)\n",
      "Requirement already satisfied: grpcio-status<2.0.dev0,>=1.33.2 in /usr/local/lib/python3.11/dist-packages (from google-api-core[grpc]!=2.0.*,!=2.1.*,!=2.10.*,!=2.2.*,!=2.3.*,!=2.4.*,!=2.5.*,!=2.6.*,!=2.7.*,!=2.8.*,!=2.9.*,<3.0.0dev,>=1.34.1->google-ai-generativelanguage==0.6.10->google-generativeai<0.9.0,>=0.8.0->langchain-google-genai) (1.67.1)\n",
      "Requirement already satisfied: pyparsing!=3.0.0,!=3.0.1,!=3.0.2,!=3.0.3,<4,>=2.4.2 in /usr/lib/python3/dist-packages (from httplib2<1.dev0,>=0.19.0->google-api-python-client->google-generativeai<0.9.0,>=0.8.0->langchain-google-genai) (2.4.7)\n",
      "Requirement already satisfied: anyio in /usr/local/lib/python3.11/dist-packages (from httpx<1,>=0.23.0->langsmith<0.2.0,>=0.1.125->langchain-core<0.4,>=0.3.15->langchain-google-genai) (4.2.0)\n",
      "Requirement already satisfied: certifi in /usr/lib/python3/dist-packages (from httpx<1,>=0.23.0->langsmith<0.2.0,>=0.1.125->langchain-core<0.4,>=0.3.15->langchain-google-genai) (2020.6.20)\n",
      "Requirement already satisfied: httpcore==1.* in /usr/local/lib/python3.11/dist-packages (from httpx<1,>=0.23.0->langsmith<0.2.0,>=0.1.125->langchain-core<0.4,>=0.3.15->langchain-google-genai) (1.0.6)\n",
      "Requirement already satisfied: idna in /usr/lib/python3/dist-packages (from httpx<1,>=0.23.0->langsmith<0.2.0,>=0.1.125->langchain-core<0.4,>=0.3.15->langchain-google-genai) (3.3)\n",
      "Requirement already satisfied: sniffio in /usr/local/lib/python3.11/dist-packages (from httpx<1,>=0.23.0->langsmith<0.2.0,>=0.1.125->langchain-core<0.4,>=0.3.15->langchain-google-genai) (1.3.0)\n",
      "Requirement already satisfied: h11<0.15,>=0.13 in /usr/local/lib/python3.11/dist-packages (from httpcore==1.*->httpx<1,>=0.23.0->langsmith<0.2.0,>=0.1.125->langchain-core<0.4,>=0.3.15->langchain-google-genai) (0.14.0)\n",
      "Requirement already satisfied: pyasn1<0.6.0,>=0.4.6 in /usr/lib/python3/dist-packages (from pyasn1-modules>=0.2.1->google-auth>=2.15.0->google-generativeai<0.9.0,>=0.8.0->langchain-google-genai) (0.4.8)\n",
      "Requirement already satisfied: charset-normalizer<4,>=2 in /usr/local/lib/python3.11/dist-packages (from requests<3.0.0.dev0,>=2.18.0->google-api-core->google-generativeai<0.9.0,>=0.8.0->langchain-google-genai) (3.3.2)\n",
      "Requirement already satisfied: urllib3<3,>=1.21.1 in /usr/local/lib/python3.11/dist-packages (from requests<3.0.0.dev0,>=2.18.0->google-api-core->google-generativeai<0.9.0,>=0.8.0->langchain-google-genai) (2.0.7)\n",
      "\u001b[33mWARNING: Running pip as the 'root' user can result in broken permissions and conflicting behaviour with the system package manager. It is recommended to use a virtual environment instead: https://pip.pypa.io/warnings/venv\u001b[0m\u001b[33m\n",
      "\u001b[0mRequirement already satisfied: langchain-huggingface in /usr/local/lib/python3.11/dist-packages (0.1.2)\n",
      "Requirement already satisfied: huggingface-hub>=0.23.0 in /usr/local/lib/python3.11/dist-packages (from langchain-huggingface) (0.24.7)\n",
      "Requirement already satisfied: langchain-core<0.4.0,>=0.3.15 in /usr/local/lib/python3.11/dist-packages (from langchain-huggingface) (0.3.15)\n",
      "Requirement already satisfied: sentence-transformers>=2.6.0 in /usr/local/lib/python3.11/dist-packages (from langchain-huggingface) (3.2.1)\n",
      "Requirement already satisfied: tokenizers>=0.19.1 in /usr/local/lib/python3.11/dist-packages (from langchain-huggingface) (0.20.3)\n",
      "Requirement already satisfied: transformers>=4.39.0 in /usr/local/lib/python3.11/dist-packages (from langchain-huggingface) (4.46.2)\n",
      "Requirement already satisfied: filelock in /usr/local/lib/python3.11/dist-packages (from huggingface-hub>=0.23.0->langchain-huggingface) (3.13.1)\n",
      "Requirement already satisfied: fsspec>=2023.5.0 in /usr/local/lib/python3.11/dist-packages (from huggingface-hub>=0.23.0->langchain-huggingface) (2023.6.0)\n",
      "Requirement already satisfied: packaging>=20.9 in /usr/local/lib/python3.11/dist-packages (from huggingface-hub>=0.23.0->langchain-huggingface) (23.2)\n",
      "Requirement already satisfied: pyyaml>=5.1 in /usr/local/lib/python3.11/dist-packages (from huggingface-hub>=0.23.0->langchain-huggingface) (6.0.2)\n",
      "Requirement already satisfied: requests in /usr/local/lib/python3.11/dist-packages (from huggingface-hub>=0.23.0->langchain-huggingface) (2.31.0)\n",
      "Requirement already satisfied: tqdm>=4.42.1 in /usr/local/lib/python3.11/dist-packages (from huggingface-hub>=0.23.0->langchain-huggingface) (4.66.1)\n",
      "Requirement already satisfied: typing-extensions>=3.7.4.3 in /usr/local/lib/python3.11/dist-packages (from huggingface-hub>=0.23.0->langchain-huggingface) (4.9.0)\n",
      "Requirement already satisfied: jsonpatch<2.0,>=1.33 in /usr/local/lib/python3.11/dist-packages (from langchain-core<0.4.0,>=0.3.15->langchain-huggingface) (1.33)\n",
      "Requirement already satisfied: langsmith<0.2.0,>=0.1.125 in /usr/local/lib/python3.11/dist-packages (from langchain-core<0.4.0,>=0.3.15->langchain-huggingface) (0.1.142)\n",
      "Requirement already satisfied: pydantic<3.0.0,>=2.5.2 in /usr/local/lib/python3.11/dist-packages (from langchain-core<0.4.0,>=0.3.15->langchain-huggingface) (2.9.2)\n",
      "Requirement already satisfied: tenacity!=8.4.0,<10.0.0,>=8.1.0 in /usr/local/lib/python3.11/dist-packages (from langchain-core<0.4.0,>=0.3.15->langchain-huggingface) (9.0.0)\n",
      "Requirement already satisfied: torch>=1.11.0 in /usr/local/lib/python3.11/dist-packages (from sentence-transformers>=2.6.0->langchain-huggingface) (2.1.1+cu121)\n",
      "Requirement already satisfied: scikit-learn in /usr/local/lib/python3.11/dist-packages (from sentence-transformers>=2.6.0->langchain-huggingface) (1.3.0)\n",
      "Requirement already satisfied: scipy in /usr/local/lib/python3.11/dist-packages (from sentence-transformers>=2.6.0->langchain-huggingface) (1.11.2)\n",
      "Requirement already satisfied: Pillow in /usr/local/lib/python3.11/dist-packages (from sentence-transformers>=2.6.0->langchain-huggingface) (9.5.0)\n",
      "Requirement already satisfied: numpy>=1.17 in /usr/local/lib/python3.11/dist-packages (from transformers>=4.39.0->langchain-huggingface) (1.26.3)\n",
      "Requirement already satisfied: regex!=2019.12.17 in /usr/local/lib/python3.11/dist-packages (from transformers>=4.39.0->langchain-huggingface) (2023.12.25)\n",
      "Requirement already satisfied: safetensors>=0.4.1 in /usr/local/lib/python3.11/dist-packages (from transformers>=4.39.0->langchain-huggingface) (0.4.5)\n",
      "Requirement already satisfied: jsonpointer>=1.9 in /usr/local/lib/python3.11/dist-packages (from jsonpatch<2.0,>=1.33->langchain-core<0.4.0,>=0.3.15->langchain-huggingface) (2.4)\n",
      "Requirement already satisfied: httpx<1,>=0.23.0 in /usr/local/lib/python3.11/dist-packages (from langsmith<0.2.0,>=0.1.125->langchain-core<0.4.0,>=0.3.15->langchain-huggingface) (0.27.2)\n",
      "Requirement already satisfied: orjson<4.0.0,>=3.9.14 in /usr/local/lib/python3.11/dist-packages (from langsmith<0.2.0,>=0.1.125->langchain-core<0.4.0,>=0.3.15->langchain-huggingface) (3.10.11)\n",
      "Requirement already satisfied: requests-toolbelt<2.0.0,>=1.0.0 in /usr/local/lib/python3.11/dist-packages (from langsmith<0.2.0,>=0.1.125->langchain-core<0.4.0,>=0.3.15->langchain-huggingface) (1.0.0)\n",
      "Requirement already satisfied: annotated-types>=0.6.0 in /usr/local/lib/python3.11/dist-packages (from pydantic<3.0.0,>=2.5.2->langchain-core<0.4.0,>=0.3.15->langchain-huggingface) (0.7.0)\n",
      "Requirement already satisfied: pydantic-core==2.23.4 in /usr/local/lib/python3.11/dist-packages (from pydantic<3.0.0,>=2.5.2->langchain-core<0.4.0,>=0.3.15->langchain-huggingface) (2.23.4)\n",
      "Requirement already satisfied: charset-normalizer<4,>=2 in /usr/local/lib/python3.11/dist-packages (from requests->huggingface-hub>=0.23.0->langchain-huggingface) (3.3.2)\n",
      "Requirement already satisfied: idna<4,>=2.5 in /usr/lib/python3/dist-packages (from requests->huggingface-hub>=0.23.0->langchain-huggingface) (3.3)\n",
      "Requirement already satisfied: urllib3<3,>=1.21.1 in /usr/local/lib/python3.11/dist-packages (from requests->huggingface-hub>=0.23.0->langchain-huggingface) (2.0.7)\n",
      "Requirement already satisfied: certifi>=2017.4.17 in /usr/lib/python3/dist-packages (from requests->huggingface-hub>=0.23.0->langchain-huggingface) (2020.6.20)\n",
      "Requirement already satisfied: sympy in /usr/local/lib/python3.11/dist-packages (from torch>=1.11.0->sentence-transformers>=2.6.0->langchain-huggingface) (1.12)\n",
      "Requirement already satisfied: networkx in /usr/local/lib/python3.11/dist-packages (from torch>=1.11.0->sentence-transformers>=2.6.0->langchain-huggingface) (3.2.1)\n",
      "Requirement already satisfied: jinja2 in /usr/local/lib/python3.11/dist-packages (from torch>=1.11.0->sentence-transformers>=2.6.0->langchain-huggingface) (3.1.3)\n",
      "Requirement already satisfied: triton==2.1.0 in /usr/local/lib/python3.11/dist-packages (from torch>=1.11.0->sentence-transformers>=2.6.0->langchain-huggingface) (2.1.0)\n",
      "Requirement already satisfied: joblib>=1.1.1 in /usr/local/lib/python3.11/dist-packages (from scikit-learn->sentence-transformers>=2.6.0->langchain-huggingface) (1.3.2)\n",
      "Requirement already satisfied: threadpoolctl>=2.0.0 in /usr/local/lib/python3.11/dist-packages (from scikit-learn->sentence-transformers>=2.6.0->langchain-huggingface) (3.2.0)\n",
      "Requirement already satisfied: anyio in /usr/local/lib/python3.11/dist-packages (from httpx<1,>=0.23.0->langsmith<0.2.0,>=0.1.125->langchain-core<0.4.0,>=0.3.15->langchain-huggingface) (4.2.0)\n",
      "Requirement already satisfied: httpcore==1.* in /usr/local/lib/python3.11/dist-packages (from httpx<1,>=0.23.0->langsmith<0.2.0,>=0.1.125->langchain-core<0.4.0,>=0.3.15->langchain-huggingface) (1.0.6)\n",
      "Requirement already satisfied: sniffio in /usr/local/lib/python3.11/dist-packages (from httpx<1,>=0.23.0->langsmith<0.2.0,>=0.1.125->langchain-core<0.4.0,>=0.3.15->langchain-huggingface) (1.3.0)\n",
      "Requirement already satisfied: h11<0.15,>=0.13 in /usr/local/lib/python3.11/dist-packages (from httpcore==1.*->httpx<1,>=0.23.0->langsmith<0.2.0,>=0.1.125->langchain-core<0.4.0,>=0.3.15->langchain-huggingface) (0.14.0)\n",
      "Requirement already satisfied: MarkupSafe>=2.0 in /usr/local/lib/python3.11/dist-packages (from jinja2->torch>=1.11.0->sentence-transformers>=2.6.0->langchain-huggingface) (2.1.4)\n",
      "Requirement already satisfied: mpmath>=0.19 in /usr/local/lib/python3.11/dist-packages (from sympy->torch>=1.11.0->sentence-transformers>=2.6.0->langchain-huggingface) (1.3.0)\n",
      "\u001b[33mWARNING: Running pip as the 'root' user can result in broken permissions and conflicting behaviour with the system package manager. It is recommended to use a virtual environment instead: https://pip.pypa.io/warnings/venv\u001b[0m\u001b[33m\n",
      "\u001b[0mRequirement already satisfied: pypdf in /usr/local/lib/python3.11/dist-packages (5.1.0)\n",
      "\u001b[33mWARNING: Running pip as the 'root' user can result in broken permissions and conflicting behaviour with the system package manager. It is recommended to use a virtual environment instead: https://pip.pypa.io/warnings/venv\u001b[0m\u001b[33m\n",
      "\u001b[0mRequirement already satisfied: langchain-community in /usr/local/lib/python3.11/dist-packages (0.3.5)\n",
      "Requirement already satisfied: PyYAML>=5.3 in /usr/local/lib/python3.11/dist-packages (from langchain-community) (6.0.2)\n",
      "Requirement already satisfied: SQLAlchemy<2.0.36,>=1.4 in /usr/local/lib/python3.11/dist-packages (from langchain-community) (2.0.21)\n",
      "Requirement already satisfied: aiohttp<4.0.0,>=3.8.3 in /usr/local/lib/python3.11/dist-packages (from langchain-community) (3.9.1)\n",
      "Requirement already satisfied: dataclasses-json<0.7,>=0.5.7 in /usr/local/lib/python3.11/dist-packages (from langchain-community) (0.6.7)\n",
      "Requirement already satisfied: httpx-sse<0.5.0,>=0.4.0 in /usr/local/lib/python3.11/dist-packages (from langchain-community) (0.4.0)\n",
      "Requirement already satisfied: langchain<0.4.0,>=0.3.6 in /usr/local/lib/python3.11/dist-packages (from langchain-community) (0.3.7)\n",
      "Requirement already satisfied: langchain-core<0.4.0,>=0.3.15 in /usr/local/lib/python3.11/dist-packages (from langchain-community) (0.3.15)\n",
      "Requirement already satisfied: langsmith<0.2.0,>=0.1.125 in /usr/local/lib/python3.11/dist-packages (from langchain-community) (0.1.142)\n",
      "Requirement already satisfied: numpy<2,>=1 in /usr/local/lib/python3.11/dist-packages (from langchain-community) (1.26.3)\n",
      "Requirement already satisfied: pydantic-settings<3.0.0,>=2.4.0 in /usr/local/lib/python3.11/dist-packages (from langchain-community) (2.6.1)\n",
      "Requirement already satisfied: requests<3,>=2 in /usr/local/lib/python3.11/dist-packages (from langchain-community) (2.31.0)\n",
      "Requirement already satisfied: tenacity!=8.4.0,<10,>=8.1.0 in /usr/local/lib/python3.11/dist-packages (from langchain-community) (9.0.0)\n",
      "Requirement already satisfied: attrs>=17.3.0 in /usr/local/lib/python3.11/dist-packages (from aiohttp<4.0.0,>=3.8.3->langchain-community) (23.1.0)\n",
      "Requirement already satisfied: multidict<7.0,>=4.5 in /usr/local/lib/python3.11/dist-packages (from aiohttp<4.0.0,>=3.8.3->langchain-community) (6.0.4)\n",
      "Requirement already satisfied: yarl<2.0,>=1.0 in /usr/local/lib/python3.11/dist-packages (from aiohttp<4.0.0,>=3.8.3->langchain-community) (1.9.4)\n",
      "Requirement already satisfied: frozenlist>=1.1.1 in /usr/local/lib/python3.11/dist-packages (from aiohttp<4.0.0,>=3.8.3->langchain-community) (1.4.1)\n",
      "Requirement already satisfied: aiosignal>=1.1.2 in /usr/local/lib/python3.11/dist-packages (from aiohttp<4.0.0,>=3.8.3->langchain-community) (1.3.1)\n",
      "Requirement already satisfied: marshmallow<4.0.0,>=3.18.0 in /usr/local/lib/python3.11/dist-packages (from dataclasses-json<0.7,>=0.5.7->langchain-community) (3.23.1)\n",
      "Requirement already satisfied: typing-inspect<1,>=0.4.0 in /usr/local/lib/python3.11/dist-packages (from dataclasses-json<0.7,>=0.5.7->langchain-community) (0.9.0)\n",
      "Requirement already satisfied: langchain-text-splitters<0.4.0,>=0.3.0 in /usr/local/lib/python3.11/dist-packages (from langchain<0.4.0,>=0.3.6->langchain-community) (0.3.2)\n",
      "Requirement already satisfied: pydantic<3.0.0,>=2.7.4 in /usr/local/lib/python3.11/dist-packages (from langchain<0.4.0,>=0.3.6->langchain-community) (2.9.2)\n",
      "Requirement already satisfied: jsonpatch<2.0,>=1.33 in /usr/local/lib/python3.11/dist-packages (from langchain-core<0.4.0,>=0.3.15->langchain-community) (1.33)\n",
      "Requirement already satisfied: packaging<25,>=23.2 in /usr/local/lib/python3.11/dist-packages (from langchain-core<0.4.0,>=0.3.15->langchain-community) (23.2)\n",
      "Requirement already satisfied: typing-extensions>=4.7 in /usr/local/lib/python3.11/dist-packages (from langchain-core<0.4.0,>=0.3.15->langchain-community) (4.9.0)\n",
      "Requirement already satisfied: httpx<1,>=0.23.0 in /usr/local/lib/python3.11/dist-packages (from langsmith<0.2.0,>=0.1.125->langchain-community) (0.27.2)\n",
      "Requirement already satisfied: orjson<4.0.0,>=3.9.14 in /usr/local/lib/python3.11/dist-packages (from langsmith<0.2.0,>=0.1.125->langchain-community) (3.10.11)\n",
      "Requirement already satisfied: requests-toolbelt<2.0.0,>=1.0.0 in /usr/local/lib/python3.11/dist-packages (from langsmith<0.2.0,>=0.1.125->langchain-community) (1.0.0)\n",
      "Requirement already satisfied: python-dotenv>=0.21.0 in /usr/local/lib/python3.11/dist-packages (from pydantic-settings<3.0.0,>=2.4.0->langchain-community) (1.0.1)\n",
      "Requirement already satisfied: charset-normalizer<4,>=2 in /usr/local/lib/python3.11/dist-packages (from requests<3,>=2->langchain-community) (3.3.2)\n",
      "Requirement already satisfied: idna<4,>=2.5 in /usr/lib/python3/dist-packages (from requests<3,>=2->langchain-community) (3.3)\n",
      "Requirement already satisfied: urllib3<3,>=1.21.1 in /usr/local/lib/python3.11/dist-packages (from requests<3,>=2->langchain-community) (2.0.7)\n",
      "Requirement already satisfied: certifi>=2017.4.17 in /usr/lib/python3/dist-packages (from requests<3,>=2->langchain-community) (2020.6.20)\n",
      "Requirement already satisfied: greenlet!=0.4.17 in /usr/lib/python3/dist-packages (from SQLAlchemy<2.0.36,>=1.4->langchain-community) (1.1.2)\n",
      "Requirement already satisfied: anyio in /usr/local/lib/python3.11/dist-packages (from httpx<1,>=0.23.0->langsmith<0.2.0,>=0.1.125->langchain-community) (4.2.0)\n",
      "Requirement already satisfied: httpcore==1.* in /usr/local/lib/python3.11/dist-packages (from httpx<1,>=0.23.0->langsmith<0.2.0,>=0.1.125->langchain-community) (1.0.6)\n",
      "Requirement already satisfied: sniffio in /usr/local/lib/python3.11/dist-packages (from httpx<1,>=0.23.0->langsmith<0.2.0,>=0.1.125->langchain-community) (1.3.0)\n",
      "Requirement already satisfied: h11<0.15,>=0.13 in /usr/local/lib/python3.11/dist-packages (from httpcore==1.*->httpx<1,>=0.23.0->langsmith<0.2.0,>=0.1.125->langchain-community) (0.14.0)\n",
      "Requirement already satisfied: jsonpointer>=1.9 in /usr/local/lib/python3.11/dist-packages (from jsonpatch<2.0,>=1.33->langchain-core<0.4.0,>=0.3.15->langchain-community) (2.4)\n",
      "Requirement already satisfied: annotated-types>=0.6.0 in /usr/local/lib/python3.11/dist-packages (from pydantic<3.0.0,>=2.7.4->langchain<0.4.0,>=0.3.6->langchain-community) (0.7.0)\n",
      "Requirement already satisfied: pydantic-core==2.23.4 in /usr/local/lib/python3.11/dist-packages (from pydantic<3.0.0,>=2.7.4->langchain<0.4.0,>=0.3.6->langchain-community) (2.23.4)\n",
      "Requirement already satisfied: mypy-extensions>=0.3.0 in /usr/local/lib/python3.11/dist-packages (from typing-inspect<1,>=0.4.0->dataclasses-json<0.7,>=0.5.7->langchain-community) (1.0.0)\n",
      "\u001b[33mWARNING: Running pip as the 'root' user can result in broken permissions and conflicting behaviour with the system package manager. It is recommended to use a virtual environment instead: https://pip.pypa.io/warnings/venv\u001b[0m\u001b[33m\n",
      "\u001b[0mRequirement already satisfied: langchain-chroma in /usr/local/lib/python3.11/dist-packages (0.1.4)\n",
      "Requirement already satisfied: chromadb!=0.5.4,!=0.5.5,<0.6.0,>=0.4.0 in /usr/local/lib/python3.11/dist-packages (from langchain-chroma) (0.5.18)\n",
      "Requirement already satisfied: fastapi<1,>=0.95.2 in /usr/local/lib/python3.11/dist-packages (from langchain-chroma) (0.115.4)\n",
      "Requirement already satisfied: langchain-core<0.4,>=0.1.40 in /usr/local/lib/python3.11/dist-packages (from langchain-chroma) (0.3.15)\n",
      "Requirement already satisfied: numpy<2,>=1 in /usr/local/lib/python3.11/dist-packages (from langchain-chroma) (1.26.3)\n",
      "Requirement already satisfied: build>=1.0.3 in /usr/local/lib/python3.11/dist-packages (from chromadb!=0.5.4,!=0.5.5,<0.6.0,>=0.4.0->langchain-chroma) (1.2.2.post1)\n",
      "Requirement already satisfied: pydantic>=1.9 in /usr/local/lib/python3.11/dist-packages (from chromadb!=0.5.4,!=0.5.5,<0.6.0,>=0.4.0->langchain-chroma) (2.9.2)\n",
      "Requirement already satisfied: chroma-hnswlib==0.7.6 in /usr/local/lib/python3.11/dist-packages (from chromadb!=0.5.4,!=0.5.5,<0.6.0,>=0.4.0->langchain-chroma) (0.7.6)\n",
      "Requirement already satisfied: uvicorn>=0.18.3 in /usr/local/lib/python3.11/dist-packages (from uvicorn[standard]>=0.18.3->chromadb!=0.5.4,!=0.5.5,<0.6.0,>=0.4.0->langchain-chroma) (0.32.0)\n",
      "Requirement already satisfied: posthog>=2.4.0 in /usr/local/lib/python3.11/dist-packages (from chromadb!=0.5.4,!=0.5.5,<0.6.0,>=0.4.0->langchain-chroma) (3.7.0)\n",
      "Requirement already satisfied: typing-extensions>=4.5.0 in /usr/local/lib/python3.11/dist-packages (from chromadb!=0.5.4,!=0.5.5,<0.6.0,>=0.4.0->langchain-chroma) (4.9.0)\n",
      "Requirement already satisfied: onnxruntime>=1.14.1 in /usr/local/lib/python3.11/dist-packages (from chromadb!=0.5.4,!=0.5.5,<0.6.0,>=0.4.0->langchain-chroma) (1.20.0)\n",
      "Requirement already satisfied: opentelemetry-api>=1.2.0 in /usr/local/lib/python3.11/dist-packages (from chromadb!=0.5.4,!=0.5.5,<0.6.0,>=0.4.0->langchain-chroma) (1.28.1)\n",
      "Requirement already satisfied: opentelemetry-exporter-otlp-proto-grpc>=1.2.0 in /usr/local/lib/python3.11/dist-packages (from chromadb!=0.5.4,!=0.5.5,<0.6.0,>=0.4.0->langchain-chroma) (1.28.1)\n",
      "Requirement already satisfied: opentelemetry-instrumentation-fastapi>=0.41b0 in /usr/local/lib/python3.11/dist-packages (from chromadb!=0.5.4,!=0.5.5,<0.6.0,>=0.4.0->langchain-chroma) (0.49b1)\n",
      "Requirement already satisfied: opentelemetry-sdk>=1.2.0 in /usr/local/lib/python3.11/dist-packages (from chromadb!=0.5.4,!=0.5.5,<0.6.0,>=0.4.0->langchain-chroma) (1.28.1)\n",
      "Requirement already satisfied: tokenizers>=0.13.2 in /usr/local/lib/python3.11/dist-packages (from chromadb!=0.5.4,!=0.5.5,<0.6.0,>=0.4.0->langchain-chroma) (0.20.3)\n",
      "Requirement already satisfied: pypika>=0.48.9 in /usr/local/lib/python3.11/dist-packages (from chromadb!=0.5.4,!=0.5.5,<0.6.0,>=0.4.0->langchain-chroma) (0.48.9)\n",
      "Requirement already satisfied: tqdm>=4.65.0 in /usr/local/lib/python3.11/dist-packages (from chromadb!=0.5.4,!=0.5.5,<0.6.0,>=0.4.0->langchain-chroma) (4.66.1)\n",
      "Requirement already satisfied: overrides>=7.3.1 in /usr/local/lib/python3.11/dist-packages (from chromadb!=0.5.4,!=0.5.5,<0.6.0,>=0.4.0->langchain-chroma) (7.6.0)\n",
      "Requirement already satisfied: importlib-resources in /usr/local/lib/python3.11/dist-packages (from chromadb!=0.5.4,!=0.5.5,<0.6.0,>=0.4.0->langchain-chroma) (6.4.5)\n",
      "Requirement already satisfied: grpcio>=1.58.0 in /usr/local/lib/python3.11/dist-packages (from chromadb!=0.5.4,!=0.5.5,<0.6.0,>=0.4.0->langchain-chroma) (1.67.1)\n",
      "Requirement already satisfied: bcrypt>=4.0.1 in /usr/local/lib/python3.11/dist-packages (from chromadb!=0.5.4,!=0.5.5,<0.6.0,>=0.4.0->langchain-chroma) (4.2.0)\n",
      "Requirement already satisfied: typer>=0.9.0 in /usr/local/lib/python3.11/dist-packages (from chromadb!=0.5.4,!=0.5.5,<0.6.0,>=0.4.0->langchain-chroma) (0.9.0)\n",
      "Requirement already satisfied: kubernetes>=28.1.0 in /usr/local/lib/python3.11/dist-packages (from chromadb!=0.5.4,!=0.5.5,<0.6.0,>=0.4.0->langchain-chroma) (31.0.0)\n",
      "Requirement already satisfied: tenacity>=8.2.3 in /usr/local/lib/python3.11/dist-packages (from chromadb!=0.5.4,!=0.5.5,<0.6.0,>=0.4.0->langchain-chroma) (9.0.0)\n",
      "Requirement already satisfied: PyYAML>=6.0.0 in /usr/local/lib/python3.11/dist-packages (from chromadb!=0.5.4,!=0.5.5,<0.6.0,>=0.4.0->langchain-chroma) (6.0.2)\n",
      "Requirement already satisfied: mmh3>=4.0.1 in /usr/local/lib/python3.11/dist-packages (from chromadb!=0.5.4,!=0.5.5,<0.6.0,>=0.4.0->langchain-chroma) (5.0.1)\n",
      "Requirement already satisfied: orjson>=3.9.12 in /usr/local/lib/python3.11/dist-packages (from chromadb!=0.5.4,!=0.5.5,<0.6.0,>=0.4.0->langchain-chroma) (3.10.11)\n",
      "Requirement already satisfied: httpx>=0.27.0 in /usr/local/lib/python3.11/dist-packages (from chromadb!=0.5.4,!=0.5.5,<0.6.0,>=0.4.0->langchain-chroma) (0.27.2)\n",
      "Requirement already satisfied: rich>=10.11.0 in /usr/local/lib/python3.11/dist-packages (from chromadb!=0.5.4,!=0.5.5,<0.6.0,>=0.4.0->langchain-chroma) (13.9.4)\n",
      "Requirement already satisfied: starlette<0.42.0,>=0.40.0 in /usr/local/lib/python3.11/dist-packages (from fastapi<1,>=0.95.2->langchain-chroma) (0.41.2)\n",
      "Requirement already satisfied: jsonpatch<2.0,>=1.33 in /usr/local/lib/python3.11/dist-packages (from langchain-core<0.4,>=0.1.40->langchain-chroma) (1.33)\n",
      "Requirement already satisfied: langsmith<0.2.0,>=0.1.125 in /usr/local/lib/python3.11/dist-packages (from langchain-core<0.4,>=0.1.40->langchain-chroma) (0.1.142)\n",
      "Requirement already satisfied: packaging<25,>=23.2 in /usr/local/lib/python3.11/dist-packages (from langchain-core<0.4,>=0.1.40->langchain-chroma) (23.2)\n",
      "Requirement already satisfied: pyproject_hooks in /usr/local/lib/python3.11/dist-packages (from build>=1.0.3->chromadb!=0.5.4,!=0.5.5,<0.6.0,>=0.4.0->langchain-chroma) (1.2.0)\n",
      "Requirement already satisfied: anyio in /usr/local/lib/python3.11/dist-packages (from httpx>=0.27.0->chromadb!=0.5.4,!=0.5.5,<0.6.0,>=0.4.0->langchain-chroma) (4.2.0)\n",
      "Requirement already satisfied: certifi in /usr/lib/python3/dist-packages (from httpx>=0.27.0->chromadb!=0.5.4,!=0.5.5,<0.6.0,>=0.4.0->langchain-chroma) (2020.6.20)\n",
      "Requirement already satisfied: httpcore==1.* in /usr/local/lib/python3.11/dist-packages (from httpx>=0.27.0->chromadb!=0.5.4,!=0.5.5,<0.6.0,>=0.4.0->langchain-chroma) (1.0.6)\n",
      "Requirement already satisfied: idna in /usr/lib/python3/dist-packages (from httpx>=0.27.0->chromadb!=0.5.4,!=0.5.5,<0.6.0,>=0.4.0->langchain-chroma) (3.3)\n",
      "Requirement already satisfied: sniffio in /usr/local/lib/python3.11/dist-packages (from httpx>=0.27.0->chromadb!=0.5.4,!=0.5.5,<0.6.0,>=0.4.0->langchain-chroma) (1.3.0)\n",
      "Requirement already satisfied: h11<0.15,>=0.13 in /usr/local/lib/python3.11/dist-packages (from httpcore==1.*->httpx>=0.27.0->chromadb!=0.5.4,!=0.5.5,<0.6.0,>=0.4.0->langchain-chroma) (0.14.0)\n",
      "Requirement already satisfied: jsonpointer>=1.9 in /usr/local/lib/python3.11/dist-packages (from jsonpatch<2.0,>=1.33->langchain-core<0.4,>=0.1.40->langchain-chroma) (2.4)\n",
      "Requirement already satisfied: six>=1.9.0 in /usr/lib/python3/dist-packages (from kubernetes>=28.1.0->chromadb!=0.5.4,!=0.5.5,<0.6.0,>=0.4.0->langchain-chroma) (1.16.0)\n",
      "Requirement already satisfied: python-dateutil>=2.5.3 in /usr/local/lib/python3.11/dist-packages (from kubernetes>=28.1.0->chromadb!=0.5.4,!=0.5.5,<0.6.0,>=0.4.0->langchain-chroma) (2.8.2)\n",
      "Requirement already satisfied: google-auth>=1.0.1 in /usr/local/lib/python3.11/dist-packages (from kubernetes>=28.1.0->chromadb!=0.5.4,!=0.5.5,<0.6.0,>=0.4.0->langchain-chroma) (2.26.2)\n",
      "Requirement already satisfied: websocket-client!=0.40.0,!=0.41.*,!=0.42.*,>=0.32.0 in /usr/local/lib/python3.11/dist-packages (from kubernetes>=28.1.0->chromadb!=0.5.4,!=0.5.5,<0.6.0,>=0.4.0->langchain-chroma) (0.57.0)\n",
      "Requirement already satisfied: requests in /usr/local/lib/python3.11/dist-packages (from kubernetes>=28.1.0->chromadb!=0.5.4,!=0.5.5,<0.6.0,>=0.4.0->langchain-chroma) (2.31.0)\n",
      "Requirement already satisfied: requests-oauthlib in /usr/local/lib/python3.11/dist-packages (from kubernetes>=28.1.0->chromadb!=0.5.4,!=0.5.5,<0.6.0,>=0.4.0->langchain-chroma) (1.3.1)\n",
      "Requirement already satisfied: oauthlib>=3.2.2 in /usr/local/lib/python3.11/dist-packages (from kubernetes>=28.1.0->chromadb!=0.5.4,!=0.5.5,<0.6.0,>=0.4.0->langchain-chroma) (3.2.2)\n",
      "Requirement already satisfied: urllib3>=1.24.2 in /usr/local/lib/python3.11/dist-packages (from kubernetes>=28.1.0->chromadb!=0.5.4,!=0.5.5,<0.6.0,>=0.4.0->langchain-chroma) (2.0.7)\n",
      "Requirement already satisfied: durationpy>=0.7 in /usr/local/lib/python3.11/dist-packages (from kubernetes>=28.1.0->chromadb!=0.5.4,!=0.5.5,<0.6.0,>=0.4.0->langchain-chroma) (0.9)\n",
      "Requirement already satisfied: requests-toolbelt<2.0.0,>=1.0.0 in /usr/local/lib/python3.11/dist-packages (from langsmith<0.2.0,>=0.1.125->langchain-core<0.4,>=0.1.40->langchain-chroma) (1.0.0)\n",
      "Requirement already satisfied: coloredlogs in /usr/local/lib/python3.11/dist-packages (from onnxruntime>=1.14.1->chromadb!=0.5.4,!=0.5.5,<0.6.0,>=0.4.0->langchain-chroma) (15.0.1)\n",
      "Requirement already satisfied: flatbuffers in /usr/local/lib/python3.11/dist-packages (from onnxruntime>=1.14.1->chromadb!=0.5.4,!=0.5.5,<0.6.0,>=0.4.0->langchain-chroma) (23.5.26)\n",
      "Requirement already satisfied: protobuf in /usr/local/lib/python3.11/dist-packages (from onnxruntime>=1.14.1->chromadb!=0.5.4,!=0.5.5,<0.6.0,>=0.4.0->langchain-chroma) (5.28.3)\n",
      "Requirement already satisfied: sympy in /usr/local/lib/python3.11/dist-packages (from onnxruntime>=1.14.1->chromadb!=0.5.4,!=0.5.5,<0.6.0,>=0.4.0->langchain-chroma) (1.12)\n",
      "Requirement already satisfied: deprecated>=1.2.6 in /usr/local/lib/python3.11/dist-packages (from opentelemetry-api>=1.2.0->chromadb!=0.5.4,!=0.5.5,<0.6.0,>=0.4.0->langchain-chroma) (1.2.14)\n",
      "Requirement already satisfied: importlib-metadata<=8.5.0,>=6.0 in /usr/local/lib/python3.11/dist-packages (from opentelemetry-api>=1.2.0->chromadb!=0.5.4,!=0.5.5,<0.6.0,>=0.4.0->langchain-chroma) (8.5.0)\n",
      "Requirement already satisfied: googleapis-common-protos~=1.52 in /usr/local/lib/python3.11/dist-packages (from opentelemetry-exporter-otlp-proto-grpc>=1.2.0->chromadb!=0.5.4,!=0.5.5,<0.6.0,>=0.4.0->langchain-chroma) (1.65.0)\n",
      "Requirement already satisfied: opentelemetry-exporter-otlp-proto-common==1.28.1 in /usr/local/lib/python3.11/dist-packages (from opentelemetry-exporter-otlp-proto-grpc>=1.2.0->chromadb!=0.5.4,!=0.5.5,<0.6.0,>=0.4.0->langchain-chroma) (1.28.1)\n",
      "Requirement already satisfied: opentelemetry-proto==1.28.1 in /usr/local/lib/python3.11/dist-packages (from opentelemetry-exporter-otlp-proto-grpc>=1.2.0->chromadb!=0.5.4,!=0.5.5,<0.6.0,>=0.4.0->langchain-chroma) (1.28.1)\n",
      "Requirement already satisfied: opentelemetry-instrumentation-asgi==0.49b1 in /usr/local/lib/python3.11/dist-packages (from opentelemetry-instrumentation-fastapi>=0.41b0->chromadb!=0.5.4,!=0.5.5,<0.6.0,>=0.4.0->langchain-chroma) (0.49b1)\n",
      "Requirement already satisfied: opentelemetry-instrumentation==0.49b1 in /usr/local/lib/python3.11/dist-packages (from opentelemetry-instrumentation-fastapi>=0.41b0->chromadb!=0.5.4,!=0.5.5,<0.6.0,>=0.4.0->langchain-chroma) (0.49b1)\n",
      "Requirement already satisfied: opentelemetry-semantic-conventions==0.49b1 in /usr/local/lib/python3.11/dist-packages (from opentelemetry-instrumentation-fastapi>=0.41b0->chromadb!=0.5.4,!=0.5.5,<0.6.0,>=0.4.0->langchain-chroma) (0.49b1)\n",
      "Requirement already satisfied: opentelemetry-util-http==0.49b1 in /usr/local/lib/python3.11/dist-packages (from opentelemetry-instrumentation-fastapi>=0.41b0->chromadb!=0.5.4,!=0.5.5,<0.6.0,>=0.4.0->langchain-chroma) (0.49b1)\n",
      "Requirement already satisfied: wrapt<2.0.0,>=1.0.0 in /usr/local/lib/python3.11/dist-packages (from opentelemetry-instrumentation==0.49b1->opentelemetry-instrumentation-fastapi>=0.41b0->chromadb!=0.5.4,!=0.5.5,<0.6.0,>=0.4.0->langchain-chroma) (1.14.1)\n",
      "Requirement already satisfied: asgiref~=3.0 in /usr/local/lib/python3.11/dist-packages (from opentelemetry-instrumentation-asgi==0.49b1->opentelemetry-instrumentation-fastapi>=0.41b0->chromadb!=0.5.4,!=0.5.5,<0.6.0,>=0.4.0->langchain-chroma) (3.8.1)\n",
      "Requirement already satisfied: monotonic>=1.5 in /usr/local/lib/python3.11/dist-packages (from posthog>=2.4.0->chromadb!=0.5.4,!=0.5.5,<0.6.0,>=0.4.0->langchain-chroma) (1.6)\n",
      "Requirement already satisfied: backoff>=1.10.0 in /usr/local/lib/python3.11/dist-packages (from posthog>=2.4.0->chromadb!=0.5.4,!=0.5.5,<0.6.0,>=0.4.0->langchain-chroma) (2.2.1)\n",
      "Requirement already satisfied: annotated-types>=0.6.0 in /usr/local/lib/python3.11/dist-packages (from pydantic>=1.9->chromadb!=0.5.4,!=0.5.5,<0.6.0,>=0.4.0->langchain-chroma) (0.7.0)\n",
      "Requirement already satisfied: pydantic-core==2.23.4 in /usr/local/lib/python3.11/dist-packages (from pydantic>=1.9->chromadb!=0.5.4,!=0.5.5,<0.6.0,>=0.4.0->langchain-chroma) (2.23.4)\n",
      "Requirement already satisfied: markdown-it-py>=2.2.0 in /usr/local/lib/python3.11/dist-packages (from rich>=10.11.0->chromadb!=0.5.4,!=0.5.5,<0.6.0,>=0.4.0->langchain-chroma) (3.0.0)\n",
      "Requirement already satisfied: pygments<3.0.0,>=2.13.0 in /usr/local/lib/python3.11/dist-packages (from rich>=10.11.0->chromadb!=0.5.4,!=0.5.5,<0.6.0,>=0.4.0->langchain-chroma) (2.17.2)\n",
      "Requirement already satisfied: huggingface-hub<1.0,>=0.16.4 in /usr/local/lib/python3.11/dist-packages (from tokenizers>=0.13.2->chromadb!=0.5.4,!=0.5.5,<0.6.0,>=0.4.0->langchain-chroma) (0.24.7)\n",
      "Requirement already satisfied: click<9.0.0,>=7.1.1 in /usr/local/lib/python3.11/dist-packages (from typer>=0.9.0->chromadb!=0.5.4,!=0.5.5,<0.6.0,>=0.4.0->langchain-chroma) (8.1.7)\n",
      "Requirement already satisfied: httptools>=0.5.0 in /usr/local/lib/python3.11/dist-packages (from uvicorn[standard]>=0.18.3->chromadb!=0.5.4,!=0.5.5,<0.6.0,>=0.4.0->langchain-chroma) (0.6.4)\n",
      "Requirement already satisfied: python-dotenv>=0.13 in /usr/local/lib/python3.11/dist-packages (from uvicorn[standard]>=0.18.3->chromadb!=0.5.4,!=0.5.5,<0.6.0,>=0.4.0->langchain-chroma) (1.0.1)\n",
      "Requirement already satisfied: uvloop!=0.15.0,!=0.15.1,>=0.14.0 in /usr/local/lib/python3.11/dist-packages (from uvicorn[standard]>=0.18.3->chromadb!=0.5.4,!=0.5.5,<0.6.0,>=0.4.0->langchain-chroma) (0.21.0)\n",
      "Requirement already satisfied: watchfiles>=0.13 in /usr/local/lib/python3.11/dist-packages (from uvicorn[standard]>=0.18.3->chromadb!=0.5.4,!=0.5.5,<0.6.0,>=0.4.0->langchain-chroma) (0.24.0)\n",
      "Requirement already satisfied: websockets>=10.4 in /usr/local/lib/python3.11/dist-packages (from uvicorn[standard]>=0.18.3->chromadb!=0.5.4,!=0.5.5,<0.6.0,>=0.4.0->langchain-chroma) (14.0)\n",
      "Requirement already satisfied: cachetools<6.0,>=2.0.0 in /usr/local/lib/python3.11/dist-packages (from google-auth>=1.0.1->kubernetes>=28.1.0->chromadb!=0.5.4,!=0.5.5,<0.6.0,>=0.4.0->langchain-chroma) (5.3.2)\n",
      "Requirement already satisfied: pyasn1-modules>=0.2.1 in /usr/local/lib/python3.11/dist-packages (from google-auth>=1.0.1->kubernetes>=28.1.0->chromadb!=0.5.4,!=0.5.5,<0.6.0,>=0.4.0->langchain-chroma) (0.3.0)\n",
      "Requirement already satisfied: rsa<5,>=3.1.4 in /usr/lib/python3/dist-packages (from google-auth>=1.0.1->kubernetes>=28.1.0->chromadb!=0.5.4,!=0.5.5,<0.6.0,>=0.4.0->langchain-chroma) (4.8)\n",
      "Requirement already satisfied: filelock in /usr/local/lib/python3.11/dist-packages (from huggingface-hub<1.0,>=0.16.4->tokenizers>=0.13.2->chromadb!=0.5.4,!=0.5.5,<0.6.0,>=0.4.0->langchain-chroma) (3.13.1)\n",
      "Requirement already satisfied: fsspec>=2023.5.0 in /usr/local/lib/python3.11/dist-packages (from huggingface-hub<1.0,>=0.16.4->tokenizers>=0.13.2->chromadb!=0.5.4,!=0.5.5,<0.6.0,>=0.4.0->langchain-chroma) (2023.6.0)\n",
      "Requirement already satisfied: zipp>=3.20 in /usr/local/lib/python3.11/dist-packages (from importlib-metadata<=8.5.0,>=6.0->opentelemetry-api>=1.2.0->chromadb!=0.5.4,!=0.5.5,<0.6.0,>=0.4.0->langchain-chroma) (3.20.2)\n",
      "Requirement already satisfied: mdurl~=0.1 in /usr/local/lib/python3.11/dist-packages (from markdown-it-py>=2.2.0->rich>=10.11.0->chromadb!=0.5.4,!=0.5.5,<0.6.0,>=0.4.0->langchain-chroma) (0.1.2)\n",
      "Requirement already satisfied: charset-normalizer<4,>=2 in /usr/local/lib/python3.11/dist-packages (from requests->kubernetes>=28.1.0->chromadb!=0.5.4,!=0.5.5,<0.6.0,>=0.4.0->langchain-chroma) (3.3.2)\n",
      "Requirement already satisfied: humanfriendly>=9.1 in /usr/local/lib/python3.11/dist-packages (from coloredlogs->onnxruntime>=1.14.1->chromadb!=0.5.4,!=0.5.5,<0.6.0,>=0.4.0->langchain-chroma) (10.0)\n",
      "Requirement already satisfied: mpmath>=0.19 in /usr/local/lib/python3.11/dist-packages (from sympy->onnxruntime>=1.14.1->chromadb!=0.5.4,!=0.5.5,<0.6.0,>=0.4.0->langchain-chroma) (1.3.0)\n",
      "Requirement already satisfied: pyasn1<0.6.0,>=0.4.6 in /usr/lib/python3/dist-packages (from pyasn1-modules>=0.2.1->google-auth>=1.0.1->kubernetes>=28.1.0->chromadb!=0.5.4,!=0.5.5,<0.6.0,>=0.4.0->langchain-chroma) (0.4.8)\n",
      "\u001b[33mWARNING: Running pip as the 'root' user can result in broken permissions and conflicting behaviour with the system package manager. It is recommended to use a virtual environment instead: https://pip.pypa.io/warnings/venv\u001b[0m\u001b[33m\n",
      "\u001b[0mRequirement already satisfied: langchain in /usr/local/lib/python3.11/dist-packages (0.3.7)\n",
      "Requirement already satisfied: PyYAML>=5.3 in /usr/local/lib/python3.11/dist-packages (from langchain) (6.0.2)\n",
      "Requirement already satisfied: SQLAlchemy<3,>=1.4 in /usr/local/lib/python3.11/dist-packages (from langchain) (2.0.21)\n",
      "Requirement already satisfied: aiohttp<4.0.0,>=3.8.3 in /usr/local/lib/python3.11/dist-packages (from langchain) (3.9.1)\n",
      "Requirement already satisfied: langchain-core<0.4.0,>=0.3.15 in /usr/local/lib/python3.11/dist-packages (from langchain) (0.3.15)\n",
      "Requirement already satisfied: langchain-text-splitters<0.4.0,>=0.3.0 in /usr/local/lib/python3.11/dist-packages (from langchain) (0.3.2)\n",
      "Requirement already satisfied: langsmith<0.2.0,>=0.1.17 in /usr/local/lib/python3.11/dist-packages (from langchain) (0.1.142)\n",
      "Requirement already satisfied: numpy<2,>=1 in /usr/local/lib/python3.11/dist-packages (from langchain) (1.26.3)\n",
      "Requirement already satisfied: pydantic<3.0.0,>=2.7.4 in /usr/local/lib/python3.11/dist-packages (from langchain) (2.9.2)\n",
      "Requirement already satisfied: requests<3,>=2 in /usr/local/lib/python3.11/dist-packages (from langchain) (2.31.0)\n",
      "Requirement already satisfied: tenacity!=8.4.0,<10,>=8.1.0 in /usr/local/lib/python3.11/dist-packages (from langchain) (9.0.0)\n",
      "Requirement already satisfied: attrs>=17.3.0 in /usr/local/lib/python3.11/dist-packages (from aiohttp<4.0.0,>=3.8.3->langchain) (23.1.0)\n",
      "Requirement already satisfied: multidict<7.0,>=4.5 in /usr/local/lib/python3.11/dist-packages (from aiohttp<4.0.0,>=3.8.3->langchain) (6.0.4)\n",
      "Requirement already satisfied: yarl<2.0,>=1.0 in /usr/local/lib/python3.11/dist-packages (from aiohttp<4.0.0,>=3.8.3->langchain) (1.9.4)\n",
      "Requirement already satisfied: frozenlist>=1.1.1 in /usr/local/lib/python3.11/dist-packages (from aiohttp<4.0.0,>=3.8.3->langchain) (1.4.1)\n",
      "Requirement already satisfied: aiosignal>=1.1.2 in /usr/local/lib/python3.11/dist-packages (from aiohttp<4.0.0,>=3.8.3->langchain) (1.3.1)\n",
      "Requirement already satisfied: jsonpatch<2.0,>=1.33 in /usr/local/lib/python3.11/dist-packages (from langchain-core<0.4.0,>=0.3.15->langchain) (1.33)\n",
      "Requirement already satisfied: packaging<25,>=23.2 in /usr/local/lib/python3.11/dist-packages (from langchain-core<0.4.0,>=0.3.15->langchain) (23.2)\n",
      "Requirement already satisfied: typing-extensions>=4.7 in /usr/local/lib/python3.11/dist-packages (from langchain-core<0.4.0,>=0.3.15->langchain) (4.9.0)\n",
      "Requirement already satisfied: httpx<1,>=0.23.0 in /usr/local/lib/python3.11/dist-packages (from langsmith<0.2.0,>=0.1.17->langchain) (0.27.2)\n",
      "Requirement already satisfied: orjson<4.0.0,>=3.9.14 in /usr/local/lib/python3.11/dist-packages (from langsmith<0.2.0,>=0.1.17->langchain) (3.10.11)\n",
      "Requirement already satisfied: requests-toolbelt<2.0.0,>=1.0.0 in /usr/local/lib/python3.11/dist-packages (from langsmith<0.2.0,>=0.1.17->langchain) (1.0.0)\n",
      "Requirement already satisfied: annotated-types>=0.6.0 in /usr/local/lib/python3.11/dist-packages (from pydantic<3.0.0,>=2.7.4->langchain) (0.7.0)\n",
      "Requirement already satisfied: pydantic-core==2.23.4 in /usr/local/lib/python3.11/dist-packages (from pydantic<3.0.0,>=2.7.4->langchain) (2.23.4)\n",
      "Requirement already satisfied: charset-normalizer<4,>=2 in /usr/local/lib/python3.11/dist-packages (from requests<3,>=2->langchain) (3.3.2)\n",
      "Requirement already satisfied: idna<4,>=2.5 in /usr/lib/python3/dist-packages (from requests<3,>=2->langchain) (3.3)\n",
      "Requirement already satisfied: urllib3<3,>=1.21.1 in /usr/local/lib/python3.11/dist-packages (from requests<3,>=2->langchain) (2.0.7)\n",
      "Requirement already satisfied: certifi>=2017.4.17 in /usr/lib/python3/dist-packages (from requests<3,>=2->langchain) (2020.6.20)\n",
      "Requirement already satisfied: greenlet!=0.4.17 in /usr/lib/python3/dist-packages (from SQLAlchemy<3,>=1.4->langchain) (1.1.2)\n",
      "Requirement already satisfied: anyio in /usr/local/lib/python3.11/dist-packages (from httpx<1,>=0.23.0->langsmith<0.2.0,>=0.1.17->langchain) (4.2.0)\n",
      "Requirement already satisfied: httpcore==1.* in /usr/local/lib/python3.11/dist-packages (from httpx<1,>=0.23.0->langsmith<0.2.0,>=0.1.17->langchain) (1.0.6)\n",
      "Requirement already satisfied: sniffio in /usr/local/lib/python3.11/dist-packages (from httpx<1,>=0.23.0->langsmith<0.2.0,>=0.1.17->langchain) (1.3.0)\n",
      "Requirement already satisfied: h11<0.15,>=0.13 in /usr/local/lib/python3.11/dist-packages (from httpcore==1.*->httpx<1,>=0.23.0->langsmith<0.2.0,>=0.1.17->langchain) (0.14.0)\n",
      "Requirement already satisfied: jsonpointer>=1.9 in /usr/local/lib/python3.11/dist-packages (from jsonpatch<2.0,>=1.33->langchain-core<0.4.0,>=0.3.15->langchain) (2.4)\n",
      "\u001b[33mWARNING: Running pip as the 'root' user can result in broken permissions and conflicting behaviour with the system package manager. It is recommended to use a virtual environment instead: https://pip.pypa.io/warnings/venv\u001b[0m\u001b[33m\n",
      "\u001b[0mRequirement already satisfied: langchain-text-splitters in /usr/local/lib/python3.11/dist-packages (0.3.2)\n",
      "Requirement already satisfied: langchain-core<0.4.0,>=0.3.15 in /usr/local/lib/python3.11/dist-packages (from langchain-text-splitters) (0.3.15)\n",
      "Requirement already satisfied: PyYAML>=5.3 in /usr/local/lib/python3.11/dist-packages (from langchain-core<0.4.0,>=0.3.15->langchain-text-splitters) (6.0.2)\n",
      "Requirement already satisfied: jsonpatch<2.0,>=1.33 in /usr/local/lib/python3.11/dist-packages (from langchain-core<0.4.0,>=0.3.15->langchain-text-splitters) (1.33)\n",
      "Requirement already satisfied: langsmith<0.2.0,>=0.1.125 in /usr/local/lib/python3.11/dist-packages (from langchain-core<0.4.0,>=0.3.15->langchain-text-splitters) (0.1.142)\n",
      "Requirement already satisfied: packaging<25,>=23.2 in /usr/local/lib/python3.11/dist-packages (from langchain-core<0.4.0,>=0.3.15->langchain-text-splitters) (23.2)\n",
      "Requirement already satisfied: pydantic<3.0.0,>=2.5.2 in /usr/local/lib/python3.11/dist-packages (from langchain-core<0.4.0,>=0.3.15->langchain-text-splitters) (2.9.2)\n",
      "Requirement already satisfied: tenacity!=8.4.0,<10.0.0,>=8.1.0 in /usr/local/lib/python3.11/dist-packages (from langchain-core<0.4.0,>=0.3.15->langchain-text-splitters) (9.0.0)\n",
      "Requirement already satisfied: typing-extensions>=4.7 in /usr/local/lib/python3.11/dist-packages (from langchain-core<0.4.0,>=0.3.15->langchain-text-splitters) (4.9.0)\n",
      "Requirement already satisfied: jsonpointer>=1.9 in /usr/local/lib/python3.11/dist-packages (from jsonpatch<2.0,>=1.33->langchain-core<0.4.0,>=0.3.15->langchain-text-splitters) (2.4)\n",
      "Requirement already satisfied: httpx<1,>=0.23.0 in /usr/local/lib/python3.11/dist-packages (from langsmith<0.2.0,>=0.1.125->langchain-core<0.4.0,>=0.3.15->langchain-text-splitters) (0.27.2)\n",
      "Requirement already satisfied: orjson<4.0.0,>=3.9.14 in /usr/local/lib/python3.11/dist-packages (from langsmith<0.2.0,>=0.1.125->langchain-core<0.4.0,>=0.3.15->langchain-text-splitters) (3.10.11)\n",
      "Requirement already satisfied: requests<3,>=2 in /usr/local/lib/python3.11/dist-packages (from langsmith<0.2.0,>=0.1.125->langchain-core<0.4.0,>=0.3.15->langchain-text-splitters) (2.31.0)\n",
      "Requirement already satisfied: requests-toolbelt<2.0.0,>=1.0.0 in /usr/local/lib/python3.11/dist-packages (from langsmith<0.2.0,>=0.1.125->langchain-core<0.4.0,>=0.3.15->langchain-text-splitters) (1.0.0)\n",
      "Requirement already satisfied: annotated-types>=0.6.0 in /usr/local/lib/python3.11/dist-packages (from pydantic<3.0.0,>=2.5.2->langchain-core<0.4.0,>=0.3.15->langchain-text-splitters) (0.7.0)\n",
      "Requirement already satisfied: pydantic-core==2.23.4 in /usr/local/lib/python3.11/dist-packages (from pydantic<3.0.0,>=2.5.2->langchain-core<0.4.0,>=0.3.15->langchain-text-splitters) (2.23.4)\n",
      "Requirement already satisfied: anyio in /usr/local/lib/python3.11/dist-packages (from httpx<1,>=0.23.0->langsmith<0.2.0,>=0.1.125->langchain-core<0.4.0,>=0.3.15->langchain-text-splitters) (4.2.0)\n",
      "Requirement already satisfied: certifi in /usr/lib/python3/dist-packages (from httpx<1,>=0.23.0->langsmith<0.2.0,>=0.1.125->langchain-core<0.4.0,>=0.3.15->langchain-text-splitters) (2020.6.20)\n",
      "Requirement already satisfied: httpcore==1.* in /usr/local/lib/python3.11/dist-packages (from httpx<1,>=0.23.0->langsmith<0.2.0,>=0.1.125->langchain-core<0.4.0,>=0.3.15->langchain-text-splitters) (1.0.6)\n",
      "Requirement already satisfied: idna in /usr/lib/python3/dist-packages (from httpx<1,>=0.23.0->langsmith<0.2.0,>=0.1.125->langchain-core<0.4.0,>=0.3.15->langchain-text-splitters) (3.3)\n",
      "Requirement already satisfied: sniffio in /usr/local/lib/python3.11/dist-packages (from httpx<1,>=0.23.0->langsmith<0.2.0,>=0.1.125->langchain-core<0.4.0,>=0.3.15->langchain-text-splitters) (1.3.0)\n",
      "Requirement already satisfied: h11<0.15,>=0.13 in /usr/local/lib/python3.11/dist-packages (from httpcore==1.*->httpx<1,>=0.23.0->langsmith<0.2.0,>=0.1.125->langchain-core<0.4.0,>=0.3.15->langchain-text-splitters) (0.14.0)\n",
      "Requirement already satisfied: charset-normalizer<4,>=2 in /usr/local/lib/python3.11/dist-packages (from requests<3,>=2->langsmith<0.2.0,>=0.1.125->langchain-core<0.4.0,>=0.3.15->langchain-text-splitters) (3.3.2)\n",
      "Requirement already satisfied: urllib3<3,>=1.21.1 in /usr/local/lib/python3.11/dist-packages (from requests<3,>=2->langsmith<0.2.0,>=0.1.125->langchain-core<0.4.0,>=0.3.15->langchain-text-splitters) (2.0.7)\n",
      "\u001b[33mWARNING: Running pip as the 'root' user can result in broken permissions and conflicting behaviour with the system package manager. It is recommended to use a virtual environment instead: https://pip.pypa.io/warnings/venv\u001b[0m\u001b[33m\n",
      "\u001b[0mRequirement already satisfied: pydantic in /usr/local/lib/python3.11/dist-packages (2.9.2)\n",
      "Requirement already satisfied: annotated-types>=0.6.0 in /usr/local/lib/python3.11/dist-packages (from pydantic) (0.7.0)\n",
      "Requirement already satisfied: pydantic-core==2.23.4 in /usr/local/lib/python3.11/dist-packages (from pydantic) (2.23.4)\n",
      "Requirement already satisfied: typing-extensions>=4.6.1 in /usr/local/lib/python3.11/dist-packages (from pydantic) (4.9.0)\n",
      "\u001b[33mWARNING: Running pip as the 'root' user can result in broken permissions and conflicting behaviour with the system package manager. It is recommended to use a virtual environment instead: https://pip.pypa.io/warnings/venv\u001b[0m\u001b[33m\n",
      "\u001b[0mRequirement already satisfied: huggingface_hub==0.24.7 in /usr/local/lib/python3.11/dist-packages (0.24.7)\n",
      "Requirement already satisfied: filelock in /usr/local/lib/python3.11/dist-packages (from huggingface_hub==0.24.7) (3.13.1)\n",
      "Requirement already satisfied: fsspec>=2023.5.0 in /usr/local/lib/python3.11/dist-packages (from huggingface_hub==0.24.7) (2023.6.0)\n",
      "Requirement already satisfied: packaging>=20.9 in /usr/local/lib/python3.11/dist-packages (from huggingface_hub==0.24.7) (23.2)\n",
      "Requirement already satisfied: pyyaml>=5.1 in /usr/local/lib/python3.11/dist-packages (from huggingface_hub==0.24.7) (6.0.2)\n",
      "Requirement already satisfied: requests in /usr/local/lib/python3.11/dist-packages (from huggingface_hub==0.24.7) (2.31.0)\n",
      "Requirement already satisfied: tqdm>=4.42.1 in /usr/local/lib/python3.11/dist-packages (from huggingface_hub==0.24.7) (4.66.1)\n",
      "Requirement already satisfied: typing-extensions>=3.7.4.3 in /usr/local/lib/python3.11/dist-packages (from huggingface_hub==0.24.7) (4.9.0)\n",
      "Requirement already satisfied: charset-normalizer<4,>=2 in /usr/local/lib/python3.11/dist-packages (from requests->huggingface_hub==0.24.7) (3.3.2)\n",
      "Requirement already satisfied: idna<4,>=2.5 in /usr/lib/python3/dist-packages (from requests->huggingface_hub==0.24.7) (3.3)\n",
      "Requirement already satisfied: urllib3<3,>=1.21.1 in /usr/local/lib/python3.11/dist-packages (from requests->huggingface_hub==0.24.7) (2.0.7)\n",
      "Requirement already satisfied: certifi>=2017.4.17 in /usr/lib/python3/dist-packages (from requests->huggingface_hub==0.24.7) (2020.6.20)\n",
      "\u001b[33mWARNING: Running pip as the 'root' user can result in broken permissions and conflicting behaviour with the system package manager. It is recommended to use a virtual environment instead: https://pip.pypa.io/warnings/venv\u001b[0m\u001b[33m\n",
      "\u001b[0mRequirement already satisfied: jq in /usr/local/lib/python3.11/dist-packages (1.8.0)\n",
      "\u001b[33mWARNING: Running pip as the 'root' user can result in broken permissions and conflicting behaviour with the system package manager. It is recommended to use a virtual environment instead: https://pip.pypa.io/warnings/venv\u001b[0m\u001b[33m\n",
      "\u001b[0mRequirement already satisfied: transformers in /usr/local/lib/python3.11/dist-packages (4.46.2)\n",
      "Requirement already satisfied: filelock in /usr/local/lib/python3.11/dist-packages (from transformers) (3.13.1)\n",
      "Requirement already satisfied: huggingface-hub<1.0,>=0.23.2 in /usr/local/lib/python3.11/dist-packages (from transformers) (0.24.7)\n",
      "Requirement already satisfied: numpy>=1.17 in /usr/local/lib/python3.11/dist-packages (from transformers) (1.26.3)\n",
      "Requirement already satisfied: packaging>=20.0 in /usr/local/lib/python3.11/dist-packages (from transformers) (23.2)\n",
      "Requirement already satisfied: pyyaml>=5.1 in /usr/local/lib/python3.11/dist-packages (from transformers) (6.0.2)\n",
      "Requirement already satisfied: regex!=2019.12.17 in /usr/local/lib/python3.11/dist-packages (from transformers) (2023.12.25)\n",
      "Requirement already satisfied: requests in /usr/local/lib/python3.11/dist-packages (from transformers) (2.31.0)\n",
      "Requirement already satisfied: safetensors>=0.4.1 in /usr/local/lib/python3.11/dist-packages (from transformers) (0.4.5)\n",
      "Requirement already satisfied: tokenizers<0.21,>=0.20 in /usr/local/lib/python3.11/dist-packages (from transformers) (0.20.3)\n",
      "Requirement already satisfied: tqdm>=4.27 in /usr/local/lib/python3.11/dist-packages (from transformers) (4.66.1)\n",
      "Requirement already satisfied: fsspec>=2023.5.0 in /usr/local/lib/python3.11/dist-packages (from huggingface-hub<1.0,>=0.23.2->transformers) (2023.6.0)\n",
      "Requirement already satisfied: typing-extensions>=3.7.4.3 in /usr/local/lib/python3.11/dist-packages (from huggingface-hub<1.0,>=0.23.2->transformers) (4.9.0)\n",
      "Requirement already satisfied: charset-normalizer<4,>=2 in /usr/local/lib/python3.11/dist-packages (from requests->transformers) (3.3.2)\n",
      "Requirement already satisfied: idna<4,>=2.5 in /usr/lib/python3/dist-packages (from requests->transformers) (3.3)\n",
      "Requirement already satisfied: urllib3<3,>=1.21.1 in /usr/local/lib/python3.11/dist-packages (from requests->transformers) (2.0.7)\n",
      "Requirement already satisfied: certifi>=2017.4.17 in /usr/lib/python3/dist-packages (from requests->transformers) (2020.6.20)\n",
      "\u001b[33mWARNING: Running pip as the 'root' user can result in broken permissions and conflicting behaviour with the system package manager. It is recommended to use a virtual environment instead: https://pip.pypa.io/warnings/venv\u001b[0m\u001b[33m\n",
      "\u001b[0m\u001b[31mERROR: Could not find a version that satisfies the requirement faiss-gpu (from versions: none)\u001b[0m\u001b[31m\n",
      "\u001b[0m\u001b[31mERROR: No matching distribution found for faiss-gpu\u001b[0m\u001b[31m\n",
      "\u001b[0mRequirement already satisfied: torch in /usr/local/lib/python3.11/dist-packages (2.1.1+cu121)\n",
      "Requirement already satisfied: filelock in /usr/local/lib/python3.11/dist-packages (from torch) (3.13.1)\n",
      "Requirement already satisfied: typing-extensions in /usr/local/lib/python3.11/dist-packages (from torch) (4.9.0)\n",
      "Requirement already satisfied: sympy in /usr/local/lib/python3.11/dist-packages (from torch) (1.12)\n",
      "Requirement already satisfied: networkx in /usr/local/lib/python3.11/dist-packages (from torch) (3.2.1)\n",
      "Requirement already satisfied: jinja2 in /usr/local/lib/python3.11/dist-packages (from torch) (3.1.3)\n",
      "Requirement already satisfied: fsspec in /usr/local/lib/python3.11/dist-packages (from torch) (2023.6.0)\n",
      "Requirement already satisfied: triton==2.1.0 in /usr/local/lib/python3.11/dist-packages (from torch) (2.1.0)\n",
      "Requirement already satisfied: MarkupSafe>=2.0 in /usr/local/lib/python3.11/dist-packages (from jinja2->torch) (2.1.4)\n",
      "Requirement already satisfied: mpmath>=0.19 in /usr/local/lib/python3.11/dist-packages (from sympy->torch) (1.3.0)\n",
      "\u001b[33mWARNING: Running pip as the 'root' user can result in broken permissions and conflicting behaviour with the system package manager. It is recommended to use a virtual environment instead: https://pip.pypa.io/warnings/venv\u001b[0m\u001b[33m\n",
      "\u001b[0m"
     ]
    }
   ],
   "source": [
    "\n",
    "!pip install langchain-google-genai\n",
    "!pip install langchain-huggingface\n",
    "!pip install pypdf\n",
    "!pip install langchain-community\n",
    "!pip install langchain-chroma\n",
    "!pip install langchain\n",
    "!pip install langchain-text-splitters\n",
    "!pip install -U pydantic\n",
    "!pip install huggingface_hub==0.24.7\n",
    "!pip install jq\n",
    "!pip install transformers\n",
    "!pip install faiss-gpu\n",
    "!pip install torch"
   ]
  },
  {
   "cell_type": "code",
   "execution_count": 7,
   "id": "6820f9db-ad86-4b08-abd4-74034b7a64cf",
   "metadata": {
    "execution": {
     "iopub.execute_input": "2024-11-10T02:43:44.636211Z",
     "iopub.status.busy": "2024-11-10T02:43:44.635988Z",
     "iopub.status.idle": "2024-11-10T02:43:47.572169Z",
     "shell.execute_reply": "2024-11-10T02:43:47.571462Z",
     "shell.execute_reply.started": "2024-11-10T02:43:44.636195Z"
    }
   },
   "outputs": [],
   "source": [
    "from datasets import load_dataset\n",
    "\n",
    "ds = load_dataset(\"HPAI-BSC/medqa-cot\")"
   ]
  },
  {
   "cell_type": "code",
   "execution_count": 8,
   "id": "83138fb1-0fe0-4dbf-99b8-4063abfc68d5",
   "metadata": {
    "execution": {
     "iopub.execute_input": "2024-11-10T02:43:47.573988Z",
     "iopub.status.busy": "2024-11-10T02:43:47.573492Z",
     "iopub.status.idle": "2024-11-10T02:43:47.577078Z",
     "shell.execute_reply": "2024-11-10T02:43:47.576518Z",
     "shell.execute_reply.started": "2024-11-10T02:43:47.573962Z"
    }
   },
   "outputs": [],
   "source": [
    "medqa_save = []"
   ]
  },
  {
   "cell_type": "code",
   "execution_count": null,
   "id": "2efa19a4-6574-4918-bcbe-4af7afa61673",
   "metadata": {},
   "outputs": [],
   "source": []
  },
  {
   "cell_type": "code",
   "execution_count": 9,
   "id": "10a41047-9f7d-49ca-8743-1ebce1b906d3",
   "metadata": {
    "execution": {
     "iopub.execute_input": "2024-11-10T02:43:47.578122Z",
     "iopub.status.busy": "2024-11-10T02:43:47.577962Z",
     "iopub.status.idle": "2024-11-10T02:43:47.697419Z",
     "shell.execute_reply": "2024-11-10T02:43:47.696845Z",
     "shell.execute_reply.started": "2024-11-10T02:43:47.578108Z"
    }
   },
   "outputs": [],
   "source": [
    "import faiss\n",
    "import numpy as np\n",
    "import torch\n",
    "from transformers import AutoTokenizer, AutoModel\n",
    "\n",
    "model = AutoModel.from_pretrained(\"ncbi/MedCPT-Article-Encoder\")\n",
    "tokenizer = AutoTokenizer.from_pretrained(\"ncbi/MedCPT-Article-Encoder\")\n",
    "\n",
    "\n",
    "index = faiss.IndexFlatIP(768)\n"
   ]
  },
  {
   "cell_type": "code",
   "execution_count": 13,
   "id": "c298e551-6467-40d6-87a7-2c036cb9fbf3",
   "metadata": {
    "execution": {
     "iopub.execute_input": "2024-11-10T02:44:55.012541Z",
     "iopub.status.busy": "2024-11-10T02:44:55.011891Z",
     "iopub.status.idle": "2024-11-10T02:44:55.017570Z",
     "shell.execute_reply": "2024-11-10T02:44:55.017095Z",
     "shell.execute_reply.started": "2024-11-10T02:44:55.012508Z"
    }
   },
   "outputs": [
    {
     "data": {
      "text/plain": [
       "'cuda:0'"
      ]
     },
     "execution_count": 13,
     "metadata": {},
     "output_type": "execute_result"
    }
   ],
   "source": [
    "device = \"cuda:0\" if torch.cuda.is_available() else \"cpu\"\n",
    "device"
   ]
  },
  {
   "cell_type": "code",
   "execution_count": 16,
   "id": "163ddecc-b2e0-4982-8851-d9223b13c8eb",
   "metadata": {
    "execution": {
     "iopub.execute_input": "2024-11-10T02:46:13.122440Z",
     "iopub.status.busy": "2024-11-10T02:46:13.122145Z",
     "iopub.status.idle": "2024-11-10T02:46:13.125560Z",
     "shell.execute_reply": "2024-11-10T02:46:13.124957Z",
     "shell.execute_reply.started": "2024-11-10T02:46:13.122417Z"
    }
   },
   "outputs": [],
   "source": [
    "device = torch.device(\"cuda\" if torch.cuda.is_available() else \"cpu\")\n"
   ]
  },
  {
   "cell_type": "code",
   "execution_count": 97,
   "id": "269baa77-4944-4a4e-b4ca-63bffd2106ac",
   "metadata": {
    "execution": {
     "iopub.execute_input": "2024-11-10T03:48:12.899989Z",
     "iopub.status.busy": "2024-11-10T03:48:12.899772Z",
     "iopub.status.idle": "2024-11-10T03:48:12.904748Z",
     "shell.execute_reply": "2024-11-10T03:48:12.904343Z",
     "shell.execute_reply.started": "2024-11-10T03:48:12.899973Z"
    }
   },
   "outputs": [],
   "source": [
    "import os\n",
    "medqa_embed = []\n",
    "os.environ['PYTORCH_CUDA_ALLOC_CONF'] = 'max_split_size_mb:512'\n",
    "\n",
    "model = model.to(device)"
   ]
  },
  {
   "cell_type": "code",
   "execution_count": 98,
   "id": "a11eedd4-d85e-414e-b599-fbb5835e901f",
   "metadata": {
    "execution": {
     "iopub.execute_input": "2024-11-10T03:48:13.164616Z",
     "iopub.status.busy": "2024-11-10T03:48:13.163874Z",
     "iopub.status.idle": "2024-11-10T03:51:06.919209Z",
     "shell.execute_reply": "2024-11-10T03:51:06.918634Z",
     "shell.execute_reply.started": "2024-11-10T03:48:13.164597Z"
    }
   },
   "outputs": [
    {
     "name": "stdout",
     "output_type": "stream",
     "text": [
      "i: 0\n",
      "i: 1000\n",
      "i: 2000\n",
      "i: 3000\n",
      "i: 4000\n",
      "i: 5000\n",
      "i: 6000\n",
      "i: 7000\n",
      "i: 8000\n",
      "i: 9000\n",
      "i: 10000\n"
     ]
    }
   ],
   "source": [
    "for i in range(len(ds[\"train\"])):\n",
    "    if i % 1000 == 0:\n",
    "        print(f\"i: {i}\")\n",
    "    data = ds[\"train\"][i]\n",
    "    question = data[\"question\"]\n",
    "    answer = data[\"response\"]\n",
    "    # medqa_save.append([question, answer])\n",
    "    try:\n",
    "        with torch.no_grad():\n",
    "            encoded = tokenizer(\n",
    "                [[question, answer]], \n",
    "                truncation=True, \n",
    "                padding=True, \n",
    "                return_tensors='pt',\n",
    "                max_length=512,\n",
    "            ).to(device)\n",
    "            embeds = model(**encoded).last_hidden_state[:, 0, :]\n",
    "            medqa_embed.append(embeds[0].cpu().numpy())\n",
    "    except Exception:\n",
    "        print(f\"err: {i}\")\n",
    "        break\n",
    "        # medqa_embed.append(encoded)\n",
    "    \n",
    "    "
   ]
  },
  {
   "cell_type": "code",
   "execution_count": 101,
   "id": "af7f05f6-b432-4297-95e4-7dbc3b22f6f1",
   "metadata": {
    "execution": {
     "iopub.execute_input": "2024-11-10T03:56:40.444916Z",
     "iopub.status.busy": "2024-11-10T03:56:40.444700Z",
     "iopub.status.idle": "2024-11-10T03:56:40.484540Z",
     "shell.execute_reply": "2024-11-10T03:56:40.483994Z",
     "shell.execute_reply.started": "2024-11-10T03:56:40.444901Z"
    }
   },
   "outputs": [],
   "source": [
    "\n",
    "medqa_embed_np = np.array(medqa_embed)\n",
    "with open('medqa_cot.npy', 'wb') as f:\n",
    "    np.save(f, medqa_embed_np)\n"
   ]
  },
  {
   "cell_type": "code",
   "execution_count": 102,
   "id": "3a4f9664-6b84-413f-b73b-ecfafbd1798d",
   "metadata": {
    "execution": {
     "iopub.execute_input": "2024-11-10T03:56:50.236473Z",
     "iopub.status.busy": "2024-11-10T03:56:50.236187Z",
     "iopub.status.idle": "2024-11-10T03:56:50.256241Z",
     "shell.execute_reply": "2024-11-10T03:56:50.255788Z",
     "shell.execute_reply.started": "2024-11-10T03:56:50.236436Z"
    }
   },
   "outputs": [],
   "source": [
    "index.add(medqa_embed_np)\n"
   ]
  },
  {
   "cell_type": "code",
   "execution_count": 75,
   "id": "27dcac32-a1bf-4ddd-9a14-fbb06da3892e",
   "metadata": {
    "execution": {
     "iopub.execute_input": "2024-11-10T03:39:38.094546Z",
     "iopub.status.busy": "2024-11-10T03:39:38.094324Z",
     "iopub.status.idle": "2024-11-10T03:39:38.099046Z",
     "shell.execute_reply": "2024-11-10T03:39:38.098608Z",
     "shell.execute_reply.started": "2024-11-10T03:39:38.094531Z"
    }
   },
   "outputs": [
    {
     "data": {
      "text/plain": [
       "10821"
      ]
     },
     "execution_count": 75,
     "metadata": {},
     "output_type": "execute_result"
    }
   ],
   "source": [
    "len(medqa_embed)"
   ]
  },
  {
   "cell_type": "code",
   "execution_count": 83,
   "id": "e863f564-af11-4927-b242-8d3ff3ac206f",
   "metadata": {
    "execution": {
     "iopub.execute_input": "2024-11-10T03:41:03.143776Z",
     "iopub.status.busy": "2024-11-10T03:41:03.143550Z",
     "iopub.status.idle": "2024-11-10T03:41:03.150319Z",
     "shell.execute_reply": "2024-11-10T03:41:03.149866Z",
     "shell.execute_reply.started": "2024-11-10T03:41:03.143759Z"
    }
   },
   "outputs": [
    {
     "data": {
      "text/plain": [
       "[array([[-0.02427946,  0.10055184,  0.1260813 , ...,  0.38943747,\n",
       "          0.43772724, -0.11900346],\n",
       "        [-0.03789188,  0.058379  , -0.00399172, ...,  0.17896244,\n",
       "          0.40114605, -0.17401543]], dtype=float32),\n",
       " array([[-0.08603792, -0.01415859, -0.03459608, ...,  0.18326746,\n",
       "          0.6089421 ,  0.02165409],\n",
       "        [-0.09889337,  0.19211142, -0.00448587, ...,  0.05119519,\n",
       "          0.6344441 ,  0.02161592]], dtype=float32),\n",
       " array([[-0.18955734,  0.03257816, -0.171481  , ...,  0.07955323,\n",
       "          0.31516275,  0.3501517 ],\n",
       "        [-0.2669167 ,  0.03716958, -0.21684104, ..., -0.00108167,\n",
       "          0.43806133,  0.429256  ]], dtype=float32),\n",
       " array([[-0.21115567, -0.17135051, -0.2969281 , ...,  0.21566726,\n",
       "          0.12345377, -0.07346097],\n",
       "        [-0.20810793, -0.12396356, -0.31118652, ...,  0.11630725,\n",
       "         -0.15768407,  0.02697932]], dtype=float32),\n",
       " array([[-0.02602723, -0.1741863 , -0.36667463, ...,  0.03528364,\n",
       "          0.39372545,  0.09069632],\n",
       "        [-0.22535749, -0.00470555, -0.31004918, ..., -0.12106933,\n",
       "          0.6452731 , -0.00836008]], dtype=float32)]"
      ]
     },
     "execution_count": 83,
     "metadata": {},
     "output_type": "execute_result"
    }
   ],
   "source": [
    "medqa_embed[-5:]\n"
   ]
  },
  {
   "cell_type": "code",
   "execution_count": 84,
   "id": "9cb8244a-3b4c-4c11-aa24-7361c5e5cc18",
   "metadata": {
    "execution": {
     "iopub.execute_input": "2024-11-10T03:41:16.174816Z",
     "iopub.status.busy": "2024-11-10T03:41:16.174589Z",
     "iopub.status.idle": "2024-11-10T03:41:16.180131Z",
     "shell.execute_reply": "2024-11-10T03:41:16.179641Z",
     "shell.execute_reply.started": "2024-11-10T03:41:16.174813Z"
    }
   },
   "outputs": [
    {
     "data": {
      "text/plain": [
       "[array([[-0.23517692,  0.22398368, -0.11469757, ...,  0.00888673,\n",
       "          0.4767499 , -0.22024386],\n",
       "        [-0.2586139 ,  0.37501317, -0.04517046, ..., -0.05252304,\n",
       "          0.48602447, -0.44286177]], dtype=float32),\n",
       " array([[-0.1737818 ,  0.06499998, -0.24564147, ...,  0.17371292,\n",
       "          0.5552193 ,  0.3111169 ],\n",
       "        [-0.29244962,  0.0887769 ,  0.03712133, ...,  0.05044661,\n",
       "          0.48082528,  0.28508064]], dtype=float32),\n",
       " array([[-0.13188404,  0.19391163, -0.15402895, ...,  0.03022465,\n",
       "          0.2914074 , -0.03320358],\n",
       "        [-0.13059261,  0.02525829, -0.1700506 , ..., -0.04651412,\n",
       "          0.3095124 , -0.08072825]], dtype=float32),\n",
       " array([[-0.09424087,  0.06149313,  0.03782856, ...,  0.25264123,\n",
       "          0.78810036,  0.3979171 ],\n",
       "        [-0.07242909,  0.07817103,  0.01561969, ...,  0.05744653,\n",
       "          0.65861195,  0.4138601 ]], dtype=float32),\n",
       " array([[-0.1109979 , -0.13378666, -0.12723249, ...,  0.12431373,\n",
       "          0.2274526 ,  0.04853112],\n",
       "        [-0.0547332 ,  0.14385927,  0.11042475, ...,  0.23039806,\n",
       "          0.12808844,  0.14462309]], dtype=float32)]"
      ]
     },
     "execution_count": 84,
     "metadata": {},
     "output_type": "execute_result"
    }
   ],
   "source": [
    "medqa_embed[:5]\n"
   ]
  },
  {
   "cell_type": "code",
   "execution_count": 88,
   "id": "4e5c18ad-1327-41a0-9be3-e01a20d0a73a",
   "metadata": {
    "execution": {
     "iopub.execute_input": "2024-11-10T03:42:21.540847Z",
     "iopub.status.busy": "2024-11-10T03:42:21.540628Z",
     "iopub.status.idle": "2024-11-10T03:42:21.545312Z",
     "shell.execute_reply": "2024-11-10T03:42:21.544632Z",
     "shell.execute_reply.started": "2024-11-10T03:42:21.540832Z"
    }
   },
   "outputs": [
    {
     "data": {
      "text/plain": [
       "array([[[-0.23517692,  0.22398368, -0.11469757, ...,  0.00888673,\n",
       "          0.4767499 , -0.22024386],\n",
       "        [-0.2586139 ,  0.37501317, -0.04517046, ..., -0.05252304,\n",
       "          0.48602447, -0.44286177]],\n",
       "\n",
       "       [[-0.1737818 ,  0.06499998, -0.24564147, ...,  0.17371292,\n",
       "          0.5552193 ,  0.3111169 ],\n",
       "        [-0.29244962,  0.0887769 ,  0.03712133, ...,  0.05044661,\n",
       "          0.48082528,  0.28508064]],\n",
       "\n",
       "       [[-0.13188404,  0.19391163, -0.15402895, ...,  0.03022465,\n",
       "          0.2914074 , -0.03320358],\n",
       "        [-0.13059261,  0.02525829, -0.1700506 , ..., -0.04651412,\n",
       "          0.3095124 , -0.08072825]],\n",
       "\n",
       "       [[-0.09424087,  0.06149313,  0.03782856, ...,  0.25264123,\n",
       "          0.78810036,  0.3979171 ],\n",
       "        [-0.07242909,  0.07817103,  0.01561969, ...,  0.05744653,\n",
       "          0.65861195,  0.4138601 ]],\n",
       "\n",
       "       [[-0.1109979 , -0.13378666, -0.12723249, ...,  0.12431373,\n",
       "          0.2274526 ,  0.04853112],\n",
       "        [-0.0547332 ,  0.14385927,  0.11042475, ...,  0.23039806,\n",
       "          0.12808844,  0.14462309]]], dtype=float32)"
      ]
     },
     "execution_count": 88,
     "metadata": {},
     "output_type": "execute_result"
    }
   ],
   "source": [
    "medqa_embed_np[:5]"
   ]
  },
  {
   "cell_type": "code",
   "execution_count": 96,
   "id": "148e9a2b-be12-4f66-a24d-6199f79df11b",
   "metadata": {
    "execution": {
     "iopub.execute_input": "2024-11-10T03:47:29.701534Z",
     "iopub.status.busy": "2024-11-10T03:47:29.701045Z",
     "iopub.status.idle": "2024-11-10T03:47:29.732823Z",
     "shell.execute_reply": "2024-11-10T03:47:29.732264Z",
     "shell.execute_reply.started": "2024-11-10T03:47:29.701516Z"
    }
   },
   "outputs": [
    {
     "name": "stdout",
     "output_type": "stream",
     "text": [
      "torch.Size([768])\n",
      "tensor([-2.1460e-01,  3.6954e-02, -1.7458e-01,  4.7686e-02,  3.4453e-01,\n",
      "        -5.2372e-02, -2.7610e-01, -3.1338e-01,  1.1936e-02, -1.9937e-01,\n",
      "         7.2273e-02,  2.0138e-01,  1.2673e-01, -3.5941e-02, -3.2551e-01,\n",
      "        -1.6935e-01, -6.2313e-01, -1.2549e-01, -2.7629e-01,  3.1824e-01,\n",
      "         1.0099e-01,  3.3601e-01, -1.2712e-01,  1.0168e-01,  2.1493e-01,\n",
      "         3.0489e-01,  2.6947e-02,  4.0525e-03, -2.1385e-01, -1.5844e-01,\n",
      "        -4.1671e-02, -1.3978e-01, -3.0609e-01, -2.4108e-02, -4.8486e-01,\n",
      "        -4.8428e-02, -7.9456e-02,  2.8646e-01,  4.0283e-01, -1.0219e-02,\n",
      "         4.2047e-02, -3.7425e-01, -4.2764e-02,  5.3637e-03, -8.3025e-02,\n",
      "         3.8776e-01, -7.1239e-02,  6.7912e-02,  6.9406e-02, -1.4330e-01,\n",
      "        -4.5817e-01,  5.6886e-02,  4.4269e-03,  6.6588e-02, -2.4175e-01,\n",
      "         1.8159e-01, -4.1495e-01, -2.1175e-01, -6.3496e-01,  6.7503e-02,\n",
      "        -5.3869e-03, -2.0554e-01, -2.6828e-02,  1.9761e-01, -7.9765e-03,\n",
      "        -5.5975e-01, -1.4683e-01, -1.3381e-02,  2.0957e-02,  1.3273e-01,\n",
      "         1.4104e-01,  1.9998e-01, -1.7396e-01,  7.2762e-02, -5.9486e-02,\n",
      "         1.4382e-01, -5.4037e-03, -1.8724e-01, -1.8041e-01, -1.6382e-01,\n",
      "         1.7413e-01,  5.4319e-02,  1.5162e-01, -1.2394e-01,  3.4421e-02,\n",
      "        -1.2553e-01,  1.8535e-01, -1.4191e-02, -3.0176e-01,  1.9095e-01,\n",
      "         3.1816e-01,  1.1388e-01, -5.8635e-02, -2.7386e-02, -9.1302e-02,\n",
      "         5.3182e-02,  8.2667e-02, -7.9786e-02, -8.1087e-02,  7.0902e-02,\n",
      "         1.8291e-01, -1.1450e-01,  1.1791e-01, -1.5738e-01, -4.2804e-01,\n",
      "        -1.6480e-01,  4.8236e-02,  2.9773e-02, -2.6649e-01,  1.8485e-01,\n",
      "        -1.1449e-01, -4.4601e-02, -3.3814e-01, -1.6525e-01,  1.9194e-01,\n",
      "        -1.3277e-01,  5.4188e-02, -1.7154e-01,  2.3025e-01,  3.8853e-01,\n",
      "        -1.8148e-01,  2.5025e-02, -2.5651e-01,  1.1818e-01,  1.4063e-01,\n",
      "        -1.0908e-01, -1.4656e-01,  3.0018e-01, -1.1688e-01,  3.0547e-02,\n",
      "         1.8215e-01, -2.3802e-02, -2.3486e-01,  5.6636e-02, -1.3286e-01,\n",
      "         2.0043e-01,  9.9608e-02,  3.1369e-04,  1.3932e-01, -1.8179e-01,\n",
      "        -2.8051e-01,  1.2307e-01, -1.9496e-01, -1.3739e-01,  1.8050e-01,\n",
      "         3.7593e-02, -8.9745e-02, -2.3509e-01,  3.1639e-03, -4.0571e-02,\n",
      "        -1.6177e-01,  2.2375e-01,  6.8139e-02,  2.0297e-01,  9.9701e-03,\n",
      "        -2.8379e-01,  2.0838e-01, -3.5406e-02, -7.2047e-02, -4.9448e-02,\n",
      "         1.7244e-01, -1.2877e-01, -1.2572e-01,  1.9551e-01,  1.8438e-01,\n",
      "        -2.0770e-01, -3.2279e-01,  9.2113e-03,  5.1419e-02,  1.5469e-01,\n",
      "         1.4060e-01,  1.8456e-01,  7.9133e-01, -1.4654e-01, -7.6626e-02,\n",
      "         7.6324e-02,  2.0848e-02,  1.0613e-01, -2.6681e-01, -1.0459e-01,\n",
      "         4.6923e-02, -3.3749e-01, -2.1487e-02, -2.5586e-01,  1.8177e-01,\n",
      "        -4.4827e-01, -9.1246e-02, -6.0856e-02,  1.5508e-01,  2.6548e-01,\n",
      "         1.5903e-01,  3.6548e-01, -4.0398e-01, -4.3126e-02,  3.3264e-01,\n",
      "         2.6709e-01, -1.1748e-01,  1.4590e-01,  1.3632e-01, -2.2906e-01,\n",
      "        -3.9684e-01, -2.0382e-01,  1.7081e-01,  2.7556e-01,  1.5811e-01,\n",
      "         2.1765e-01, -4.1435e-01,  4.6390e-01, -3.6068e-01,  3.6986e-01,\n",
      "        -5.5329e-01, -1.4539e-01, -1.3797e-01,  4.9707e-02,  1.0045e-01,\n",
      "         1.9253e-01,  1.6574e-01, -6.0291e-02, -1.6794e-02,  1.4588e-01,\n",
      "         1.9213e-01, -4.5354e-01,  1.1860e-01,  9.2377e-02,  3.2537e-01,\n",
      "        -2.4043e-01, -1.3463e-01,  2.0977e-01, -5.0210e-02, -3.1309e-01,\n",
      "         1.6411e-02,  6.2484e-02,  4.1502e-01,  2.7903e-01, -7.4890e-02,\n",
      "        -6.6125e-02, -6.2442e-02,  2.4749e-01,  1.0277e-01,  1.1796e-01,\n",
      "        -1.3210e-01,  2.0827e-01, -2.6287e-01, -5.5541e-02,  4.9538e-04,\n",
      "         6.1199e-02, -1.4731e-01,  1.3984e-01,  3.3181e-01, -2.5011e-01,\n",
      "        -4.1537e-02,  2.1575e-01,  1.2296e-01,  4.6425e-02,  3.6928e-02,\n",
      "         3.1472e-01,  1.3829e-01,  3.9638e-01, -3.7612e-01,  1.1892e-01,\n",
      "        -2.6738e-01,  1.6355e-03,  2.2014e-01,  2.2446e-01,  5.5747e-01,\n",
      "        -1.2825e-01,  6.5460e-02,  2.6662e-02, -9.2635e-02,  2.1266e-01,\n",
      "        -1.7751e-01, -4.1561e-01,  2.9521e-01,  1.3517e-01,  2.0907e-01,\n",
      "        -5.5102e-01, -3.1465e-01, -2.2077e-02,  3.2022e-01, -5.2717e-01,\n",
      "         5.6744e-02,  1.0326e-01, -2.4275e-01,  6.4167e-02,  1.4886e-01,\n",
      "         8.8505e-02, -5.3075e-02, -2.3399e-01, -2.8463e-01, -6.3572e-02,\n",
      "        -1.4104e-01,  1.2991e-01, -2.0049e-01, -3.5399e-02,  9.2935e-02,\n",
      "         2.4982e-01,  9.3764e-02,  1.9316e-01, -5.0606e-02,  3.8926e-02,\n",
      "        -4.1845e-01, -4.6922e-02,  2.6003e-01, -1.9885e-01,  1.4306e-01,\n",
      "        -2.3462e-01, -1.8681e-01,  2.4556e-01, -2.5462e-01, -1.8457e-01,\n",
      "        -1.6906e-01, -2.2099e-01, -2.2175e-01,  4.5731e-01,  1.2615e-01,\n",
      "        -1.7856e-01, -3.2566e-01, -1.4172e-01, -3.0302e-01,  2.4512e-01,\n",
      "         1.0713e-01,  1.5590e-01,  1.5222e-01,  2.1953e-01, -4.7819e-02,\n",
      "         1.9575e-01,  1.4180e-01,  9.0840e-02,  1.4283e-01, -3.7850e-01,\n",
      "        -1.3584e-01,  4.1097e-01,  6.0535e-02, -2.5867e-01,  6.8362e-01,\n",
      "        -2.4484e-01,  3.0234e-02, -9.0501e-02, -2.3440e-01,  7.4944e-02,\n",
      "         2.0313e-01,  3.1238e-01, -3.0627e-02,  2.2202e-01, -1.7780e-02,\n",
      "        -1.7064e-01,  3.6525e-01, -3.5241e-01, -1.7900e-01,  9.1543e-02,\n",
      "        -4.8915e-01, -8.9360e-02, -1.9826e-01, -2.1806e-02, -2.3215e-01,\n",
      "         6.4764e-02, -9.3940e-02,  1.5112e-01,  2.8278e-01, -8.6443e-02,\n",
      "         1.8387e-01, -1.3115e-01, -3.6835e-02,  2.1573e-01,  3.3467e-01,\n",
      "         3.5138e-01,  1.1961e-01, -2.6578e-01, -5.4549e-02, -5.0893e-02,\n",
      "        -1.3281e-01, -1.2204e-01,  1.0110e-01, -3.1974e-01, -2.4657e-01,\n",
      "        -2.0052e-02,  1.4359e-01, -2.6504e-01,  1.5245e-01, -1.9311e-01,\n",
      "         5.7789e-02,  1.1275e-01,  6.6191e-02, -1.3377e-02,  2.2142e-02,\n",
      "         3.6141e-01, -4.3176e-01,  4.0891e-01,  2.0288e-01,  2.5205e-01,\n",
      "        -7.4676e-02,  1.4028e-01, -4.1007e-01,  1.7806e-01, -3.9177e-02,\n",
      "         3.2640e-03, -2.3122e-01, -1.3787e-01,  2.0736e-02, -7.7251e-02,\n",
      "         1.6411e-02, -2.8369e-01,  5.8615e-02,  2.3231e-02, -2.7728e-02,\n",
      "         3.0615e-02, -2.5633e-01, -1.8940e-01,  1.0298e-01, -1.0897e-02,\n",
      "         3.0804e-01,  6.6707e-02, -1.1268e-01,  6.4102e-02,  1.6568e-01,\n",
      "        -5.4021e-02,  1.7190e-01,  1.0505e-01, -1.2636e-01, -2.2840e-01,\n",
      "        -7.6608e-02,  1.3383e-01, -1.1736e-01,  1.7775e-01, -6.3009e+00,\n",
      "         2.9804e-01,  2.6333e-01, -1.4586e-01, -4.3722e-01, -2.0484e-01,\n",
      "         1.7168e-01, -4.9513e-02,  4.4741e-03, -2.7930e-01,  2.4817e-01,\n",
      "        -2.4470e-01,  1.6422e-02, -1.7752e-01, -1.1657e-01,  1.0854e-01,\n",
      "        -1.0020e-02, -4.4419e-01,  1.1539e-01,  1.9713e-01, -4.4389e-01,\n",
      "        -4.7506e-01,  2.3896e-01, -3.0012e-02,  1.4430e-01, -5.6551e-01,\n",
      "         2.5446e-01, -4.4890e-02,  1.5789e-01, -9.7555e-02, -1.3864e-01,\n",
      "        -1.0674e-01, -3.8550e-01, -8.9681e-02,  2.3290e-01,  7.7587e-02,\n",
      "        -2.6786e-01, -4.0476e-01,  7.5314e-02,  1.4662e-01,  3.9738e-02,\n",
      "         1.7967e-01, -1.9239e-01, -5.0157e-02,  9.6004e-02,  2.1956e-01,\n",
      "         2.4068e-01,  2.4347e-01, -7.7734e-02, -3.0217e-02,  1.0922e-01,\n",
      "        -1.0193e-02,  7.1039e-02, -5.2073e-01, -5.0691e-01, -2.0305e-01,\n",
      "         3.0338e-01, -4.0618e-01,  3.0518e-01, -3.5384e-01,  2.2513e-01,\n",
      "        -2.3632e-01, -1.3704e-01, -1.4879e-01,  9.8542e-02, -5.4318e-01,\n",
      "         5.5339e-02,  7.7755e-02,  1.0368e-01, -3.3698e-01, -2.3237e-01,\n",
      "         1.5001e-01,  4.4054e-01,  3.8311e-01,  3.3103e-01,  2.9381e-01,\n",
      "        -2.2452e-01, -1.5793e-01,  1.3082e+00,  3.1900e-01,  1.2776e-01,\n",
      "         6.7535e-02,  4.4860e-01,  1.2419e-01, -3.8114e-01,  5.3114e-02,\n",
      "        -1.6392e-01,  1.5007e-01,  1.0660e-01, -4.1316e-02, -1.2985e-01,\n",
      "         3.0075e-01,  6.9644e-03, -1.9182e-01,  1.1446e-01,  1.6495e-01,\n",
      "        -2.3979e-01, -2.1919e-01,  2.0904e-01,  9.3591e-02,  2.2408e-01,\n",
      "         2.6440e-03, -1.0156e-01, -2.1317e-01,  2.6624e-01, -5.2958e-01,\n",
      "        -1.1709e-01,  4.5881e-01,  3.0039e-01,  1.7607e-02,  2.7551e-01,\n",
      "         2.5389e-02, -3.2758e-01,  1.4551e-01, -1.3802e-02, -3.5065e-01,\n",
      "         1.6941e-02, -7.7663e-02,  1.4371e-01,  5.5141e-02, -3.5838e-01,\n",
      "         2.0210e-01, -6.9214e-02,  2.5522e-01,  1.9996e-02, -2.1172e-01,\n",
      "        -6.2007e-02, -9.9132e-02,  5.5249e-01,  7.4092e-02,  2.4667e-01,\n",
      "         8.5395e-02,  6.2490e-01,  1.1672e-01,  1.3854e-01, -2.5421e-01,\n",
      "        -3.4567e-01,  1.1141e-01,  2.3621e-01,  3.2125e-01, -2.3217e-01,\n",
      "        -1.2519e-01, -2.4853e-01,  2.1889e-01, -1.8077e-01,  2.5343e-01,\n",
      "        -1.7819e-01, -3.4654e-01, -3.9986e-02,  3.3596e-01,  3.9537e-02,\n",
      "         2.0341e-01,  4.4499e-01, -1.4247e-01,  9.2351e-02,  4.7837e-01,\n",
      "        -5.0478e-01, -3.8062e-02,  8.8859e-02,  1.7066e-01, -4.6065e-01,\n",
      "        -6.0560e-01,  4.5840e-02, -1.2325e-01,  1.7695e-01,  9.0365e-02,\n",
      "         8.6691e-02,  2.9439e-01, -4.5003e-01, -2.6371e-01,  1.8026e-01,\n",
      "        -3.3988e-01,  1.3157e-01,  3.6451e-01, -1.9455e-01,  2.9061e-01,\n",
      "         1.2826e-02,  4.0948e-02, -1.6022e-01, -3.3864e-01,  2.8096e-02,\n",
      "        -4.2299e-02, -2.4610e-01,  7.3952e-02,  1.6831e-01, -7.4791e-02,\n",
      "         1.9954e-01, -1.2699e-01, -2.0959e-01, -1.8652e-02,  2.2516e-01,\n",
      "         8.2437e-02, -6.2130e-02,  1.8246e-01, -2.0377e-01,  1.5926e-02,\n",
      "         1.7611e-01,  1.8197e-01, -1.0664e-01, -1.5673e-02, -2.1374e-01,\n",
      "         1.2165e-02,  1.4514e-01,  3.6562e-02,  1.6946e-01,  9.0977e-02,\n",
      "        -2.6444e-01, -8.3887e-02, -1.1694e-01, -3.4187e-01,  2.1964e-01,\n",
      "         1.4667e-01, -9.4899e-02, -1.4742e-01, -3.4035e-01, -5.0405e-02,\n",
      "        -1.8507e-01, -4.8475e-02, -5.0796e-01, -1.3155e-02,  1.8790e-02,\n",
      "        -5.7744e-02,  1.0614e-01, -1.6317e-01,  6.1256e-02,  2.9827e-01,\n",
      "         6.1990e-03,  9.2152e-02, -3.9334e-01,  1.7129e-01,  1.0481e-01,\n",
      "         1.4290e-02,  4.9728e-01,  1.4601e-01,  1.4549e-01, -4.3502e-02,\n",
      "        -2.2983e-01,  1.5757e-01, -3.2046e-01,  1.2182e-01,  3.2474e-02,\n",
      "        -1.6257e-01, -1.5408e-01, -1.3743e-01, -2.0936e-01, -1.9910e-01,\n",
      "         1.4177e-01, -1.3382e-01, -1.3878e-02, -1.6694e-01,  1.7998e-01,\n",
      "        -2.6441e-01,  1.8456e-01, -3.9622e-01, -5.1398e-01,  2.3786e-01,\n",
      "         7.7716e-02, -1.8322e-01,  7.4098e-02, -1.5677e-01, -1.1528e-01,\n",
      "         6.2286e-02, -8.5206e-02,  1.0184e-01,  3.4307e-01, -4.2367e-01,\n",
      "         4.8465e-03, -1.9531e-01, -6.6409e-02,  1.8712e-01,  1.7103e-01,\n",
      "         1.8978e-01, -2.2839e-01,  5.5822e-01,  1.1387e-01, -1.3263e-01,\n",
      "        -6.0403e-02,  4.9769e-01, -4.7892e-02,  7.1693e-02, -1.7706e-01,\n",
      "        -1.4979e-01,  1.6508e-01,  8.9241e-02,  1.1463e-01,  8.7917e-02,\n",
      "         1.2254e-01,  2.8078e-01, -2.8339e-01, -3.9876e-01, -2.6026e-01,\n",
      "        -4.4925e-03, -1.5296e-01, -1.6017e-01,  3.2622e-01, -6.6571e-02,\n",
      "        -5.5992e-01,  1.9784e-01, -1.2596e-01,  2.8834e-01, -2.5549e-01,\n",
      "         1.8879e-02, -2.9574e-01,  2.7441e-01, -1.7540e-01,  3.7705e-02,\n",
      "        -2.1971e-01, -4.6236e-01,  3.0189e-02, -1.4018e-01,  1.0660e-01,\n",
      "        -6.2622e-02,  4.1191e-02,  2.5340e-01, -1.7611e-01,  2.5570e-01,\n",
      "        -1.8979e-01, -1.2224e-01,  8.8073e-02,  1.8707e-01,  3.7898e-01,\n",
      "        -3.6515e-02,  4.3415e-02,  2.7272e-02, -1.8407e-01,  8.7116e-02,\n",
      "        -1.9633e-01,  3.5743e-02,  3.3886e-01,  4.1240e-02,  3.5601e-01,\n",
      "         2.1327e-01,  2.9501e-01,  7.4218e-02,  7.6676e-02,  1.5422e-01,\n",
      "        -2.9984e-01,  1.4302e-01,  3.5124e-01, -3.5700e-01,  1.5807e-01,\n",
      "         1.2507e-01,  4.9004e-01,  2.6928e-01], device='cuda:0')\n"
     ]
    }
   ],
   "source": [
    "data = ds[\"train\"][1]\n",
    "question = data[\"question\"]\n",
    "answer = data[\"response\"]\n",
    "# medqa_save.append([question, answer])\n",
    "try:\n",
    "    with torch.no_grad():\n",
    "        encoded = tokenizer(\n",
    "            [[question, answer]], \n",
    "            truncation=True, \n",
    "            padding=True, \n",
    "            return_tensors='pt',\n",
    "            max_length=512,\n",
    "        ).to(device)\n",
    "        embeds = model(**encoded).last_hidden_state[:, 0, :]\n",
    "        print(embeds[0].size())\n",
    "        print(embeds[0])\n",
    "except Exception:\n",
    "    print(f\"err: {i}\")\n",
    "    "
   ]
  },
  {
   "cell_type": "code",
   "execution_count": 112,
   "id": "b8dd7bf9-9ed4-428d-a6cb-a64b17c82308",
   "metadata": {
    "execution": {
     "iopub.execute_input": "2024-11-10T05:01:34.420603Z",
     "iopub.status.busy": "2024-11-10T05:01:34.420363Z",
     "iopub.status.idle": "2024-11-10T05:01:34.436033Z",
     "shell.execute_reply": "2024-11-10T05:01:34.435618Z",
     "shell.execute_reply.started": "2024-11-10T05:01:34.420586Z"
    }
   },
   "outputs": [
    {
     "name": "stdout",
     "output_type": "stream",
     "text": [
      "Query: How to treat diabetes with COVID-19?\n",
      "PMID: {'dataset_name': 'medqa_mixtral_cot', 'system_prompt': 'You are an expert medical assistant named Aloe, developed by the High Performance Artificial Intelligence Group at Barcelona Supercomputing Center(BSC). You are to be a helpful, respectful, and honest assistant.', 'question': 'Given the following medical question with options, your task is to select the correct answer by the following process: First summarize what the question is about, then analyze each option individually, and finally select the correct answer through a step-by-step process and conclude by your final option selected. Question: A randomized controlled trial was initiated to evaluate a novel DPP-4 inhibitor for blood glucose management in diabetic patients. The study used a commonly prescribed sulfonylurea as the standard of care treatment. 2,000 patients were enrolled in the study with 1,000 patients in each arm. One of the primary outcomes was the development of diabetic nephropathy during treatment. This outcome occurred in 68 patients on the DPP-4 inhibitor and 134 patients on the sulfonylurea. What is the relative risk reduction (RRR) for patients using the DPP-4 inhibitor compared with the sulfonylurea?\\nChoices:\\nA. 23%\\nB. 33%\\nC. 49%\\nD. 59%', 'response': 'A randomized controlled trial was conducted to evaluate a novel DPP-4 inhibitor for blood glucose management in diabetic patients. The study compared the experimental DPP-4 inhibitor with a commonly prescribed sulfonylurea as standard of care treatment. 2,000 patients were enrolled in the study with equal amounts in each arm. One of the primary outcomes studied was the development of diabetic nephropathy during treatment.\\nIn the DPP-4 inhibitor group, 68 patients developed diabetic nephropathy. In the sulfonylurea group, 134 patients developed diabetic nephropathy. The task is to determine the relative risk reduction (RRR) for patients using the DPP-4 inhibitor compared with the sulfonylurea.\\nTo calculate the relative risk reduction (RRR), we will first determine the relative risk (RR) by using the formula: RR = (risk in treated group)/(risk in control group). The risk in the DPP-4 inhibitor group is 68/1000 and in the sulfonylurea group is 134/1000. RR = (68/1000) / (134/1000) = 0.507.\\nNext, we will calculate the relative risk reduction (RRR) using the formula: RRR = (1 - RR) * 100%. So, RRR = (1 - 0.507) * 100% = 49.3%.\\nTherefore, the correct answer is C. 49%. The use of the DPP-4 inhibitor instead of the sulfonylurea resulted in a 49% relative risk reduction in the development of diabetic nephropathy.\\nAnswer: C.'}; Score: 61.490325927734375\n",
      "PMID: {'dataset_name': 'medqa_mixtral_cot', 'system_prompt': 'You are an expert medical assistant named Aloe, developed by the High Performance Artificial Intelligence Group at Barcelona Supercomputing Center(BSC). You are to be a helpful, respectful, and honest assistant.', 'question': \"Given the following question and the possible choices, select the correct option. Let's think step by step. Question: A 52-year-old woman presents to the physician for a routine physical examination. She has type 2 diabetes that she treats with metformin. Her pulse is 85/min, respiratory rate is 15/min, blood pressure is 162/96 mm Hg, and temperature is 37.0°C (98.6°F). Treatment with a first-line drug is initiated. Which of the following is the most likely effect of this medication?\\n  24-hour urine sodium Aldosterone Angiotensin II Peripheral vascular resistance Renin\\nA Increased Decreased Decreased Decreased Increased\\nB Increased Decreased Decreased Decreased Decreased\\nC Increased Increased Increased Increased Increased\\nD Decreased Increased Increased Decreased Increased\\nE Increased Decreased Increased Decreased Increased\\nChoices:\\nA. A\\nB. B\\nC. C\\nD. E\", 'response': \"The question presents a 52-year-old woman with type 2 diabetes who is being treated with metformin. She presents for a routine physical examination and is found to have hypertension with a blood pressure reading of 162/96 mm Hg. A first-line drug treatment is initiated. The task is to determine the most likely effect of this medication.\\nLet's break down the options:\\nOption A: The first-line treatment for individuals with type 2 diabetes and hypertension often includes an ACE inhibitor or an angiotensin receptor blocker (ARB). These medications work by inhibiting the effects of angiotensin II. This results in decreased peripheral vascular resistance and blood pressure, leading to an increase in renin release due to loss of angiotensin II's negative feedback. Additionally, they promote sodium excretion in the urine, contributing to their antihypertensive effects. Hence, the most likely effect of the medication is: increased 24-hour urine sodium, decreased aldosterone, angiotensin II, and peripheral vascular resistance, with increased renin.\\nOption B: This option is incorrect as it does not reflect the expected effect of an ACE inhibitor or ARB on aldosterone.\\nOption C: This option is incorrect as it suggests that the medication would decrease renin which is contradictory to the expected effect of ACE inhibitors/ARBs.\\nOption D: This option is incorrect as it states an increase in angiotensin II, which is opposite to the intended effect of ACE inhibitors/ARBs.\\nOption E: This option is incorrect as it states a decrease in sodium excretion instead of the expected increase.\\nGiven the patient's hypertension and the most likely medication choice (an ACE inhibitor or ARB), the most likely effect of the medication is: increased 24-hour urine sodium, decreased aldosterone, angiotensin II, and peripheral vascular resistance, with increased renin. Therefore, the correct answer is  A.\"}; Score: 61.15055847167969\n",
      "PMID: {'dataset_name': 'medqa_mixtral_cot', 'system_prompt': 'You are an expert medical assistant named Aloe, developed by the High Performance Artificial Intelligence Group at Barcelona Supercomputing Center(BSC). You are to be a helpful, respectful, and honest assistant.', 'question': 'Given the medical question presented along with various options, your objective is to identify the most suitable response using the following methodology: Begin by providing a concise overview of the scenario, followed by a detailed analysis of each option, and ultimately conclude by selecting the correct answer based on a systematic evaluation process, and select the correct option. Question: Researchers are studying the effects of a new medication for the treatment of type 2 diabetes. A randomized group of 100 subjects is given the new medication 1st for 2 months, followed by a washout period of 2 weeks, and then administration of the gold standard medication for 2 months. Another randomized group of 100 subjects is be given the gold standard medication 1st for 2 months, followed by a washout period of 2 weeks, and then administration of the new medication for 2 months. What is the main disadvantage of this study design?\\nChoices:\\nA. Increasing confounding bias\\nB. Decreasing power\\nC. Hawthorne effect\\nD. Carryover effect', 'response': \"The question presents a study design in which researchers are testing a new medication for type 2 diabetes by administering it to one group of subjects, followed by a washout period and then administration of the gold standard medication. Another group of subjects is given the gold standard medication first, followed by the same washout period and then administration of the new medication. The task is to identify the main disadvantage of this study design.\\nLet's break down the options:\\nOption A: Increasing confounding bias. This option is incorrect because the study design involves a randomized control trial, which reduces confounding factors.\\nOption B: Decreasing power. This option is incorrect because the two groups of 100 subjects each will provide sufficient power for the study.\\nOption C: Hawthorne effect. This option is incorrect because the Hawthorne effect refers to the changes in behavior due to the subjects being aware of being observed, and it is not related to the study design itself.\\nOption D: Carryover effect. This option is the correct answer. The study design involves a within-subjects crossover design, where each subject is exposed to both medications. The carryover effect occurs when the effects of the first medication are not completely eliminated despite the washout period, thereby affecting the outcome when the subjects are switched to the second medication. In this study, even a two-week washout period may not be enough to remove all influences of the first drug given, which could lead to residual effects that confound the results when evaluating the effectiveness of the second medication. This could potentially yield misleading results regarding the true efficacy and side effects profile of both medications.\\nAnswer: D.\"}; Score: 61.03334426879883\n",
      "PMID: {'dataset_name': 'medqa_mixtral_cot', 'system_prompt': 'You are an expert medical assistant named Aloe, developed by the High Performance Artificial Intelligence Group at Barcelona Supercomputing Center(BSC). You are to be a helpful, respectful, and honest assistant.', 'question': 'Answer the following question by selecting one of the possible choices. Explain the reasoning process of your decision. Question: A 57-year-old woman presents to her physician for a checkup. The past medical history is significant for diabetes mellitus type 2, and a history of myocardial infarction. The current medications are aspirin, lisinopril, metoprolol, atorvastatin, and metformin. The patient’s HbA1c is 7.9%, and her fasting blood glucose is 8.9 mmol/L (160 mg/dL). Which of the following statements regarding the use of exenatide in this patient is most correct?\\nChoices:\\nA. It cannot be combined with metformin.\\nB. It does not decrease cardiovascular outcomes.\\nC. There is a high risk of hypoglycemia in patients who use this medication.\\nD. This medication should not be combined with insulin.', 'response': \"The question presents a 57-year-old woman with a past medical history of diabetes mellitus type 2 and a history of myocardial infarction. She is currently taking several medications, including metformin. Her HbA1c is 7.9%, and her fasting blood glucose is 8.9 mmol/L (160 mg/dL). The task is to determine which statement regarding the use of exenatide in this patient is most correct.\\nLet's break down the options:\\nOption A: It cannot be combined with metformin. This is incorrect, as exenatide is often used in combination with metformin to improve glycemic control in patients with type 2 diabetes mellitus.\\nOption B: It does not decrease cardiovascular outcomes. This is the most correct statement, as exenatide does not have a proven benefit in decreasing cardiovascular outcomes. While some other GLP-1 agonists have shown cardiovascular benefits, exenatide itself does not have this effect, as of the knowledge cutoff in 2023.\\nOption C: There is a high risk of hypoglycemia in patients who use this medication. This is incorrect, as exenatide has a glucose-dependent mechanism of action, which lowers the risk of hypoglycemia. It is not associated with a high risk of hypoglycemia.\\nOption D: This medication should not be combined with insulin. While exenatide can be combined with insulin, precautions are needed to avoid hypoglycemia, making this statement not absolutely correct.\\nGiven the information presented, the most correct statement regarding the use of exenatide in this patient is that it does not decrease cardiovascular outcomes. Therefore, the correct answer is  B. It does not decrease cardiovascular outcomes.\\nAnswer: B.\"}; Score: 61.00828552246094\n",
      "PMID: {'dataset_name': 'medqa_mixtral_cot', 'system_prompt': 'You are an expert medical assistant named Aloe, developed by the High Performance Artificial Intelligence Group at Barcelona Supercomputing Center(BSC). You are to be a helpful, respectful, and honest assistant.', 'question': 'Given the following medical question with options, your task is to select the correct answer by the following process: First summarize what the question is about, then analyze each option individually, and finally select the correct answer through a step-by-step process and conclude by your final option selected. Question: A 69-year-old woman with type 2 diabetes mellitus has an HbA1c of 3.9% and has been using basal-bolus insulin to manage her diabetes for the past 5 years. She has been maintaining a healthy diet, taking her insulin as scheduled but her records show morning hyperglycemia before eating breakfast. To determine the cause of this hyperglycemia, you ask her to set an alarm and take her blood glucose at 3 am. At 4 am her blood glucose is 49 mg/dL. Which of the following statements best describes the management of this patient’s current condition?\\nChoices:\\nA. She is experiencing dawn phenomenon so her nighttime insulin should be increased\\nB. She is experiencing Somogyi effect so her nighttime insulin should be increased\\nC. She is experiencing Somogyi effect so her nighttime insulin should be decreased\\nD. Hyperosmolar hyperglycemic state; increase nighttime insulin', 'response': \"The question presents a 69-year-old woman with type 2 diabetes mellitus who has been using basal-bolus insulin to manage her diabetes for the past 5 years. She is maintaining a healthy diet and taking her insulin as scheduled but has morning hyperglycemia before eating breakfast. To determine the cause of this hyperglycemia, she took her blood glucose at 3 am, which read 49 mg/dL at 4 am. The task is to determine the best management for her current condition.\\nLet's break down the options:\\nOption A: She is experiencing dawn phenomenon so her nighttime insulin should be increased. Dawn phenomenon is a normal physiological process where blood glucose levels rise in the early morning, usually around 4 am, due to the secretion of counter-regulatory hormones, such as growth hormone, cortisol, and glucagon. However, in this case, the patient's blood glucose level at 4 am is 49 mg/dL, indicating hypoglycemia instead of hyperglycemia.\\nOption B: She is experiencing the Somogyi effect so her nighttime insulin should be increased. The Somogyi effect is a rebound hyperglycemia in response to nocturnal hypoglycemia, caused by the release of stress hormones to counteract low blood sugar. However, increasing the nighttime insulin would exacerbate the hypoglycemia, not correct it.\\nOption C: She is experiencing the Somogyi effect so her nighttime insulin should be decreased. This is the correct approach to managing her condition, as the low blood glucose at 4 am suggests hypoglycemia, which triggers the Somogyi effect. Decreasing her nighttime insulin will prevent the nocturnal hypoglycemia and the subsequent morning hyperglycemia.\\nOption D: Hyperosmolar hyperglycemic state; increase nighttime insulin. A hyperosmolar hyperglycemic state is a life-threatening condition characterized by extremely high blood glucose levels, usually without significant ketosis. This condition typically does not present with hypoglycemia followed by rebound hyperglycemia.\\nGiven the patient's blood glucose levels and the presence of the Somogyi effect, the best management for her current condition is to decrease her nighttime insulin. Therefore, the correct answer is  C. She is experiencing the Somogyi effect so her nighttime insulin should be decreased.\\nAnswer: C.\"}; Score: 60.84223175048828\n",
      "PMID: {'dataset_name': 'medqa_mixtral_cot', 'system_prompt': 'You are an expert medical assistant named Aloe, developed by the High Performance Artificial Intelligence Group at Barcelona Supercomputing Center(BSC). You are to be a helpful, respectful, and honest assistant.', 'question': 'Presented with a medical question accompanied by multiple choices, your objective is to identify the correct response employing a systematic strategy. Start by summarizing the essence of the query, then meticulously assess each option in isolation. Conclude by employing a logical and sequential reasoning process to determine the correct answer. Clarify the selected option at the end. Question: A randomized control double-blind study is conducted on the efficacy of 2 sulfonylureas. The study concluded that medication 1 was more efficacious in lowering fasting blood glucose than medication 2 (p ≤ 0.05; 95% CI: 14 [10-21]). Which of the following is true regarding a 95% confidence interval (CI)?\\nChoices:\\nA. It represents the probability that chance would not produce the difference shown, 95% of the time.\\nB. When a 95% CI for the estimated difference between groups contains the value ‘0’, the results are significant.\\nC. The range of outcome values resulting from the trial has a 95% probability of encompassing the true value.\\nD. The 95% confidence interval is the probability chosen by the researcher to be the threshold of statistical significance.', 'response': \"The question presents a randomized control double-blind study conducted on the efficacy of two sulfonylureas. The study concluded that medication 1 was more efficacious in lowering fasting blood glucose than medication 2 (p ≤ 0.05; 95% CI: 14 [10-21]). The task is to determine the true statement regarding a 95% confidence interval (CI).\\nLet's break down the options:\\nOption A: It represents the probability that chance would not produce the difference shown, 95% of the time. This statement is incorrect because a 95% CI does not directly represent the probability of chance producing the difference shown.\\nOption B: When a 95% CI for the estimated difference between groups contains the value ‘0’, the results are significant. This statement is incorrect because a CI that includes '0' suggests no significant difference.\\nOption C: The range of outcome values resulting from the trial has a 95% probability of encompassing the true value. This statement is correct. A 95% confidence interval represents the range within which we can be 95% confident that the true difference between the effects of the two medications lies. This interval is calculated from the data obtained in the study and indicates that if the study were repeated multiple times, 95% of the calculated CIs from those studies would contain the true difference.\\nOption D: The 95% confidence interval is the probability chosen by the researcher to be the threshold of statistical significance. This statement is incorrect because the 95% CI is not a probability threshold chosen by the researcher, but rather a consequence of the statistical analysis.\\nGiven the information presented in the study and the explanation of the 95% confidence interval, the correct answer is C. Therefore, the range of outcome values resulting from the trial has a 95% probability of encompassing the true value.\\nAnswer: C.\"}; Score: 60.73571014404297\n",
      "PMID: {'dataset_name': 'medqa_mixtral_cot', 'system_prompt': 'You are an expert medical assistant named Aloe, developed by the High Performance Artificial Intelligence Group at Barcelona Supercomputing Center(BSC). You are to be a helpful, respectful, and honest assistant.', 'question': 'Given the medical question presented along with various options, your objective is to identify the most suitable response using the following methodology: Begin by providing a concise overview of the scenario, followed by a detailed analysis of each option, and ultimately conclude by selecting the correct answer based on a systematic evaluation process, and select the correct option. Question: A 57-year-old woman with type 2 diabetes mellitus comes to the physician for a follow-up examination. She previously had been compliant with her diet and medication but has had a 5-kg (11-lb) weight gain since the last visit 6 months ago. She reports that she often misses doses of her metformin. Her hemoglobin A1c is 9.8%. Which of the following is the most appropriate course of action?\\nChoices:\\nA. Refer the patient to a dietician\\nB. Schedule more frequent follow-up visits\\nC. Refer the patient to an endocrinologist\\nD. Add glyburide to the medication regimen', 'response': \"The question presents a 57-year-old woman with type 2 diabetes mellitus who has gained 5 kg since her last visit 6 months ago and reports missing doses of her metformin. Her hemoglobin A1c is 9.8%, indicating that her diabetes is not well-controlled. The task is to determine the most appropriate course of action.\\nLet's break down the options:\\nOption A: Refer the patient to a dietician. While seeking the help of a dietician can be helpful in managing diabetes, this option does not directly address the underlying issue of medication adherence, which is likely contributing to the patient's poor glycemic control.\\nOption B: Schedule more frequent follow-up visits. This option is the most appropriate because it directly addresses the issue of medication adherence by providing the patient with more opportunities to discuss her challenges with medication and lifestyle changes, and for the physician to monitor her progress and adjust her treatment plan accordingly.\\nOption C: Refer the patient to an endocrinologist. While an endocrinologist can provide expert guidance in managing diabetes, this option does not directly address the immediate issue of medication adherence, and may delay the implementation of targeted interventions to improve the patient's glycemic control.\\nOption D: Add glyburide to the medication regimen. This option may be considered if the patient's medication regimen had no contraindications and had been optimized for maximum effectiveness. However, it does not address the underlying issue of medication adherence and may not be necessary if other adjustments to the patient's treatment plan can be made to improve her glycemic control.\\nGiven the patient's history of poor medication adherence, elevated hemoglobin A1c, and lack of other contraindicating factors, the most appropriate course of action is to schedule more frequent follow-up visits (Option B). This approach can help the patient better understand her diabetes management, reinforce the importance of medication adherence, and allow for timely adjustments to the treatment plan. Therefore, the correct answer is  B. Schedule more frequent follow-up visits.\\nAnswer: B.\"}; Score: 60.67457580566406\n",
      "PMID: {'dataset_name': 'medqa_mixtral_cot', 'system_prompt': 'You are an expert medical assistant named Aloe, developed by the High Performance Artificial Intelligence Group at Barcelona Supercomputing Center(BSC). You are to be a helpful, respectful, and honest assistant.', 'question': 'Given the following medical question with options, your task is to select the correct answer by the following process: First summarize what the question is about, then analyze each option individually, and finally select the correct answer through a step-by-step process and conclude by your final option selected. Question: A 48-year-old woman presents to her family physician for evaluation of increasing shortness of breath. She returned from a trip to China 2 weeks ago and reports fever, myalgias, headaches, and a dry cough for the past week. Over the last 2 days, she has noticed increasingly severe shortness of breath. Her past medical history is non-contributory. The heart rate is 84/min, respiratory rate is 22/min, temperature is 38.0°C (100.4°F), and blood pressure is 120/80 mm Hg. A chest X-ray shows bilateral patchy infiltrates. Laboratory studies show leukopenia. After appropriate implementation of infection prevention and control measures, the patient is hospitalized. Which of the following is the most appropriate next step in management?\\nChoices:\\nA. Lopinavir-ritonavir treatment\\nB. RT-PCR testing\\nC. Supportive therapy and monitoring\\nD. Systemic corticosteroid administration', 'response': \"The question presents a 48-year-old woman who has returned from a trip to China and is experiencing increasing shortness of breath, fever, myalgias, headaches, and a dry cough. Her chest X-ray shows bilateral patchy infiltrates, and her laboratory studies show leukopenia. The task is to determine the most appropriate next step in management.\\nLet's break down the options:\\nOption A: Lopinavir-ritonavir treatment. This is an antiviral therapy that could be considered for certain viral infections, such as HIV. However, in this context of potential severe respiratory infection, it is not the most appropriate next step in management. Antiviral therapy may be considered later, based on specific diagnosis, disease severity, and evolving clinical guidelines.\\nOption B: RT-PCR testing. This is a diagnostic test that could be used to identify specific pathogens, such as SARS-CoV-2, the virus responsible for COVID-19. While this test should be conducted, it does not replace the immediate need for supportive care. Therefore, this option is not the most appropriate next step in management.\\nOption C: Supportive therapy and monitoring. This option includes providing oxygen supplementation, hydration, and antipyretics as needed, while awaiting further diagnostics. This is a critical step in managing symptoms and preventing complications. It is the most appropriate next step in managing the patient's symptoms and ensuring her condition is closely monitored.\\nOption D: Systemic corticosteroid administration. Corticosteroids may be considered in the management of certain inflammatory conditions, but they are not typically recommended for the initial management of viral respiratory infections. Therefore, this option is not the most appropriate next step in management.\\nBased on the information provided, the most appropriate next step in management is to provide supportive therapy and monitoring (Option C). This choice is supported by the patient's presentation, the need for immediate symptom management, and the importance of monitoring her condition closely. Therefore, the correct answer is C. Supportive therapy and monitoring.\"}; Score: 60.619667053222656\n",
      "PMID: {'dataset_name': 'medqa_mixtral_cot', 'system_prompt': 'You are an expert medical assistant named Aloe, developed by the High Performance Artificial Intelligence Group at Barcelona Supercomputing Center(BSC). You are to be a helpful, respectful, and honest assistant.', 'question': 'Given the following medical question with options, your task is to select the correct answer by the following process: First summarize what the question is about, then analyze each option individually, and finally select the correct answer through a step-by-step process and conclude by your final option selected. Question: You are attempting to quantify the degree of infectivity of a novel respiratory virus. You assess 1,000 patients who have been exposed to the virus and find that 500 ultimately are found positive for the virus within a 1-year follow up period. Conversely, from a 1,000 patient control group who has not been exposed to carriers of the virus, only 5 became positive over the same 1-year period. What is the relative risk of a contracting this virus if exposed?\\nChoices:\\nA. [5 / (500 + 500)] / [5 / (995 + 995)]\\nB. [995 / (995 + 5)] / [500 / (500 + 500)]\\nC. [500/ (500 + 500)] / [5 / (5 + 995)]\\nD. (500 * 995) / (500 * 5)', 'response': \"The question presents a scenario where we need to calculate the relative risk (RR) of contracting a novel respiratory virus if exposed. We are given the data for two groups of 1,000 patients each - one group has been exposed to the virus, while the other has not.\\n\\nLet's break down the information:\\n- In the exposed group, 500 out of 1,000 patients became positive for the virus after a 1-year follow-up.\\n- In the unexposed group, only 5 out of 1,000 patients became positive over the same 1-year period.\\n\\nTo calculate the relative risk (RR), we need to determine the risk of infection in the exposed group compared to the unexposed group. The formula for RR is:\\n\\nRR = [risk in exposed group] / [risk in unexposed group]\\n\\nLet's calculate the risk in both groups:\\n\\nRisk in exposed group:\\nNumber of infected exposed patients = 500\\nTotal number of exposed patients = 500 + 500 = 1,000\\nRisk in the exposed group = 500 / 1,000 = 0.5 or 50%\\n\\nRisk in unexposed group:\\nNumber of infected unexposed patients = 5\\nTotal number of unexposed patients = 5 + 995 = 1,000\\nRisk in the unexposed group = 5 / 1,000 = 0.005 or 0.5%\\n\\nNow, let's calculate the relative risk:\\n\\nRR = [risk in exposed group] / [risk in unexposed group] = 0.5 / 0.005 = 100\\n\\nThis means that the relative risk of contracting the virus if exposed is 100 times higher compared to not being exposed. Therefore, the correct answer is:\\n\\nAnswer: C. [500 / (500 + 500)] / [5 / (5 + 995)], which corresponds to the calculation of RR based on the given information.\"}; Score: 60.57143020629883\n",
      "PMID: {'dataset_name': 'medqa_mixtral_cot', 'system_prompt': 'You are an expert medical assistant named Aloe, developed by the High Performance Artificial Intelligence Group at Barcelona Supercomputing Center(BSC). You are to be a helpful, respectful, and honest assistant.', 'question': 'Confronted with a medical inquiry alongside multiple options, your mission is to navigate them systematically to provide an accurate solution. Begin by encapsulating the essence of the question, meticulously analyze each option independently, and conclude by applying a logical thought process to select the correct answer and select the final option. Question: A 52-year-old male presents to the office for diabetes follow-up. He is currently controlling his diabetes through lifestyle modification only. He monitors his blood glucose at home with a glucometer. He gives the doctor a list of his most recent early morning fasting glucose readings from the past 8 days, which are 128 mg/dL, 130 mg/dL, 132 mg/dL, 125 mg/dL, 134 mg/dL, 127 mg/dL, 128 mg/dL, and 136 mg/dL. Which value most likely corresponds with the median of this data set?\\nChoices:\\nA. 127 mg/dL\\nB. 128 mg/dL\\nC. 129 mg/dL\\nD. 130 mg/dL', 'response': 'The question presents a 52-year-old male who is following up for diabetes management with his physician. He is controlling his diabetes through lifestyle modification only and provides his latest fasting blood glucose readings obtained at home using a glucometer. He has recorded eight fasting blood glucose values, which are 128 mg/dL, 130 mg/dL, 132 mg/dL, 125 mg/dL, 134 mg/dL, 127 mg/dL, 128 mg/dL, and 136 mg/dL. The task is to determine which value most likely corresponds with the median of this data set.\\nTo determine the median, we first order the values from lowest to highest: 125, 127, 128, 128, 130, 132, 134, 136 mg/dL. Since there are eight values in the data set and an even number of data points, the median will be the average of the two middle values (the 4th and 5th values). The 4th value is 128 mg/dL, and the 5th value is 130 mg/dL. To find the median, we take the mean of these two values: (128 + 130) / 2 = 258 / 2 = 129 mg/dL.\\nSo, based on the given information and the process of finding the median, the correct answer is 129 mg/dL. Therefore, the answer can be restated as follows:\\nAnswer: C. 129 mg/dL, which most likely corresponds with the median of this data set.'}; Score: 60.544921875\n"
     ]
    }
   ],
   "source": [
    "\n",
    "queries = [\n",
    "    \"How to treat diabetes?\", \n",
    "]\n",
    "\n",
    "with torch.no_grad():\n",
    "    # tokenize the queries\n",
    "    encoded = tokenizer(\n",
    "        queries, \n",
    "        truncation=True, \n",
    "        padding=True, \n",
    "        return_tensors='pt', \n",
    "        max_length=64,\n",
    "    ).to(device)\n",
    "    \n",
    "    # encode the queries (use the [CLS] last hidden states as the representations)\n",
    "    embeds = model(**encoded).last_hidden_state[:, 0, :]\n",
    "    \n",
    "    # search the Faiss index\n",
    "    scores, inds = index.search(embeds.cpu().numpy(), k=10)\n",
    "\n",
    "qa = ds[\"train\"]\n",
    "# print the search results\n",
    "for idx, query in enumerate(queries):\n",
    "    print(f\"Query: {query}\")\n",
    "    \n",
    "    for score, ind in zip(scores[idx], inds[idx]):\n",
    "        print(f\"PMID: {qa[int(ind)]}; Score: {score}\")"
   ]
  },
  {
   "cell_type": "code",
   "execution_count": 109,
   "id": "59c75fc1-5adf-4908-bd53-12bc9c128e08",
   "metadata": {
    "execution": {
     "iopub.execute_input": "2024-11-10T04:59:29.105388Z",
     "iopub.status.busy": "2024-11-10T04:59:29.105169Z",
     "iopub.status.idle": "2024-11-10T04:59:29.110072Z",
     "shell.execute_reply": "2024-11-10T04:59:29.109430Z",
     "shell.execute_reply.started": "2024-11-10T04:59:29.105371Z"
    }
   },
   "outputs": [
    {
     "data": {
      "text/plain": [
       "{'dataset_name': 'medqa_mixtral_cot',\n",
       " 'system_prompt': 'You are an expert medical assistant named Aloe, developed by the High Performance Artificial Intelligence Group at Barcelona Supercomputing Center(BSC). You are to be a helpful, respectful, and honest assistant.',\n",
       " 'question': 'Given the following medical question with options, your task is to select the correct answer by the following process: First summarize what the question is about, then analyze each option individually, and finally select the correct answer through a step-by-step process and conclude by your final option selected. Question: A randomized controlled trial was initiated to evaluate a novel DPP-4 inhibitor for blood glucose management in diabetic patients. The study used a commonly prescribed sulfonylurea as the standard of care treatment. 2,000 patients were enrolled in the study with 1,000 patients in each arm. One of the primary outcomes was the development of diabetic nephropathy during treatment. This outcome occurred in 68 patients on the DPP-4 inhibitor and 134 patients on the sulfonylurea. What is the relative risk reduction (RRR) for patients using the DPP-4 inhibitor compared with the sulfonylurea?\\nChoices:\\nA. 23%\\nB. 33%\\nC. 49%\\nD. 59%',\n",
       " 'response': 'A randomized controlled trial was conducted to evaluate a novel DPP-4 inhibitor for blood glucose management in diabetic patients. The study compared the experimental DPP-4 inhibitor with a commonly prescribed sulfonylurea as standard of care treatment. 2,000 patients were enrolled in the study with equal amounts in each arm. One of the primary outcomes studied was the development of diabetic nephropathy during treatment.\\nIn the DPP-4 inhibitor group, 68 patients developed diabetic nephropathy. In the sulfonylurea group, 134 patients developed diabetic nephropathy. The task is to determine the relative risk reduction (RRR) for patients using the DPP-4 inhibitor compared with the sulfonylurea.\\nTo calculate the relative risk reduction (RRR), we will first determine the relative risk (RR) by using the formula: RR = (risk in treated group)/(risk in control group). The risk in the DPP-4 inhibitor group is 68/1000 and in the sulfonylurea group is 134/1000. RR = (68/1000) / (134/1000) = 0.507.\\nNext, we will calculate the relative risk reduction (RRR) using the formula: RRR = (1 - RR) * 100%. So, RRR = (1 - 0.507) * 100% = 49.3%.\\nTherefore, the correct answer is C. 49%. The use of the DPP-4 inhibitor instead of the sulfonylurea resulted in a 49% relative risk reduction in the development of diabetic nephropathy.\\nAnswer: C.'}"
      ]
     },
     "execution_count": 109,
     "metadata": {},
     "output_type": "execute_result"
    }
   ],
   "source": [
    "ds[\"train\"][6317]"
   ]
  },
  {
   "cell_type": "code",
   "execution_count": null,
   "id": "0df23e55-c78b-4961-a61d-bddaf18014ad",
   "metadata": {},
   "outputs": [],
   "source": []
  }
 ],
 "metadata": {
  "kernelspec": {
   "display_name": "Python 3 (ipykernel)",
   "language": "python",
   "name": "python3"
  },
  "language_info": {
   "codemirror_mode": {
    "name": "ipython",
    "version": 3
   },
   "file_extension": ".py",
   "mimetype": "text/x-python",
   "name": "python",
   "nbconvert_exporter": "python",
   "pygments_lexer": "ipython3",
   "version": "3.12.7"
  }
 },
 "nbformat": 4,
 "nbformat_minor": 5
}
