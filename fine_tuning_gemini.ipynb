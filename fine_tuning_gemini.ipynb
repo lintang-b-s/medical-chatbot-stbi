{
 "cells": [
  {
   "cell_type": "code",
   "execution_count": 1,
   "id": "798a509b-6d45-4ed2-af15-93bab6cc83cb",
   "metadata": {},
   "outputs": [
    {
     "name": "stdout",
     "output_type": "stream",
     "text": [
      "\u001b[1;31mERROR:\u001b[0m (gcloud.auth.application-default.login) Cannot read file: \"client_secret.json\".\n"
     ]
    }
   ],
   "source": [
    "import os\n",
    "if 'COLAB_RELEASE_TAG' in os.environ:\n",
    "  from google.colab import userdata\n",
    "  import pathlib\n",
    "  pathlib.Path('client_secret.json').write_text(userdata.get('CLIENT_SECRET'))\n",
    "\n",
    "  # Use `--no-browser` in colab\n",
    "  !gcloud auth application-default login --no-browser --client-id-file client_secret.json --scopes='https://www.googleapis.com/auth/cloud-platform,https://www.googleapis.com/auth/generative-language.tuning'\n",
    "else:\n",
    "  !gcloud auth application-default login --client-id-file client_secret.json --scopes='https://www.googleapis.com/auth/cloud-platform,https://www.googleapis.com/auth/generative-language.tuning'"
   ]
  },
  {
   "cell_type": "code",
   "execution_count": 19,
   "id": "c75f5f82-7255-4280-9472-74ad0b36bc2d",
   "metadata": {},
   "outputs": [
    {
     "name": "stdout",
     "output_type": "stream",
     "text": [
      "\n",
      "\u001b[1m[\u001b[0m\u001b[34;49mnotice\u001b[0m\u001b[1;39;49m]\u001b[0m\u001b[39;49m A new release of pip available: \u001b[0m\u001b[31;49m22.3\u001b[0m\u001b[39;49m -> \u001b[0m\u001b[32;49m24.2\u001b[0m\n",
      "\u001b[1m[\u001b[0m\u001b[34;49mnotice\u001b[0m\u001b[1;39;49m]\u001b[0m\u001b[39;49m To update, run: \u001b[0m\u001b[32;49mpython -m pip install --upgrade pip\u001b[0m\n"
     ]
    }
   ],
   "source": [
    "!pip install -q google-generativeai"
   ]
  },
  {
   "cell_type": "code",
   "execution_count": 20,
   "id": "8a8f6260-8fc8-4a88-a18d-b215a2a84406",
   "metadata": {},
   "outputs": [],
   "source": [
    "import google.generativeai as genai"
   ]
  },
  {
   "cell_type": "code",
   "execution_count": 21,
   "id": "a124dbd2-1fbb-419c-9903-08175623d082",
   "metadata": {},
   "outputs": [
    {
     "name": "stdout",
     "output_type": "stream",
     "text": [
      "tunedModels/geminimedicalqaindo-4a7wh1ol2f7o\n",
      "tunedModels/geminipromedicalqaindolintang-hzz2fbhyts\n",
      "tunedModels/geminimedicalqaindobatch4lrm05-qwlfewbdx\n",
      "tunedModels/gemini-welllahh-temperature-zero-975\n",
      "tunedModels/gemini-welllahh-zerotemp-lrfv-3536\n"
     ]
    }
   ],
   "source": [
    "for i, m in zip(range(5), genai.list_tuned_models()):\n",
    "    print(m.name)"
   ]
  },
  {
   "cell_type": "code",
   "execution_count": 22,
   "id": "56875baf-ba45-4c72-ac17-e37fa23387c3",
   "metadata": {},
   "outputs": [
    {
     "data": {
      "text/plain": [
       "Model(name='models/gemini-1.5-flash-001-tuning',\n",
       "      base_model_id='',\n",
       "      version='001',\n",
       "      display_name='Gemini 1.5 Flash 001 Tuning',\n",
       "      description='Fast and versatile multimodal model for scaling across diverse tasks',\n",
       "      input_token_limit=16384,\n",
       "      output_token_limit=8192,\n",
       "      supported_generation_methods=['generateContent', 'countTokens', 'createTunedModel'],\n",
       "      temperature=1.0,\n",
       "      max_temperature=2.0,\n",
       "      top_p=0.95,\n",
       "      top_k=64)"
      ]
     },
     "execution_count": 22,
     "metadata": {},
     "output_type": "execute_result"
    }
   ],
   "source": [
    "base_model = [\n",
    "    m\n",
    "    for m in genai.list_models()\n",
    "    if \"createTunedModel\" in m.supported_generation_methods\n",
    "][1]\n",
    "base_model"
   ]
  },
  {
   "cell_type": "code",
   "execution_count": 24,
   "id": "8d5cb54c-ab86-4972-866e-103df39950d5",
   "metadata": {},
   "outputs": [],
   "source": [
    "import pandas as pd\n",
    "\n",
    "dataset_fine_tune = pd.read_csv(\"gemini_fine_tune_dataset.csv\")"
   ]
  },
  {
   "cell_type": "code",
   "execution_count": 25,
   "id": "b6c559c1-032c-4460-9aee-cd75e896f652",
   "metadata": {},
   "outputs": [
    {
     "data": {
      "text/html": [
       "<div>\n",
       "<style scoped>\n",
       "    .dataframe tbody tr th:only-of-type {\n",
       "        vertical-align: middle;\n",
       "    }\n",
       "\n",
       "    .dataframe tbody tr th {\n",
       "        vertical-align: top;\n",
       "    }\n",
       "\n",
       "    .dataframe thead th {\n",
       "        text-align: right;\n",
       "    }\n",
       "</style>\n",
       "<table border=\"1\" class=\"dataframe\">\n",
       "  <thead>\n",
       "    <tr style=\"text-align: right;\">\n",
       "      <th></th>\n",
       "      <th>Unnamed: 0</th>\n",
       "      <th>question</th>\n",
       "      <th>answer</th>\n",
       "      <th>dataset_name</th>\n",
       "      <th>system_prompt</th>\n",
       "      <th>Focus (Drug)</th>\n",
       "      <th>Question Type</th>\n",
       "      <th>Section Title</th>\n",
       "      <th>URL</th>\n",
       "      <th>qtype</th>\n",
       "    </tr>\n",
       "  </thead>\n",
       "  <tbody>\n",
       "    <tr>\n",
       "      <th>0</th>\n",
       "      <td>0</td>\n",
       "      <td>Literature on Cardiac amyloidosis.  Please let...</td>\n",
       "      <td>Cardiac amyloidosis is a disorder caused by de...</td>\n",
       "      <td>NaN</td>\n",
       "      <td>NaN</td>\n",
       "      <td>NaN</td>\n",
       "      <td>NaN</td>\n",
       "      <td>NaN</td>\n",
       "      <td>NaN</td>\n",
       "      <td>NaN</td>\n",
       "    </tr>\n",
       "    <tr>\n",
       "      <th>1</th>\n",
       "      <td>1</td>\n",
       "      <td>Migraine seems to be a spectrum of conditions ...</td>\n",
       "      <td>There is no specific cure for migraine headach...</td>\n",
       "      <td>NaN</td>\n",
       "      <td>NaN</td>\n",
       "      <td>NaN</td>\n",
       "      <td>NaN</td>\n",
       "      <td>NaN</td>\n",
       "      <td>NaN</td>\n",
       "      <td>NaN</td>\n",
       "    </tr>\n",
       "    <tr>\n",
       "      <th>2</th>\n",
       "      <td>2</td>\n",
       "      <td>DO I USE PYRIDOXINE TABLETS EVEN IF IM PREGNANT?</td>\n",
       "      <td>Before taking pyridoxine,        tell your doc...</td>\n",
       "      <td>NaN</td>\n",
       "      <td>NaN</td>\n",
       "      <td>NaN</td>\n",
       "      <td>NaN</td>\n",
       "      <td>NaN</td>\n",
       "      <td>NaN</td>\n",
       "      <td>NaN</td>\n",
       "    </tr>\n",
       "    <tr>\n",
       "      <th>3</th>\n",
       "      <td>3</td>\n",
       "      <td>i have lymphoma what causes cramp after chemo ...</td>\n",
       "      <td>Muscle cramps are common and often occur when ...</td>\n",
       "      <td>NaN</td>\n",
       "      <td>NaN</td>\n",
       "      <td>NaN</td>\n",
       "      <td>NaN</td>\n",
       "      <td>NaN</td>\n",
       "      <td>NaN</td>\n",
       "      <td>NaN</td>\n",
       "    </tr>\n",
       "    <tr>\n",
       "      <th>4</th>\n",
       "      <td>4</td>\n",
       "      <td>I wonder of new research and testing on macula...</td>\n",
       "      <td>These resources address the diagnosis or manag...</td>\n",
       "      <td>NaN</td>\n",
       "      <td>NaN</td>\n",
       "      <td>NaN</td>\n",
       "      <td>NaN</td>\n",
       "      <td>NaN</td>\n",
       "      <td>NaN</td>\n",
       "      <td>NaN</td>\n",
       "    </tr>\n",
       "  </tbody>\n",
       "</table>\n",
       "</div>"
      ],
      "text/plain": [
       "   Unnamed: 0                                           question  \\\n",
       "0           0  Literature on Cardiac amyloidosis.  Please let...   \n",
       "1           1  Migraine seems to be a spectrum of conditions ...   \n",
       "2           2   DO I USE PYRIDOXINE TABLETS EVEN IF IM PREGNANT?   \n",
       "3           3  i have lymphoma what causes cramp after chemo ...   \n",
       "4           4  I wonder of new research and testing on macula...   \n",
       "\n",
       "                                              answer dataset_name  \\\n",
       "0  Cardiac amyloidosis is a disorder caused by de...          NaN   \n",
       "1  There is no specific cure for migraine headach...          NaN   \n",
       "2  Before taking pyridoxine,        tell your doc...          NaN   \n",
       "3  Muscle cramps are common and often occur when ...          NaN   \n",
       "4  These resources address the diagnosis or manag...          NaN   \n",
       "\n",
       "  system_prompt Focus (Drug) Question Type Section Title  URL qtype  \n",
       "0           NaN          NaN           NaN           NaN  NaN   NaN  \n",
       "1           NaN          NaN           NaN           NaN  NaN   NaN  \n",
       "2           NaN          NaN           NaN           NaN  NaN   NaN  \n",
       "3           NaN          NaN           NaN           NaN  NaN   NaN  \n",
       "4           NaN          NaN           NaN           NaN  NaN   NaN  "
      ]
     },
     "execution_count": 25,
     "metadata": {},
     "output_type": "execute_result"
    }
   ],
   "source": [
    "dataset_fine_tune.head()"
   ]
  },
  {
   "cell_type": "code",
   "execution_count": 26,
   "id": "4978759b-7eb7-4efc-950f-560520a6be77",
   "metadata": {},
   "outputs": [],
   "source": [
    "dataset_fine_tune = dataset_fine_tune.drop(\n",
    "    [\n",
    "        \"Unnamed: 0\",\n",
    "        \"dataset_name\",\n",
    "        \"system_prompt\",\n",
    "        \"Focus (Drug)\",\n",
    "        \"Question Type\",\n",
    "        \"Section Title\",\n",
    "        \"URL\",\n",
    "        \"qtype\",\n",
    "    ],\n",
    "    axis=1,\n",
    ")"
   ]
  },
  {
   "cell_type": "code",
   "execution_count": 27,
   "id": "c6fcf350-59c2-4e41-a21d-7296c574a1ad",
   "metadata": {},
   "outputs": [
    {
     "data": {
      "text/html": [
       "<div>\n",
       "<style scoped>\n",
       "    .dataframe tbody tr th:only-of-type {\n",
       "        vertical-align: middle;\n",
       "    }\n",
       "\n",
       "    .dataframe tbody tr th {\n",
       "        vertical-align: top;\n",
       "    }\n",
       "\n",
       "    .dataframe thead th {\n",
       "        text-align: right;\n",
       "    }\n",
       "</style>\n",
       "<table border=\"1\" class=\"dataframe\">\n",
       "  <thead>\n",
       "    <tr style=\"text-align: right;\">\n",
       "      <th></th>\n",
       "      <th>question</th>\n",
       "      <th>answer</th>\n",
       "    </tr>\n",
       "  </thead>\n",
       "  <tbody>\n",
       "    <tr>\n",
       "      <th>0</th>\n",
       "      <td>Literature on Cardiac amyloidosis.  Please let...</td>\n",
       "      <td>Cardiac amyloidosis is a disorder caused by de...</td>\n",
       "    </tr>\n",
       "    <tr>\n",
       "      <th>1</th>\n",
       "      <td>Migraine seems to be a spectrum of conditions ...</td>\n",
       "      <td>There is no specific cure for migraine headach...</td>\n",
       "    </tr>\n",
       "    <tr>\n",
       "      <th>2</th>\n",
       "      <td>DO I USE PYRIDOXINE TABLETS EVEN IF IM PREGNANT?</td>\n",
       "      <td>Before taking pyridoxine,        tell your doc...</td>\n",
       "    </tr>\n",
       "    <tr>\n",
       "      <th>3</th>\n",
       "      <td>i have lymphoma what causes cramp after chemo ...</td>\n",
       "      <td>Muscle cramps are common and often occur when ...</td>\n",
       "    </tr>\n",
       "    <tr>\n",
       "      <th>4</th>\n",
       "      <td>I wonder of new research and testing on macula...</td>\n",
       "      <td>These resources address the diagnosis or manag...</td>\n",
       "    </tr>\n",
       "  </tbody>\n",
       "</table>\n",
       "</div>"
      ],
      "text/plain": [
       "                                            question  \\\n",
       "0  Literature on Cardiac amyloidosis.  Please let...   \n",
       "1  Migraine seems to be a spectrum of conditions ...   \n",
       "2   DO I USE PYRIDOXINE TABLETS EVEN IF IM PREGNANT?   \n",
       "3  i have lymphoma what causes cramp after chemo ...   \n",
       "4  I wonder of new research and testing on macula...   \n",
       "\n",
       "                                              answer  \n",
       "0  Cardiac amyloidosis is a disorder caused by de...  \n",
       "1  There is no specific cure for migraine headach...  \n",
       "2  Before taking pyridoxine,        tell your doc...  \n",
       "3  Muscle cramps are common and often occur when ...  \n",
       "4  These resources address the diagnosis or manag...  "
      ]
     },
     "execution_count": 27,
     "metadata": {},
     "output_type": "execute_result"
    }
   ],
   "source": [
    "dataset_fine_tune.head()"
   ]
  },
  {
   "cell_type": "code",
   "execution_count": 28,
   "id": "79f52d2f-ba5d-4f9d-be3f-0cdf7928ffe9",
   "metadata": {},
   "outputs": [],
   "source": [
    "fine_tune_data = []"
   ]
  },
  {
   "cell_type": "code",
   "execution_count": 29,
   "id": "a761bb15-b8eb-4a24-bff7-c7d29aa25fa3",
   "metadata": {},
   "outputs": [],
   "source": [
    "for index, row in dataset_fine_tune.iterrows():\n",
    "    fine_tune_data.append({\"text_input\": row[\"question\"], \"output\": row[\"answer\"]})"
   ]
  },
  {
   "cell_type": "code",
   "execution_count": 30,
   "id": "2f8b504a-bc7a-4ca1-8566-0d99e199ffa7",
   "metadata": {},
   "outputs": [
    {
     "data": {
      "text/plain": [
       "[{'text_input': 'Literature on Cardiac amyloidosis.  Please let me know where I can get literature on Cardiac amyloidosis.  My uncle died yesterday from this disorder.  Since this is such a rare disorder, and to honor his memory, I would like to distribute literature at his funeral service.  I am a retired NIH employee, so I am familiar with the campus in case you have literature at NIH that I can come and pick up.  Thank you ',\n",
       "  'output': 'Cardiac amyloidosis is a disorder caused by deposits of an abnormal protein (amyloid) in the heart tissue. These deposits make it hard for the heart to work properly.The term \"amyloidosis\" refers not to a single disease but to a collection of diseases in which a protein-based infiltrate deposits in tissues as beta-pleated sheets. The subtype of the disease is determined by which protein is depositing; although dozens of subtypes have been described, most are incredibly rare or of trivial importance. This analysis will focus on the main systemic forms of amyloidosis, both of which frequently involve the heart.'},\n",
       " {'text_input': 'Migraine seems to be a spectrum of conditions rather than only one easily diagnosed affliction.  Many innovative migraine treatments are now in use, but it seems that each treatment only addresses a narrow set of conditions; for example, my daughter has tried many different treatment options (QEEG, HEG, TMS, topamax, ...) without success.  Has any research been done to characterize which treatment types are effective against which migraine types?',\n",
       "  'output': 'There is no specific cure for migraine headaches. The goal is to treat your migraine symptoms right away, and to prevent symptoms by avoiding or changing your triggers.   A key step is learning how to manage your migraines at home. A headache diary can help you identify your headache triggers. Then you and your doctor can plan how to avoid these triggers.  If you have frequent migraines, your doctor may prescribe medicine to reduce the number of attacks. You need to take the medicine every day for it to be effective. Medicines may include:  - Antidepressants  - Blood pressure medicines  - Seizure medicines    Botulinum toxin type A (Botox) injections may also help reduce migraine attacks if they occur more than 15 days a month.  Some people find relief with minerals and vitamins. Check with your doctor to see if riboflavin or magnesium are right for you.  TREATING AN ATTACK  Other medicines are taken at the first sign of a migraine attack. Over-the-counter (OTC) pain medicines, such as acetaminophen, ibuprofen, or aspirin are often helpful when your migraine is mild. Be aware that:   - Taking medicines more than 3 days a week may lead to rebound headaches. These are headaches that keep coming back due to overuse of pain medicine.  - Taking too much acetaminophen can damage your liver.  - Too much ibuprofen or aspirin can irritate your stomach or kidneys.    If these treatments do not help, ask your doctor about prescription medicines. These include nasal sprays, suppositories, or injections.   Some migraine medicines narrow the blood vessels. If you are at risk for having a heart attack or have heart disease, talk with your doctor before using these medicines. Some migraine medicines should not be used by pregnant women. Talk with your doctor about which medicine is right for you if you are pregnant or planning to become pregnant.  Other medicines treat symptoms of migraine, such as nausea and vomiting. They may be used alone or along with the other drugs that treat the migraine itself.   Feverfew is a herb for migraines. It can be effective for some people. Before using feverfew, make sure your doctor approves. Herbal remedies sold in drugstores and health food stores are not regulated. Work with a trained herbalist when selecting herbs.There is no absolute cure for migraine since its pathophysiology has yet to be fully understood. \\xa0There are two ways to approach the treatment of migraine headache with drugs: prevent the attacks, or relieve the symptoms during the attacks. Prevention involves the use of medications and behavioral changes. \\xa0Drugs originally developed for epilepsy, depression, or high blood pressure to prevent future attacks have been shown to be extremely effective in treating migraine. Botulinum toxin A has been shown to be effective in prevention of chronic migraine. \\xa0Behaviorally, stress management strategies, such as exercise, relaxation techniques, biofeedback mechanisms, and other therapies designed to limit daily discomfort, may reduce the number and severity of migraine attacks. \\xa0Making a log of personal triggers of migraine can also provide useful information for trigger-avoiding lifestyle changes, including dietary considerations, eating regularly scheduled meals with adequate hydration, stopping certain medications, and establishing a consistent sleep schedule. Hormone therapy may help some women whose migraines seem to be linked to their menstrual cycle. A weight loss program is recommended for obese individuals with migraine.                  Relief of symptoms, or acute treatments, during attacks consists of sumatriptan, ergotamine drugs, and analgesics such as ibuprofen and aspirin. \\xa0The sooner these treatments are administered, the more effective they are.'}]"
      ]
     },
     "execution_count": 30,
     "metadata": {},
     "output_type": "execute_result"
    }
   ],
   "source": [
    "fine_tune_data[:2]"
   ]
  },
  {
   "cell_type": "code",
   "execution_count": 31,
   "id": "1ee62091-8b8e-482c-ab6d-d186d60a4e74",
   "metadata": {},
   "outputs": [
    {
     "data": {
      "text/plain": [
       "27471"
      ]
     },
     "execution_count": 31,
     "metadata": {},
     "output_type": "execute_result"
    }
   ],
   "source": [
    "len(fine_tune_data)"
   ]
  },
  {
   "cell_type": "code",
   "execution_count": 40,
   "id": "f9162a84-0a51-4c54-b06a-28ca238206b7",
   "metadata": {},
   "outputs": [],
   "source": [
    "import random\n",
    "\n",
    "name = f\"gemini-welllahh-batch16-lrone-{random.randint(0,10000)}\"\n",
    "operation = genai.create_tuned_model(\n",
    "    # You can use a tuned model here too. Set `source_model=\"tunedModels/...\"`\n",
    "    source_model=\"models/gemini-1.5-flash-001-tuning\",\n",
    "    training_data=fine_tune_data,\n",
    "    id=name,\n",
    "    epoch_count=5,\n",
    "    batch_size=16,\n",
    "    learning_rate=0.00001,\n",
    "    temperature=0.0,\n",
    "    # learning_rate_multiplier=0.1 # gakbisa\n",
    ")"
   ]
  },
  {
   "cell_type": "code",
   "execution_count": 41,
   "id": "815cb5c3-73e6-49bd-b6bc-82c64778b7ee",
   "metadata": {},
   "outputs": [
    {
     "data": {
      "text/plain": [
       "TunedModel(name='tunedModels/gemini-welllahh-batch16-lrone-5867',\n",
       "           source_model='models/gemini-1.5-flash-001-tuning',\n",
       "           base_model='models/gemini-1.5-flash-001-tuning',\n",
       "           display_name='',\n",
       "           description='',\n",
       "           temperature=0.0,\n",
       "           top_p=0.95,\n",
       "           top_k=64,\n",
       "           state=<State.CREATING: 1>,\n",
       "           create_time=datetime.datetime(2024, 10, 25, 10, 8, 10, 475788, tzinfo=datetime.timezone.utc),\n",
       "           update_time=datetime.datetime(2024, 10, 25, 10, 8, 10, 475788, tzinfo=datetime.timezone.utc),\n",
       "           tuning_task=TuningTask(start_time=None,\n",
       "                                  complete_time=None,\n",
       "                                  snapshots=[],\n",
       "                                  hyperparameters=Hyperparameters(epoch_count=5,\n",
       "                                                                  batch_size=16,\n",
       "                                                                  learning_rate=1e-05)),\n",
       "           reader_project_numbers=None)"
      ]
     },
     "execution_count": 41,
     "metadata": {},
     "output_type": "execute_result"
    }
   ],
   "source": [
    "model = genai.get_tuned_model(f\"tunedModels/{name}\")\n",
    "\n",
    "model"
   ]
  },
  {
   "cell_type": "code",
   "execution_count": 42,
   "id": "862ec826-ffbc-40bf-be1e-f4908b895f37",
   "metadata": {},
   "outputs": [],
   "source": [
    "# tunedModels/gemini-welllahh-temperature-zero-975"
   ]
  },
  {
   "cell_type": "code",
   "execution_count": 43,
   "id": "5f51a120-2de4-4dec-aa82-8de791ae9e8d",
   "metadata": {},
   "outputs": [
    {
     "data": {
      "text/plain": [
       "TunedModel(name='tunedModels/gemini-welllahh-zerotemp-lrfv-3536',\n",
       "           source_model='models/gemini-1.5-flash-001-tuning',\n",
       "           base_model='models/gemini-1.5-flash-001-tuning',\n",
       "           display_name='',\n",
       "           description='',\n",
       "           temperature=0.0,\n",
       "           top_p=0.95,\n",
       "           top_k=64,\n",
       "           state=<State.ACTIVE: 2>,\n",
       "           create_time=datetime.datetime(2024, 10, 24, 9, 15, 21, 229169, tzinfo=datetime.timezone.utc),\n",
       "           update_time=datetime.datetime(2024, 10, 25, 9, 8, 12, 879799, tzinfo=datetime.timezone.utc),\n",
       "           tuning_task=TuningTask(start_time=datetime.datetime(2024, 10, 24, 20, 31, 50, 124323, tzinfo=datetime.timezone.utc),\n",
       "                                  complete_time=datetime.datetime(2024, 10, 25, 9, 8, 12, 879799, tzinfo=datetime.timezone.utc),\n",
       "                                  snapshots=[...],\n",
       "                                  hyperparameters=Hyperparameters(epoch_count=5,\n",
       "                                                                  batch_size=64,\n",
       "                                                                  learning_rate=5e-05)),\n",
       "           reader_project_numbers=None)"
      ]
     },
     "execution_count": 43,
     "metadata": {},
     "output_type": "execute_result"
    }
   ],
   "source": [
    "model = genai.get_tuned_model(f\"tunedModels/gemini-welllahh-zerotemp-lrfv-3536\")\n",
    "\n",
    "model"
   ]
  },
  {
   "cell_type": "code",
   "execution_count": 44,
   "id": "81af99dc-cb26-42bc-979a-fb7194e50f31",
   "metadata": {},
   "outputs": [
    {
     "data": {
      "text/plain": [
       "<State.ACTIVE: 2>"
      ]
     },
     "execution_count": 44,
     "metadata": {},
     "output_type": "execute_result"
    }
   ],
   "source": [
    "model.state"
   ]
  },
  {
   "cell_type": "code",
   "execution_count": 45,
   "id": "66ecc907-c116-40b5-94a0-fcad41552de3",
   "metadata": {},
   "outputs": [
    {
     "data": {
      "text/plain": [
       "<Axes: xlabel='epoch', ylabel='mean_loss'>"
      ]
     },
     "execution_count": 45,
     "metadata": {},
     "output_type": "execute_result"
    },
    {
     "data": {
      "image/png": "[encoded data removed]",
      "text/plain": [
       "<Figure size 640x480 with 1 Axes>"
      ]
     },
     "metadata": {},
     "output_type": "display_data"
    }
   ],
   "source": [
    "import pandas as pd\n",
    "import seaborn as sns\n",
    "\n",
    "\n",
    "snapshots = pd.DataFrame(model.tuning_task.snapshots)\n",
    "\n",
    "sns.lineplot(data=snapshots, x=\"epoch\", y=\"mean_loss\")"
   ]
  },
  {
   "cell_type": "code",
   "execution_count": 46,
   "id": "19970d32-eaea-47ea-bc16-0b12a6e4a543",
   "metadata": {},
   "outputs": [],
   "source": [
    "# wkwkwk idk\n",
    "# coba ganti learning rate multiplier/tuning hyperparameter lainnya"
   ]
  },
  {
   "cell_type": "code",
   "execution_count": null,
   "id": "c3e2bbf5-b792-4573-82d5-c207c698943f",
   "metadata": {},
   "outputs": [],
   "source": []
  },
  {
   "cell_type": "code",
   "execution_count": null,
   "id": "fce97133-f70f-4d26-8664-59cacc657194",
   "metadata": {},
   "outputs": [],
   "source": []
  }
 ],
 "metadata": {
  "kernelspec": {
   "display_name": "Python 3 (ipykernel)",
   "language": "python",
   "name": "python3"
  },
  "language_info": {
   "codemirror_mode": {
    "name": "ipython",
    "version": 3
   },
   "file_extension": ".py",
   "mimetype": "text/x-python",
   "name": "python",
   "nbconvert_exporter": "python",
   "pygments_lexer": "ipython3",
   "version": "3.12.6"
  }
 },
 "nbformat": 4,
 "nbformat_minor": 5
}
