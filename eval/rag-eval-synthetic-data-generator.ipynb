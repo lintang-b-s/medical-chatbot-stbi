{
 "cells": [
  {
   "cell_type": "code",
   "execution_count": 1,
   "id": "3212e483-0933-43a5-a574-e8dbff45acde",
   "metadata": {
    "execution": {
     "iopub.execute_input": "2024-11-17T12:27:33.619518Z",
     "iopub.status.busy": "2024-11-17T12:27:33.619263Z",
     "iopub.status.idle": "2024-11-17T12:27:37.284770Z",
     "shell.execute_reply": "2024-11-17T12:27:37.283647Z",
     "shell.execute_reply.started": "2024-11-17T12:27:33.619482Z"
    },
    "trusted": true
   },
   "outputs": [
    {
     "name": "stdout",
     "output_type": "stream",
     "text": [
      "Requirement already satisfied: giskard in /opt/conda/lib/python3.10/site-packages (2.15.5)\n",
      "Requirement already satisfied: openai in /opt/conda/lib/python3.10/site-packages (1.54.4)\n",
      "Requirement already satisfied: ragas in /opt/conda/lib/python3.10/site-packages (0.2.4)\n",
      "Collecting ragas\n",
      "  Using cached ragas-0.2.5-py3-none-any.whl.metadata (8.0 kB)\n",
      "Requirement already satisfied: sentence_transformers in /opt/conda/lib/python3.10/site-packages (3.3.0)\n",
      "Requirement already satisfied: scikit-learn in /opt/conda/lib/python3.10/site-packages (1.5.2)\n",
      "Requirement already satisfied: hdbscan in /opt/conda/lib/python3.10/site-packages (0.8.39)\n",
      "Requirement already satisfied: cloudpickle>=1.1.1 in /opt/conda/lib/python3.10/site-packages (from giskard) (3.0.0)\n",
      "Requirement already satisfied: zstandard>=0.10.0 in /opt/conda/lib/python3.10/site-packages (from giskard) (0.23.0)\n",
      "Requirement already satisfied: mlflow-skinny>=2 in /opt/conda/lib/python3.10/site-packages (from giskard) (2.17.2)\n",
      "Requirement already satisfied: numpy<2,>=1.26.0 in /opt/conda/lib/python3.10/site-packages (from giskard) (1.26.4)\n",
      "Requirement already satisfied: scipy<1.12.0,>=1.7.3 in /opt/conda/lib/python3.10/site-packages (from giskard) (1.11.4)\n",
      "Requirement already satisfied: mixpanel>=4.4.0 in /opt/conda/lib/python3.10/site-packages (from giskard) (4.10.1)\n",
      "Requirement already satisfied: requests>=2.19 in /opt/conda/lib/python3.10/site-packages (from giskard) (2.32.3)\n",
      "Requirement already satisfied: pydantic<3,>1 in /opt/conda/lib/python3.10/site-packages (from giskard) (2.9.2)\n",
      "Requirement already satisfied: pandas>=2.0 in /opt/conda/lib/python3.10/site-packages (from giskard) (2.2.2)\n",
      "Requirement already satisfied: xxhash>=3.2.0 in /opt/conda/lib/python3.10/site-packages (from giskard) (3.4.1)\n",
      "Requirement already satisfied: langdetect>=1.0.9 in /opt/conda/lib/python3.10/site-packages (from giskard) (1.0.9)\n",
      "Requirement already satisfied: chardet in /opt/conda/lib/python3.10/site-packages (from giskard) (5.2.0)\n",
      "Requirement already satisfied: jinja2>=3 in /opt/conda/lib/python3.10/site-packages (from giskard) (3.1.4)\n",
      "Requirement already satisfied: requests-toolbelt>=0.9.1 in /opt/conda/lib/python3.10/site-packages (from giskard) (1.0.0)\n",
      "Requirement already satisfied: setuptools in /opt/conda/lib/python3.10/site-packages (from giskard) (70.0.0)\n",
      "Requirement already satisfied: typing-extensions in /opt/conda/lib/python3.10/site-packages (from giskard) (4.12.2)\n",
      "Requirement already satisfied: pyyaml in /opt/conda/lib/python3.10/site-packages (from giskard) (6.0.2)\n",
      "Requirement already satisfied: packaging in /opt/conda/lib/python3.10/site-packages (from giskard) (24.2)\n",
      "Requirement already satisfied: markdown in /opt/conda/lib/python3.10/site-packages (from giskard) (3.6)\n",
      "Requirement already satisfied: colorama in /opt/conda/lib/python3.10/site-packages (from giskard) (0.4.6)\n",
      "Requirement already satisfied: num2words>=0.5.13 in /opt/conda/lib/python3.10/site-packages (from giskard) (0.5.13)\n",
      "Requirement already satisfied: griffe<0.49.0,>=0.36.9 in /opt/conda/lib/python3.10/site-packages (from giskard) (0.48.0)\n",
      "Requirement already satisfied: anyio<5,>=3.5.0 in /opt/conda/lib/python3.10/site-packages (from openai) (4.4.0)\n",
      "Requirement already satisfied: distro<2,>=1.7.0 in /opt/conda/lib/python3.10/site-packages (from openai) (1.9.0)\n",
      "Requirement already satisfied: httpx<1,>=0.23.0 in /opt/conda/lib/python3.10/site-packages (from openai) (0.27.0)\n",
      "Requirement already satisfied: jiter<1,>=0.4.0 in /opt/conda/lib/python3.10/site-packages (from openai) (0.7.1)\n",
      "Requirement already satisfied: sniffio in /opt/conda/lib/python3.10/site-packages (from openai) (1.3.1)\n",
      "Requirement already satisfied: tqdm>4 in /opt/conda/lib/python3.10/site-packages (from openai) (4.66.4)\n",
      "Requirement already satisfied: datasets in /opt/conda/lib/python3.10/site-packages (from ragas) (3.0.1)\n",
      "Requirement already satisfied: tiktoken in /opt/conda/lib/python3.10/site-packages (from ragas) (0.8.0)\n",
      "Requirement already satisfied: langchain in /opt/conda/lib/python3.10/site-packages (from ragas) (0.3.7)\n",
      "Requirement already satisfied: langchain-core in /opt/conda/lib/python3.10/site-packages (from ragas) (0.3.19)\n",
      "Requirement already satisfied: langchain-community in /opt/conda/lib/python3.10/site-packages (from ragas) (0.3.7)\n",
      "Requirement already satisfied: langchain-openai in /opt/conda/lib/python3.10/site-packages (from ragas) (0.2.8)\n",
      "Requirement already satisfied: nest-asyncio in /opt/conda/lib/python3.10/site-packages (from ragas) (1.6.0)\n",
      "Requirement already satisfied: appdirs in /opt/conda/lib/python3.10/site-packages (from ragas) (1.4.4)\n",
      "Requirement already satisfied: pysbd>=0.3.4 in /opt/conda/lib/python3.10/site-packages (from ragas) (0.3.4)\n",
      "Requirement already satisfied: transformers<5.0.0,>=4.41.0 in /opt/conda/lib/python3.10/site-packages (from sentence_transformers) (4.45.1)\n",
      "Requirement already satisfied: torch>=1.11.0 in /opt/conda/lib/python3.10/site-packages (from sentence_transformers) (2.4.0)\n",
      "Requirement already satisfied: huggingface-hub>=0.20.0 in /opt/conda/lib/python3.10/site-packages (from sentence_transformers) (0.25.1)\n",
      "Requirement already satisfied: Pillow in /opt/conda/lib/python3.10/site-packages (from sentence_transformers) (10.3.0)\n",
      "Requirement already satisfied: joblib>=1.2.0 in /opt/conda/lib/python3.10/site-packages (from scikit-learn) (1.4.2)\n",
      "Requirement already satisfied: threadpoolctl>=3.1.0 in /opt/conda/lib/python3.10/site-packages (from scikit-learn) (3.5.0)\n",
      "Requirement already satisfied: evaluate>=0.4.1 in /opt/conda/lib/python3.10/site-packages (from giskard[llm]) (0.4.3)\n",
      "Requirement already satisfied: bert-score>=0.3.13 in /opt/conda/lib/python3.10/site-packages (from giskard[llm]) (0.3.13)\n",
      "Requirement already satisfied: tenacity>=4.11.0 in /opt/conda/lib/python3.10/site-packages (from giskard[llm]) (8.3.0)\n",
      "Requirement already satisfied: faiss-cpu<1.8.0.post1,>=1.7.4 in /opt/conda/lib/python3.10/site-packages (from giskard[llm]) (1.8.0)\n",
      "Requirement already satisfied: bokeh<3.5,>=3.3.4 in /opt/conda/lib/python3.10/site-packages (from giskard[llm]) (3.4.3)\n",
      "Requirement already satisfied: umap-learn>=0.5.5 in /opt/conda/lib/python3.10/site-packages (from giskard[llm]) (0.5.7)\n",
      "Requirement already satisfied: idna>=2.8 in /opt/conda/lib/python3.10/site-packages (from anyio<5,>=3.5.0->openai) (3.7)\n",
      "Requirement already satisfied: exceptiongroup>=1.0.2 in /opt/conda/lib/python3.10/site-packages (from anyio<5,>=3.5.0->openai) (1.2.0)\n",
      "Requirement already satisfied: matplotlib in /opt/conda/lib/python3.10/site-packages (from bert-score>=0.3.13->giskard[llm]) (3.7.5)\n",
      "Requirement already satisfied: contourpy>=1.2 in /opt/conda/lib/python3.10/site-packages (from bokeh<3.5,>=3.3.4->giskard[llm]) (1.2.1)\n",
      "Requirement already satisfied: tornado>=6.2 in /opt/conda/lib/python3.10/site-packages (from bokeh<3.5,>=3.3.4->giskard[llm]) (6.4.1)\n",
      "Requirement already satisfied: xyzservices>=2021.09.1 in /opt/conda/lib/python3.10/site-packages (from bokeh<3.5,>=3.3.4->giskard[llm]) (2024.9.0)\n",
      "Requirement already satisfied: dill in /opt/conda/lib/python3.10/site-packages (from evaluate>=0.4.1->giskard[llm]) (0.3.8)\n",
      "Requirement already satisfied: multiprocess in /opt/conda/lib/python3.10/site-packages (from evaluate>=0.4.1->giskard[llm]) (0.70.16)\n",
      "Requirement already satisfied: fsspec>=2021.05.0 in /opt/conda/lib/python3.10/site-packages (from fsspec[http]>=2021.05.0->evaluate>=0.4.1->giskard[llm]) (2024.6.1)\n",
      "Requirement already satisfied: filelock in /opt/conda/lib/python3.10/site-packages (from datasets->ragas) (3.15.1)\n",
      "Requirement already satisfied: pyarrow>=15.0.0 in /opt/conda/lib/python3.10/site-packages (from datasets->ragas) (16.1.0)\n",
      "Requirement already satisfied: aiohttp in /opt/conda/lib/python3.10/site-packages (from datasets->ragas) (3.9.5)\n",
      "Requirement already satisfied: backports-strenum>=1.3 in /opt/conda/lib/python3.10/site-packages (from griffe<0.49.0,>=0.36.9->giskard) (1.3.1)\n",
      "Requirement already satisfied: certifi in /opt/conda/lib/python3.10/site-packages (from httpx<1,>=0.23.0->openai) (2024.8.30)\n",
      "Requirement already satisfied: httpcore==1.* in /opt/conda/lib/python3.10/site-packages (from httpx<1,>=0.23.0->openai) (1.0.5)\n",
      "Requirement already satisfied: h11<0.15,>=0.13 in /opt/conda/lib/python3.10/site-packages (from httpcore==1.*->httpx<1,>=0.23.0->openai) (0.14.0)\n",
      "Requirement already satisfied: MarkupSafe>=2.0 in /opt/conda/lib/python3.10/site-packages (from jinja2>=3->giskard) (2.1.5)\n",
      "Requirement already satisfied: six in /opt/conda/lib/python3.10/site-packages (from langdetect>=1.0.9->giskard) (1.16.0)\n",
      "Requirement already satisfied: urllib3 in /opt/conda/lib/python3.10/site-packages (from mixpanel>=4.4.0->giskard) (1.26.18)\n",
      "Requirement already satisfied: cachetools<6,>=5.0.0 in /opt/conda/lib/python3.10/site-packages (from mlflow-skinny>=2->giskard) (5.3.3)\n",
      "Requirement already satisfied: click<9,>=7.0 in /opt/conda/lib/python3.10/site-packages (from mlflow-skinny>=2->giskard) (8.1.7)\n",
      "Requirement already satisfied: databricks-sdk<1,>=0.20.0 in /opt/conda/lib/python3.10/site-packages (from mlflow-skinny>=2->giskard) (0.37.0)\n",
      "Requirement already satisfied: gitpython<4,>=3.1.9 in /opt/conda/lib/python3.10/site-packages (from mlflow-skinny>=2->giskard) (3.1.43)\n",
      "Requirement already satisfied: importlib-metadata!=4.7.0,<9,>=3.7.0 in /opt/conda/lib/python3.10/site-packages (from mlflow-skinny>=2->giskard) (7.0.0)\n",
      "Requirement already satisfied: opentelemetry-api<3,>=1.9.0 in /opt/conda/lib/python3.10/site-packages (from mlflow-skinny>=2->giskard) (1.25.0)\n",
      "Requirement already satisfied: opentelemetry-sdk<3,>=1.9.0 in /opt/conda/lib/python3.10/site-packages (from mlflow-skinny>=2->giskard) (1.25.0)\n",
      "Requirement already satisfied: protobuf<6,>=3.12.0 in /opt/conda/lib/python3.10/site-packages (from mlflow-skinny>=2->giskard) (3.20.3)\n",
      "Requirement already satisfied: sqlparse<1,>=0.4.0 in /opt/conda/lib/python3.10/site-packages (from mlflow-skinny>=2->giskard) (0.5.0)\n",
      "Requirement already satisfied: docopt>=0.6.2 in /opt/conda/lib/python3.10/site-packages (from num2words>=0.5.13->giskard) (0.6.2)\n",
      "Requirement already satisfied: annotated-types>=0.6.0 in /opt/conda/lib/python3.10/site-packages (from pydantic<3,>1->giskard) (0.7.0)\n",
      "Requirement already satisfied: pydantic-core==2.23.4 in /opt/conda/lib/python3.10/site-packages (from pydantic<3,>1->giskard) (2.23.4)\n",
      "^C\n",
      "\u001b[31mERROR: Operation cancelled by user\u001b[0m\u001b[31m\n",
      "\u001b[0m"
     ]
    }
   ],
   "source": [
    "!pip install giskard openai ragas sentence_transformers --upgrade scikit-learn hdbscan  giskard[llm]"
   ]
  },
  {
   "cell_type": "markdown",
   "id": "a470f76b-e994-47af-99db-e02b1cac987d",
   "metadata": {},
   "source": []
  },
  {
   "cell_type": "code",
   "execution_count": null,
   "id": "9ffcf406-f37d-4027-8628-349f4e9004ad",
   "metadata": {
    "execution": {
     "iopub.execute_input": "2024-11-17T14:39:08.269099Z",
     "iopub.status.busy": "2024-11-17T14:39:08.268703Z",
     "iopub.status.idle": "2024-11-17T14:39:08.279819Z",
     "shell.execute_reply": "2024-11-17T14:39:08.279016Z",
     "shell.execute_reply.started": "2024-11-17T14:39:08.269062Z"
    },
    "trusted": true
   },
   "outputs": [],
   "source": [
    "import giskard\n",
    "from typing import Sequence, Optional\n",
    "from giskard.llm.client import set_default_client\n",
    "from giskard.llm.client.base import LLMClient, ChatMessage\n",
    "from openai import OpenAI\n",
    "\n",
    "\n",
    "# Create a custom client by extending the LLMClient class\n",
    "class MyLLMClient():\n",
    "        \n",
    "    def complete(\n",
    "            self,\n",
    "            messages: Sequence[ChatMessage],\n",
    "            temperature: float = 1,\n",
    "            max_tokens: Optional[int] = None,\n",
    "            caller_id: Optional[str] = None,\n",
    "            seed: Optional[int] = None,\n",
    "            format=None,\n",
    "    ) -> ChatMessage:\n",
    "      \n",
    "        XAI_API_KEY = \"PUNYAMU\"\n",
    "        client = OpenAI(\n",
    "            api_key=XAI_API_KEY,\n",
    "            base_url=\"https://api.x.ai/v1\",\n",
    "        )\n",
    "\n",
    "        prompt_message = [\n",
    "                {\"role\": \"system\", \"content\": \"You are Grok, a medical chatbot\"},\n",
    "            ]\n",
    "\n",
    "        for msg in messages:\n",
    "            if msg.role.lower() == \"assistant\":\n",
    "                prompt_message.append({\n",
    "                    \"role\": \"assistant\", \"content\": msg.content\n",
    "                })\n",
    "            else:\n",
    "                 prompt_message.append({\n",
    "                    \"role\": \"user\", \"content\": msg.content\n",
    "                })\n",
    "\n",
    "        \n",
    "        completion = client.chat.completions.create(\n",
    "            model=\"grok-beta\",\n",
    "            messages=prompt_message,\n",
    "            temperature= 0.25\n",
    "        )\n",
    "\n",
    "        ans = completion.choices[0].message.content\n",
    "\n",
    "        return ChatMessage(role=\"assistant\", content=ans)\n",
    "\n",
    "\n",
    "llm_client = MyLLMClient()\n",
    "\n",
    "# Set the default client\n",
    "set_default_client(llm_client)"
   ]
  },
  {
   "cell_type": "code",
   "execution_count": 89,
   "id": "ff88b899-e847-4df8-b581-56bc9fb903ee",
   "metadata": {
    "execution": {
     "iopub.execute_input": "2024-11-17T14:39:08.281169Z",
     "iopub.status.busy": "2024-11-17T14:39:08.280918Z",
     "iopub.status.idle": "2024-11-17T14:39:09.677889Z",
     "shell.execute_reply": "2024-11-17T14:39:09.677047Z",
     "shell.execute_reply.started": "2024-11-17T14:39:08.281141Z"
    },
    "trusted": true
   },
   "outputs": [],
   "source": [
    "from ragas.embeddings import LangchainEmbeddingsWrapper\n",
    "from langchain_community.embeddings import HuggingFaceBgeEmbeddings\n",
    "\n",
    "model_name = \"BAAI/bge-large-en-v1.5\"\n",
    "model_kwargs = {\"device\": \"cuda\"}\n",
    "encode_kwargs = {\"normalize_embeddings\": True}\n",
    "embeddings = HuggingFaceBgeEmbeddings(\n",
    "    model_name=model_name, model_kwargs=model_kwargs, encode_kwargs=encode_kwargs,\n",
    "    query_instruction=\"Represent this sentence for searching relevant passages:\"\n",
    ")\n",
    "\n",
    "embeddings.query_instruction = \"Represent this sentence for searching relevant passages:\"\n"
   ]
  },
  {
   "cell_type": "code",
   "execution_count": null,
   "id": "ee2a4945-b6ef-4664-b9ed-6271a4fa81e4",
   "metadata": {
    "trusted": true
   },
   "outputs": [],
   "source": []
  },
  {
   "cell_type": "code",
   "execution_count": 90,
   "id": "ed5404c8-7774-4a14-8826-f334d3b4613f",
   "metadata": {
    "execution": {
     "iopub.execute_input": "2024-11-17T14:39:09.679430Z",
     "iopub.status.busy": "2024-11-17T14:39:09.679100Z",
     "iopub.status.idle": "2024-11-17T14:39:09.684251Z",
     "shell.execute_reply": "2024-11-17T14:39:09.683257Z",
     "shell.execute_reply.started": "2024-11-17T14:39:09.679397Z"
    },
    "trusted": true
   },
   "outputs": [],
   "source": [
    "from langchain_community.document_loaders import HuggingFaceDatasetLoader\n",
    "\n",
    "\n",
    "medrag_textbook_loader = HuggingFaceDatasetLoader(\"MedRAG/textbooks\", \"contents\")"
   ]
  },
  {
   "cell_type": "code",
   "execution_count": 91,
   "id": "cfdb036f-ac9d-47cc-af95-701ba9592eb9",
   "metadata": {
    "execution": {
     "iopub.execute_input": "2024-11-17T14:39:09.685605Z",
     "iopub.status.busy": "2024-11-17T14:39:09.685335Z",
     "iopub.status.idle": "2024-11-17T14:39:19.929792Z",
     "shell.execute_reply": "2024-11-17T14:39:19.928948Z",
     "shell.execute_reply.started": "2024-11-17T14:39:09.685575Z"
    },
    "trusted": true
   },
   "outputs": [
    {
     "data": {
      "application/vnd.jupyter.widget-view+json": {
       "model_id": "de8609a21b57412eadc88a8a6dbb8cac",
       "version_major": 2,
       "version_minor": 0
      },
      "text/plain": [
       "Resolving data files:   0%|          | 0/18 [00:00<?, ?it/s]"
      ]
     },
     "metadata": {},
     "output_type": "display_data"
    }
   ],
   "source": [
    "medrag_textbook_loader_data = medrag_textbook_loader.load()"
   ]
  },
  {
   "cell_type": "code",
   "execution_count": 92,
   "id": "0e818b74-39ba-44b1-9cad-5f61a8b1b2ad",
   "metadata": {
    "execution": {
     "iopub.execute_input": "2024-11-17T14:39:19.934545Z",
     "iopub.status.busy": "2024-11-17T14:39:19.934228Z",
     "iopub.status.idle": "2024-11-17T14:39:19.949949Z",
     "shell.execute_reply": "2024-11-17T14:39:19.948948Z",
     "shell.execute_reply.started": "2024-11-17T14:39:19.934514Z"
    },
    "trusted": true
   },
   "outputs": [
    {
     "data": {
      "text/plain": [
       "list"
      ]
     },
     "execution_count": 92,
     "metadata": {},
     "output_type": "execute_result"
    }
   ],
   "source": [
    "type(medrag_textbook_loader_data)"
   ]
  },
  {
   "cell_type": "code",
   "execution_count": 60,
   "id": "f55c447a-c456-41c9-b188-fe809a2fac01",
   "metadata": {
    "execution": {
     "iopub.execute_input": "2024-11-17T13:18:41.201422Z",
     "iopub.status.busy": "2024-11-17T13:18:41.201007Z",
     "iopub.status.idle": "2024-11-17T13:18:53.649089Z",
     "shell.execute_reply": "2024-11-17T13:18:53.647963Z",
     "shell.execute_reply.started": "2024-11-17T13:18:41.201374Z"
    },
    "trusted": true
   },
   "outputs": [
    {
     "name": "stderr",
     "output_type": "stream",
     "text": [
      "/opt/conda/lib/python3.10/pty.py:89: RuntimeWarning: os.fork() was called. os.fork() is incompatible with multithreaded code, and JAX is multithreaded, so this will likely lead to a deadlock.\n",
      "  pid, fd = os.forkpty()\n",
      "huggingface/tokenizers: The current process just got forked, after parallelism has already been used. Disabling parallelism to avoid deadlocks...\n",
      "To disable this warning, you can either:\n",
      "\t- Avoid using `tokenizers` before the fork if possible\n",
      "\t- Explicitly set the environment variable TOKENIZERS_PARALLELISM=(true | false)\n"
     ]
    },
    {
     "name": "stdout",
     "output_type": "stream",
     "text": [
      "Requirement already satisfied: scipy in /opt/conda/lib/python3.10/site-packages (1.14.1)\n",
      "Requirement already satisfied: numpy<2.3,>=1.23.5 in /opt/conda/lib/python3.10/site-packages (from scipy) (1.26.4)\n"
     ]
    }
   ],
   "source": [
    "!pip install --upgrade scipy"
   ]
  },
  {
   "cell_type": "code",
   "execution_count": 95,
   "id": "ea5e9356-aeba-4707-b84f-7fdf1b4d1ddd",
   "metadata": {
    "execution": {
     "iopub.execute_input": "2024-11-17T14:39:20.030704Z",
     "iopub.status.busy": "2024-11-17T14:39:20.030369Z",
     "iopub.status.idle": "2024-11-17T14:39:20.099551Z",
     "shell.execute_reply": "2024-11-17T14:39:20.098677Z",
     "shell.execute_reply.started": "2024-11-17T14:39:20.030668Z"
    },
    "trusted": true
   },
   "outputs": [],
   "source": [
    "medrag_textbook_data =[] \n",
    "for row in medrag_textbook_loader_data:\n",
    "    medrag_textbook_data.append(row.page_content)"
   ]
  },
  {
   "cell_type": "code",
   "execution_count": 96,
   "id": "b628ba7d-9b46-4f18-87fe-7585a965626e",
   "metadata": {
    "execution": {
     "iopub.execute_input": "2024-11-17T14:39:20.100927Z",
     "iopub.status.busy": "2024-11-17T14:39:20.100600Z",
     "iopub.status.idle": "2024-11-17T14:39:20.106368Z",
     "shell.execute_reply": "2024-11-17T14:39:20.105318Z",
     "shell.execute_reply.started": "2024-11-17T14:39:20.100891Z"
    },
    "trusted": true
   },
   "outputs": [],
   "source": [
    "from giskard.llm.embeddings import BaseEmbedding \n",
    "class EmbeddingsWrapper(BaseEmbedding):\n",
    "    def __init__(self, embeddings):\n",
    "        self.embeddings = embeddings\n",
    "\n",
    "    def embed(self, texts):\n",
    "        return self.embeddings.embed_documents(texts)\n",
    "\n",
    "wrapped_embeddings = EmbeddingsWrapper(embeddings)"
   ]
  },
  {
   "cell_type": "code",
   "execution_count": 97,
   "id": "fbb1dc96-4a78-4084-a1ea-c7935aab31c9",
   "metadata": {
    "execution": {
     "iopub.execute_input": "2024-11-17T14:39:20.107845Z",
     "iopub.status.busy": "2024-11-17T14:39:20.107511Z",
     "iopub.status.idle": "2024-11-17T14:39:20.121314Z",
     "shell.execute_reply": "2024-11-17T14:39:20.120311Z",
     "shell.execute_reply.started": "2024-11-17T14:39:20.107808Z"
    },
    "trusted": true
   },
   "outputs": [
    {
     "name": "stdout",
     "output_type": "stream",
     "text": [
      "5000\n"
     ]
    }
   ],
   "source": [
    "import random\n",
    "\n",
    "small_medrag_textbook_data = random.sample(medrag_textbook_data, 5000)\n",
    "print(len(small_medrag_textbook_data))"
   ]
  },
  {
   "cell_type": "code",
   "execution_count": null,
   "id": "1883c679-e876-4db4-b1fb-b413440f9cb6",
   "metadata": {
    "trusted": true
   },
   "outputs": [],
   "source": []
  },
  {
   "cell_type": "code",
   "execution_count": 98,
   "id": "0feea5a8-49d6-4846-a57e-332d7f1c35ec",
   "metadata": {
    "execution": {
     "iopub.execute_input": "2024-11-17T14:39:20.123276Z",
     "iopub.status.busy": "2024-11-17T14:39:20.122633Z",
     "iopub.status.idle": "2024-11-17T14:39:20.130538Z",
     "shell.execute_reply": "2024-11-17T14:39:20.129772Z",
     "shell.execute_reply.started": "2024-11-17T14:39:20.123233Z"
    },
    "trusted": true
   },
   "outputs": [],
   "source": [
    "import pandas as pd\n",
    "medrag_textbook_loader_df = pd.DataFrame(small_medrag_textbook_data, columns=[\"page_content\"])"
   ]
  },
  {
   "cell_type": "code",
   "execution_count": 99,
   "id": "42c26de3-8082-4250-8546-5dac88d09ec8",
   "metadata": {
    "execution": {
     "iopub.execute_input": "2024-11-17T14:39:20.132876Z",
     "iopub.status.busy": "2024-11-17T14:39:20.131919Z",
     "iopub.status.idle": "2024-11-17T14:39:20.142903Z",
     "shell.execute_reply": "2024-11-17T14:39:20.141990Z",
     "shell.execute_reply.started": "2024-11-17T14:39:20.132828Z"
    },
    "trusted": true
   },
   "outputs": [
    {
     "data": {
      "text/html": [
       "<div>\n",
       "<style scoped>\n",
       "    .dataframe tbody tr th:only-of-type {\n",
       "        vertical-align: middle;\n",
       "    }\n",
       "\n",
       "    .dataframe tbody tr th {\n",
       "        vertical-align: top;\n",
       "    }\n",
       "\n",
       "    .dataframe thead th {\n",
       "        text-align: right;\n",
       "    }\n",
       "</style>\n",
       "<table border=\"1\" class=\"dataframe\">\n",
       "  <thead>\n",
       "    <tr style=\"text-align: right;\">\n",
       "      <th></th>\n",
       "      <th>page_content</th>\n",
       "    </tr>\n",
       "  </thead>\n",
       "  <tbody>\n",
       "    <tr>\n",
       "      <th>0</th>\n",
       "      <td>\"Cell_Biology_Alberts. Figure 13\\u201346 The r...</td>\n",
       "    </tr>\n",
       "    <tr>\n",
       "      <th>1</th>\n",
       "      <td>\"Physiology_Levy. 12. How does the organizatio...</td>\n",
       "    </tr>\n",
       "    <tr>\n",
       "      <th>2</th>\n",
       "      <td>\"Immunology_Janeway. and cytoplasmic segments ...</td>\n",
       "    </tr>\n",
       "    <tr>\n",
       "      <th>3</th>\n",
       "      <td>\"Pediatrics_Nelson. Phimosis is rarely symptom...</td>\n",
       "    </tr>\n",
       "    <tr>\n",
       "      <th>4</th>\n",
       "      <td>\"Immunology_Janeway. was blocked. Normal numbe...</td>\n",
       "    </tr>\n",
       "  </tbody>\n",
       "</table>\n",
       "</div>"
      ],
      "text/plain": [
       "                                        page_content\n",
       "0  \"Cell_Biology_Alberts. Figure 13\\u201346 The r...\n",
       "1  \"Physiology_Levy. 12. How does the organizatio...\n",
       "2  \"Immunology_Janeway. and cytoplasmic segments ...\n",
       "3  \"Pediatrics_Nelson. Phimosis is rarely symptom...\n",
       "4  \"Immunology_Janeway. was blocked. Normal numbe..."
      ]
     },
     "execution_count": 99,
     "metadata": {},
     "output_type": "execute_result"
    }
   ],
   "source": [
    "medrag_textbook_loader_df.head()"
   ]
  },
  {
   "cell_type": "code",
   "execution_count": 66,
   "id": "a451fb00-6dad-43fc-9e51-2411363b0755",
   "metadata": {
    "execution": {
     "iopub.execute_input": "2024-11-17T13:18:53.998424Z",
     "iopub.status.busy": "2024-11-17T13:18:53.998092Z",
     "iopub.status.idle": "2024-11-17T13:18:54.156960Z",
     "shell.execute_reply": "2024-11-17T13:18:54.156062Z",
     "shell.execute_reply.started": "2024-11-17T13:18:53.998393Z"
    },
    "trusted": true
   },
   "outputs": [],
   "source": [
    "from giskard.rag import generate_testset, KnowledgeBase\n",
    "\n",
    "knowledge_base = KnowledgeBase.from_pandas(medrag_textbook_loader_df, columns=[\"id\",\"page_content\"], embedding_model=wrapped_embeddings)\n"
   ]
  },
  {
   "cell_type": "code",
   "execution_count": 67,
   "id": "167e4cfd-e022-4f74-baf6-c108497e4797",
   "metadata": {
    "execution": {
     "iopub.execute_input": "2024-11-17T13:18:54.160841Z",
     "iopub.status.busy": "2024-11-17T13:18:54.160503Z",
     "iopub.status.idle": "2024-11-17T13:53:51.546649Z",
     "shell.execute_reply": "2024-11-17T13:53:51.545684Z",
     "shell.execute_reply.started": "2024-11-17T13:18:54.160809Z"
    },
    "trusted": true
   },
   "outputs": [
    {
     "data": {
      "application/vnd.jupyter.widget-view+json": {
       "model_id": "33784e5eacf24dfaa5cf3e827e2e95a2",
       "version_major": 2,
       "version_minor": 0
      },
      "text/plain": [
       "Generating questions:   0%|          | 0/550 [00:00<?, ?it/s]"
      ]
     },
     "metadata": {},
     "output_type": "display_data"
    }
   ],
   "source": [
    "testset = generate_testset(\n",
    "    knowledge_base,\n",
    "    num_questions=550,\n",
    "    language='en',  # optional, we'll auto detect if not provided\n",
    "    agent_description=\"A medical chatbot\", # helps generating better questions\n",
    ")"
   ]
  },
  {
   "cell_type": "code",
   "execution_count": 68,
   "id": "b80e30a7-1537-4273-bfd9-c7c30e427687",
   "metadata": {
    "execution": {
     "iopub.execute_input": "2024-11-17T13:53:51.548608Z",
     "iopub.status.busy": "2024-11-17T13:53:51.548184Z",
     "iopub.status.idle": "2024-11-17T13:53:51.599776Z",
     "shell.execute_reply": "2024-11-17T13:53:51.598763Z",
     "shell.execute_reply.started": "2024-11-17T13:53:51.548559Z"
    },
    "trusted": true
   },
   "outputs": [],
   "source": [
    "# Save the generated testset\n",
    "testset.save(\"my_testset.jsonl\")\n",
    "\n",
    "# You can easily load it back\n",
    "from giskard.rag import QATestset\n",
    "\n",
    "loaded_testset = QATestset.load(\"my_testset.jsonl\")"
   ]
  },
  {
   "cell_type": "code",
   "execution_count": 69,
   "id": "7dfaeaf5-5fc2-4c08-968e-9983d0b38744",
   "metadata": {
    "execution": {
     "iopub.execute_input": "2024-11-17T13:53:51.602580Z",
     "iopub.status.busy": "2024-11-17T13:53:51.601589Z",
     "iopub.status.idle": "2024-11-17T13:53:51.606924Z",
     "shell.execute_reply": "2024-11-17T13:53:51.605894Z",
     "shell.execute_reply.started": "2024-11-17T13:53:51.602516Z"
    },
    "trusted": true
   },
   "outputs": [],
   "source": [
    "test_df = loaded_testset.to_pandas()\n"
   ]
  },
  {
   "cell_type": "code",
   "execution_count": 70,
   "id": "6496ba9a-4836-4554-9e5c-817bf87cb411",
   "metadata": {
    "execution": {
     "iopub.execute_input": "2024-11-17T13:53:51.608350Z",
     "iopub.status.busy": "2024-11-17T13:53:51.608028Z",
     "iopub.status.idle": "2024-11-17T13:53:51.628082Z",
     "shell.execute_reply": "2024-11-17T13:53:51.627181Z",
     "shell.execute_reply.started": "2024-11-17T13:53:51.608316Z"
    },
    "trusted": true
   },
   "outputs": [
    {
     "data": {
      "text/html": [
       "<div>\n",
       "<style scoped>\n",
       "    .dataframe tbody tr th:only-of-type {\n",
       "        vertical-align: middle;\n",
       "    }\n",
       "\n",
       "    .dataframe tbody tr th {\n",
       "        vertical-align: top;\n",
       "    }\n",
       "\n",
       "    .dataframe thead th {\n",
       "        text-align: right;\n",
       "    }\n",
       "</style>\n",
       "<table border=\"1\" class=\"dataframe\">\n",
       "  <thead>\n",
       "    <tr style=\"text-align: right;\">\n",
       "      <th></th>\n",
       "      <th>question</th>\n",
       "      <th>reference_answer</th>\n",
       "      <th>reference_context</th>\n",
       "      <th>conversation_history</th>\n",
       "      <th>metadata</th>\n",
       "    </tr>\n",
       "    <tr>\n",
       "      <th>id</th>\n",
       "      <th></th>\n",
       "      <th></th>\n",
       "      <th></th>\n",
       "      <th></th>\n",
       "      <th></th>\n",
       "    </tr>\n",
       "  </thead>\n",
       "  <tbody>\n",
       "    <tr>\n",
       "      <th>bafdc266-3a82-4ddf-9484-08c7a40d747b</th>\n",
       "      <td>What is the smallest detail that can be resolv...</td>\n",
       "      <td>The light microscope can resolve details 0.2 μ...</td>\n",
       "      <td>Document 434: page_content: \"Cell_Biology_Albe...</td>\n",
       "      <td>[]</td>\n",
       "      <td>{'question_type': 'simple', 'seed_document_id'...</td>\n",
       "    </tr>\n",
       "    <tr>\n",
       "      <th>d53903b3-7a45-436d-82e1-956404718cc1</th>\n",
       "      <td>What should be considered for patients with ch...</td>\n",
       "      <td>Patients who do not respond to conventional th...</td>\n",
       "      <td>Document 4390: page_content: \"InternalMed_Harr...</td>\n",
       "      <td>[]</td>\n",
       "      <td>{'question_type': 'simple', 'seed_document_id'...</td>\n",
       "    </tr>\n",
       "    <tr>\n",
       "      <th>c0c48ffe-998c-4237-952c-c73b6912746c</th>\n",
       "      <td>Can heparin treatment for deep-vein thrombosis...</td>\n",
       "      <td>Yes, full-dose heparin can be restarted severa...</td>\n",
       "      <td>Document 2207: page_content: \"Obstentrics_Will...</td>\n",
       "      <td>[]</td>\n",
       "      <td>{'question_type': 'simple', 'seed_document_id'...</td>\n",
       "    </tr>\n",
       "    <tr>\n",
       "      <th>61c2056d-fb20-4f56-9002-3c2c01f76fef</th>\n",
       "      <td>What is the function of BTLA when it and HVEM ...</td>\n",
       "      <td>When BTLA and HVEM are co-expressed on the sam...</td>\n",
       "      <td>Document 517: page_content: \"Immunology_Janewa...</td>\n",
       "      <td>[]</td>\n",
       "      <td>{'question_type': 'simple', 'seed_document_id'...</td>\n",
       "    </tr>\n",
       "    <tr>\n",
       "      <th>83e28e86-fc81-4180-bfd4-c424816d60f5</th>\n",
       "      <td>What is the principal clinical usefulness of H...</td>\n",
       "      <td>The principal clinical usefulness of HBeAg in ...</td>\n",
       "      <td>Document 2933: page_content: \"InternalMed_Harr...</td>\n",
       "      <td>[]</td>\n",
       "      <td>{'question_type': 'simple', 'seed_document_id'...</td>\n",
       "    </tr>\n",
       "  </tbody>\n",
       "</table>\n",
       "</div>"
      ],
      "text/plain": [
       "                                                                               question  \\\n",
       "id                                                                                        \n",
       "bafdc266-3a82-4ddf-9484-08c7a40d747b  What is the smallest detail that can be resolv...   \n",
       "d53903b3-7a45-436d-82e1-956404718cc1  What should be considered for patients with ch...   \n",
       "c0c48ffe-998c-4237-952c-c73b6912746c  Can heparin treatment for deep-vein thrombosis...   \n",
       "61c2056d-fb20-4f56-9002-3c2c01f76fef  What is the function of BTLA when it and HVEM ...   \n",
       "83e28e86-fc81-4180-bfd4-c424816d60f5  What is the principal clinical usefulness of H...   \n",
       "\n",
       "                                                                       reference_answer  \\\n",
       "id                                                                                        \n",
       "bafdc266-3a82-4ddf-9484-08c7a40d747b  The light microscope can resolve details 0.2 μ...   \n",
       "d53903b3-7a45-436d-82e1-956404718cc1  Patients who do not respond to conventional th...   \n",
       "c0c48ffe-998c-4237-952c-c73b6912746c  Yes, full-dose heparin can be restarted severa...   \n",
       "61c2056d-fb20-4f56-9002-3c2c01f76fef  When BTLA and HVEM are co-expressed on the sam...   \n",
       "83e28e86-fc81-4180-bfd4-c424816d60f5  The principal clinical usefulness of HBeAg in ...   \n",
       "\n",
       "                                                                      reference_context  \\\n",
       "id                                                                                        \n",
       "bafdc266-3a82-4ddf-9484-08c7a40d747b  Document 434: page_content: \"Cell_Biology_Albe...   \n",
       "d53903b3-7a45-436d-82e1-956404718cc1  Document 4390: page_content: \"InternalMed_Harr...   \n",
       "c0c48ffe-998c-4237-952c-c73b6912746c  Document 2207: page_content: \"Obstentrics_Will...   \n",
       "61c2056d-fb20-4f56-9002-3c2c01f76fef  Document 517: page_content: \"Immunology_Janewa...   \n",
       "83e28e86-fc81-4180-bfd4-c424816d60f5  Document 2933: page_content: \"InternalMed_Harr...   \n",
       "\n",
       "                                     conversation_history  \\\n",
       "id                                                          \n",
       "bafdc266-3a82-4ddf-9484-08c7a40d747b                   []   \n",
       "d53903b3-7a45-436d-82e1-956404718cc1                   []   \n",
       "c0c48ffe-998c-4237-952c-c73b6912746c                   []   \n",
       "61c2056d-fb20-4f56-9002-3c2c01f76fef                   []   \n",
       "83e28e86-fc81-4180-bfd4-c424816d60f5                   []   \n",
       "\n",
       "                                                                               metadata  \n",
       "id                                                                                       \n",
       "bafdc266-3a82-4ddf-9484-08c7a40d747b  {'question_type': 'simple', 'seed_document_id'...  \n",
       "d53903b3-7a45-436d-82e1-956404718cc1  {'question_type': 'simple', 'seed_document_id'...  \n",
       "c0c48ffe-998c-4237-952c-c73b6912746c  {'question_type': 'simple', 'seed_document_id'...  \n",
       "61c2056d-fb20-4f56-9002-3c2c01f76fef  {'question_type': 'simple', 'seed_document_id'...  \n",
       "83e28e86-fc81-4180-bfd4-c424816d60f5  {'question_type': 'simple', 'seed_document_id'...  "
      ]
     },
     "execution_count": 70,
     "metadata": {},
     "output_type": "execute_result"
    }
   ],
   "source": [
    "test_df.head()"
   ]
  },
  {
   "cell_type": "code",
   "execution_count": 100,
   "id": "15611570-0fcc-4e4e-88c7-025a94c01d9a",
   "metadata": {
    "execution": {
     "iopub.execute_input": "2024-11-17T14:39:20.144265Z",
     "iopub.status.busy": "2024-11-17T14:39:20.143999Z",
     "iopub.status.idle": "2024-11-17T14:39:20.154407Z",
     "shell.execute_reply": "2024-11-17T14:39:20.153449Z",
     "shell.execute_reply.started": "2024-11-17T14:39:20.144235Z"
    },
    "trusted": true
   },
   "outputs": [],
   "source": [
    "excluded_docs = set(small_medrag_textbook_data)\n"
   ]
  },
  {
   "cell_type": "code",
   "execution_count": 101,
   "id": "ed2b06e5-1d11-4280-b7e5-586690e98589",
   "metadata": {
    "execution": {
     "iopub.execute_input": "2024-11-17T14:39:20.155922Z",
     "iopub.status.busy": "2024-11-17T14:39:20.155525Z",
     "iopub.status.idle": "2024-11-17T14:39:20.259799Z",
     "shell.execute_reply": "2024-11-17T14:39:20.258917Z",
     "shell.execute_reply.started": "2024-11-17T14:39:20.155890Z"
    },
    "trusted": true
   },
   "outputs": [
    {
     "name": "stdout",
     "output_type": "stream",
     "text": [
      "5000\n"
     ]
    }
   ],
   "source": [
    "import random\n",
    "remaining_docs = [doc for doc in medrag_textbook_data if doc not in excluded_docs]\n",
    "\n",
    "small_medrag_textbook_data2 = random.sample(remaining_docs, 5000)\n",
    "print(len(small_medrag_textbook_data2))"
   ]
  },
  {
   "cell_type": "code",
   "execution_count": 102,
   "id": "6ca19150-e6e6-4f92-952e-0d39f8fcf1be",
   "metadata": {
    "execution": {
     "iopub.execute_input": "2024-11-17T14:39:20.261308Z",
     "iopub.status.busy": "2024-11-17T14:39:20.260983Z",
     "iopub.status.idle": "2024-11-17T14:39:20.266389Z",
     "shell.execute_reply": "2024-11-17T14:39:20.265409Z",
     "shell.execute_reply.started": "2024-11-17T14:39:20.261264Z"
    },
    "trusted": true
   },
   "outputs": [],
   "source": [
    "import pandas as pd\n",
    "medrag_textbook_loader_df_2 = pd.DataFrame(small_medrag_textbook_data2, columns=[\"page_content\"])"
   ]
  },
  {
   "cell_type": "code",
   "execution_count": 103,
   "id": "0ef534aa-c795-4d31-9e7b-beae27490587",
   "metadata": {
    "execution": {
     "iopub.execute_input": "2024-11-17T14:39:20.268005Z",
     "iopub.status.busy": "2024-11-17T14:39:20.267629Z",
     "iopub.status.idle": "2024-11-17T14:39:20.436394Z",
     "shell.execute_reply": "2024-11-17T14:39:20.435376Z",
     "shell.execute_reply.started": "2024-11-17T14:39:20.267961Z"
    },
    "trusted": true
   },
   "outputs": [],
   "source": [
    "from giskard.rag import generate_testset, KnowledgeBase\n",
    "\n",
    "knowledge_base_2 = KnowledgeBase.from_pandas(medrag_textbook_loader_df_2, columns=[\"id\",\"page_content\"], embedding_model=wrapped_embeddings)\n"
   ]
  },
  {
   "cell_type": "code",
   "execution_count": 104,
   "id": "f6cf929c-00ad-423b-a3b2-95df11daf902",
   "metadata": {
    "execution": {
     "iopub.execute_input": "2024-11-17T14:39:20.439047Z",
     "iopub.status.busy": "2024-11-17T14:39:20.438750Z",
     "iopub.status.idle": "2024-11-17T15:17:37.350988Z",
     "shell.execute_reply": "2024-11-17T15:17:37.349731Z",
     "shell.execute_reply.started": "2024-11-17T14:39:20.439015Z"
    },
    "trusted": true
   },
   "outputs": [
    {
     "data": {
      "application/vnd.jupyter.widget-view+json": {
       "model_id": "18247610abbd404b8c86d8bbac9e74e2",
       "version_major": 2,
       "version_minor": 0
      },
      "text/plain": [
       "Generating questions:   0%|          | 0/550 [00:00<?, ?it/s]"
      ]
     },
     "metadata": {},
     "output_type": "display_data"
    }
   ],
   "source": [
    "testset = generate_testset(\n",
    "    knowledge_base_2,\n",
    "    num_questions=550,\n",
    "    language='en',  # optional, we'll auto detect if not provided\n",
    "    agent_description=\"A medical chatbot\", # helps generating better questions\n",
    ")"
   ]
  },
  {
   "cell_type": "code",
   "execution_count": 105,
   "id": "96d3a87e-fe38-4be7-aab8-9048513c5bfa",
   "metadata": {
    "execution": {
     "iopub.execute_input": "2024-11-17T15:17:37.352956Z",
     "iopub.status.busy": "2024-11-17T15:17:37.352588Z",
     "iopub.status.idle": "2024-11-17T15:17:37.428355Z",
     "shell.execute_reply": "2024-11-17T15:17:37.427521Z",
     "shell.execute_reply.started": "2024-11-17T15:17:37.352918Z"
    },
    "trusted": true
   },
   "outputs": [],
   "source": [
    "# Save the generated testset\n",
    "testset.save(\"my_testset2.jsonl\")\n",
    "\n",
    "# You can easily load it back\n",
    "from giskard.rag import QATestset\n",
    "\n",
    "loaded_testset = QATestset.load(\"my_testset2.jsonl\")"
   ]
  },
  {
   "cell_type": "code",
   "execution_count": null,
   "id": "472ef767-aab1-43c9-81fe-fe96619be7b6",
   "metadata": {
    "trusted": true
   },
   "outputs": [],
   "source": []
  },
  {
   "cell_type": "code",
   "execution_count": 71,
   "id": "137f59b3-7f8f-4c9c-9bf9-bc4b4dc6ef10",
   "metadata": {
    "execution": {
     "iopub.execute_input": "2024-11-17T13:53:51.629846Z",
     "iopub.status.busy": "2024-11-17T13:53:51.629558Z",
     "iopub.status.idle": "2024-11-17T13:53:51.639657Z",
     "shell.execute_reply": "2024-11-17T13:53:51.638776Z",
     "shell.execute_reply.started": "2024-11-17T13:53:51.629815Z"
    },
    "trusted": true
   },
   "outputs": [
    {
     "data": {
      "text/plain": [
       "question                Can heparin treatment for deep-vein thrombosis...\n",
       "reference_answer        Yes, full-dose heparin can be restarted severa...\n",
       "reference_context       Document 2207: page_content: \"Obstentrics_Will...\n",
       "conversation_history                                                   []\n",
       "metadata                {'question_type': 'simple', 'seed_document_id'...\n",
       "Name: c0c48ffe-998c-4237-952c-c73b6912746c, dtype: object"
      ]
     },
     "execution_count": 71,
     "metadata": {},
     "output_type": "execute_result"
    }
   ],
   "source": [
    "test_df.iloc[2]"
   ]
  },
  {
   "cell_type": "code",
   "execution_count": 73,
   "id": "740bd601-1ad3-414f-820a-457b67ded620",
   "metadata": {
    "execution": {
     "iopub.execute_input": "2024-11-17T13:55:49.505474Z",
     "iopub.status.busy": "2024-11-17T13:55:49.504919Z",
     "iopub.status.idle": "2024-11-17T13:55:49.514580Z",
     "shell.execute_reply": "2024-11-17T13:55:49.513496Z",
     "shell.execute_reply.started": "2024-11-17T13:55:49.505416Z"
    },
    "trusted": true
   },
   "outputs": [
    {
     "data": {
      "text/plain": [
       "550"
      ]
     },
     "execution_count": 73,
     "metadata": {},
     "output_type": "execute_result"
    }
   ],
   "source": [
    "test_df.shape[0]"
   ]
  }
 ],
 "metadata": {
  "kaggle": {
   "accelerator": "nvidiaTeslaT4",
   "dataSources": [],
   "dockerImageVersionId": 30787,
   "isGpuEnabled": true,
   "isInternetEnabled": true,
   "language": "python",
   "sourceType": "notebook"
  },
  "kernelspec": {
   "display_name": "Python 3",
   "language": "python",
   "name": "python3"
  },
  "language_info": {
   "codemirror_mode": {
    "name": "ipython",
    "version": 3
   },
   "file_extension": ".py",
   "mimetype": "text/x-python",
   "name": "python",
   "nbconvert_exporter": "python",
   "pygments_lexer": "ipython3",
   "version": "3.10.14"
  }
 },
 "nbformat": 4,
 "nbformat_minor": 5
}
